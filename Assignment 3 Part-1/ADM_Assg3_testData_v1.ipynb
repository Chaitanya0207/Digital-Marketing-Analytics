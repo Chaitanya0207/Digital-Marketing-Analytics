{
  "nbformat": 4,
  "nbformat_minor": 0,
  "metadata": {
    "colab": {
      "name": "ADM_Assg3_testData_v1.ipynb",
      "provenance": [],
      "collapsed_sections": []
    },
    "kernelspec": {
      "name": "python3",
      "display_name": "Python 3"
    }
  },
  "cells": [
    {
      "cell_type": "markdown",
      "metadata": {
        "id": "Mh_hfYbv3Y70",
        "colab_type": "text"
      },
      "source": [
        "## 1. How is sales related to week numbers?\n",
        "-> There exists a non-linear relationship between sales and time period which showcases a  dynamic and diminishing return effects because of factors like TV and Radio ads. Hence it is either an increase or decrease in sales wrt time period because of the above effect.\n",
        "\n",
        "![](https://drive.google.com/uc?id=1jiVJts8mwl-hlxz30P_xjzgyyXxBvivw)\n",
        "\n",
        "## 2. How does TV spending effect sales?Can you quantify it?\n",
        "->  TV spending is definitely benefitting our sales. From our analysis, we confirm that spending on TV ads, we observe there is both an increase and decrease in sales since it is nonlinearly related, but overall there is an increase because of the awareness and publicity created by the ads resulting in a positive impact. Yes we can quantify the sales by taking the difference between tv_Sales_1 and base_line, tv_Sales_2 and base_line.\n",
        "\n",
        "![](https://drive.google.com/uc?id=1PRKr3MtlP9UTOuLStkQjfcNHTdEB5Xhe)\n",
        "![](https://drive.google.com/uc?id=1Cg06sk9-i3-Coat7mJm8XqgCV8KRgKZi)\n",
        "\n",
        "## 3. Are there any adstock effects for TV ad spending?\n",
        "-> Yes, there are adstock effects for TV ad spending.\n",
        "There is a carry over effect from the previous week affecting sales positively, while decrease in the sales is observed due to the diminishing effects of ads.\n",
        "\n",
        "![](https://drive.google.com/uc?id=1aE06117nNTCsLua6pGfZWegBukSMpiYs)\n",
        "\n",
        "![](https://drive.google.com/uc?id=1EKLI6bdIvvUmTtg1ansLQRUuSV0VYfsQ)\n",
        "\n",
        "## 4. How does radio spending affect sales?\n",
        "-> Radio spending is not much of significance when it comes to increasing sales. TV spending is much more significant when compared to radio spending.\n",
        "We have reached to this conclusion because after analyzing the data, not much of increase is observed in sales whenever we do radio spending. \n",
        "\n",
        "![](https://drive.google.com/uc?id=1Vc1M3YAYeYBIiK0XzrhhHFMiuQG9T34A)\n",
        "\n",
        "\n",
        "\n",
        "# 5. Are there any adstock effects for radio ad spending?\n",
        "-> No, there is not much significant adstock effect for radio ad spending in the given data. \n",
        "\n",
        "![](https://drive.google.com/uc?id=1Le8uEZc0NnFaL49dhql2NS4oimv_yUY4)\n",
        "\n",
        "![](https://drive.google.com/uc?id=1-xVCs-TLV3ju919CPZcxCH5CdJ_0ioPA)\n",
        "\n",
        "# Effect of Temperature on Sales\n",
        "Moreover, it is also observed that the sales are dependent on to a certain level on the temperature factor as well. \n",
        "![](https://drive.google.com/uc?id=1v_hzzlkhXkX-H8rJgRPVD1Xyv-KFfod_)"
      ]
    },
    {
      "cell_type": "code",
      "metadata": {
        "id": "a1uxYc5lln-V",
        "colab_type": "code",
        "colab": {}
      },
      "source": [
        ""
      ],
      "execution_count": 0,
      "outputs": []
    }
  ]
}