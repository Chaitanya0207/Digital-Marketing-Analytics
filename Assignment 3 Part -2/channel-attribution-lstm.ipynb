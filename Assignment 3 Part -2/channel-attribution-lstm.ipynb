{
 "cells": [
  {
   "cell_type": "markdown",
   "metadata": {},
   "source": [
    "# Multi-touch Multi-channel Attribution Model Using LSTM with Attention\n",
    "\n",
    "This is an attribution model that uses LSTM with attention to assign weights to touchpoints. \n",
    "\n",
    "| Description | D001 (see [descriptions](https://github.com/ikatsov/tensor-house/blob/master/resources/descriptions.md)) |\n",
    "|--|:--|\n",
    "| Dataset | Criteo (see [datasets](https://github.com/ikatsov/tensor-house/blob/master/resources/datsets.md)) |\n",
    "| Papers | Li2018, Ren2018 (see [papers](https://github.com/ikatsov/tensor-house/blob/master/resources/papers.md)) | \n",
    "| Installation | Download the dataset to 'data' folder |\n",
    "| Libs | Keras, Scikit-learn, Pandas, Numpy |"
   ]
  },
  {
   "cell_type": "markdown",
   "metadata": {},
   "source": [
    "### Data description\n",
    "This dataset represents a sample of 30 days of Criteo live traffic data. Each line corresponds to one impression (a banner) that was displayed to a user. For each banner we have detailed information about the context, if it was clicked, if it led to a conversion and if it led to a conversion that was attributed to Criteo or not. Data has been sub-sampled and anonymized so as not to disclose proprietary elements.\n",
    "\n",
    "Here is a detailed description of the fields (they are tab-separated in the file):\n",
    "\n",
    "* timestamp: timestamp of the impression (starting from 0 for the first impression). The dataset is sorted according to timestamp.\n",
    "* uid: a unique user identifier\n",
    "* campaign: a unique identifier for the campaign\n",
    "* conversion: 1 if there was a conversion in the 30 days after the impression (independently of whether this impression was last click or not)\n",
    "* conversion_timestamp: the timestamp of the conversion or -1 if no conversion was observed\n",
    "* conversion_id: a unique identifier for each conversion (so that timelines can be reconstructed if needed). -1 if there was no conversion\n",
    "* attribution: 1 if the conversion was attributed to Criteo, 0 otherwise\n",
    "* click: 1 if the impression was clicked, 0 otherwise\n",
    "* click_pos: the position of the click before a conversion (0 for first-click)\n",
    "* click_nb: number of clicks. More than 1 if there was several clicks before a conversion\n",
    "* cost: the price paid by Criteo for this display (disclaimer: not the real price, only a transformed version of it)\n",
    "* cpo: the cost-per-order in case of attributed conversion (disclaimer: not the real price, only a transformed version of it)\n",
    "* time_since_last_click: the time since the last click (in s) for the given impression\n",
    "* cat(1-9): contextual features associated to the display. Can be used to learn the click/conversion models. We do not disclose the meaning of these features but it is not relevant for this study. Each column is a categorical variable. In the experiments, they are mapped to a fixed dimensionality space using the Hashing Trick (see paper for reference).\n",
    "\n",
    "### Key figures\n",
    "* 2.4Gb uncompressed\n",
    "* 16.5M impressions\n",
    "* 45K conversions\n",
    "* 700 campaigns"
   ]
  },
  {
   "cell_type": "code",
   "execution_count": 1,
   "metadata": {},
   "outputs": [
    {
     "name": "stderr",
     "output_type": "stream",
     "text": [
      "Using TensorFlow backend.\n"
     ]
    }
   ],
   "source": [
    "import pandas as pd\n",
    "import matplotlib.pyplot as plt \n",
    "import numpy as np\n",
    "\n",
    "from sklearn.utils import resample\n",
    "from sklearn.preprocessing import MinMaxScaler\n",
    "from sklearn.model_selection import train_test_split\n",
    "\n",
    "import keras\n",
    "\n",
    "plt.style.use('ggplot')"
   ]
  },
  {
   "cell_type": "code",
   "execution_count": 2,
   "metadata": {},
   "outputs": [
    {
     "name": "stdout",
     "output_type": "stream",
     "text": [
      "50257\n",
      "[25304, 24953]\n"
     ]
    }
   ],
   "source": [
    "# Initial data preparation\n",
    "\n",
    "def add_derived_columns(df):\n",
    "    df_ext = df.copy()\n",
    "    df_ext['jid'] = df_ext['uid'].map(str) + '_' + df_ext['conversion_id'].map(str)\n",
    "    \n",
    "    min_max_scaler = MinMaxScaler()\n",
    "    for cname in ('timestamp', 'time_since_last_click'):\n",
    "        x = df_ext[cname].values.reshape(-1, 1) \n",
    "        df_ext[cname + '_norm'] = min_max_scaler.fit_transform(x)\n",
    "    \n",
    "    return df_ext\n",
    "\n",
    "def filter_journeys_by_length(df, min_touchpoints):\n",
    "    if min_touchpoints <= 1:\n",
    "        return df\n",
    "    else:\n",
    "        grouped = df.groupby(['jid'])['uid'].count().reset_index(name=\"count\")\n",
    "        return df[df['jid'].isin( grouped[grouped['count'] >= min_touchpoints]['jid'].values )]\n",
    "\n",
    "def sample_campaigns(df, n_campaigns):    \n",
    "    campaigns = np.random.choice( df['campaign'].unique(), n_campaigns, replace = False )\n",
    "    return df[ df['campaign'].isin(campaigns) ]\n",
    "\n",
    "def balance_conversions(df):\n",
    "    df_minority = df[df.conversion == 1]\n",
    "    df_majority = df[df.conversion == 0]\n",
    "    \n",
    "    df_majority_jids = np.array_split(df_majority['jid'].unique(), 100 * df_majority.shape[0]/df_minority.shape[0] )\n",
    "    \n",
    "    df_majority_sampled = pd.DataFrame(data=None, columns=df.columns)\n",
    "    for jid_chunk in df_majority_jids:\n",
    "        df_majority_sampled = pd.concat([df_majority_sampled, df_majority[df_majority.jid.isin(jid_chunk)]])\n",
    "        if df_majority_sampled.shape[0] > df_minority.shape[0]:\n",
    "            break\n",
    "    \n",
    "    return pd.concat([df_majority_sampled, df_minority]).sample(frac=1).reset_index(drop=True)\n",
    "\n",
    "def map_one_hot(df, column_names, result_column_name):\n",
    "    mapper = {} \n",
    "    for i, col_name in enumerate(column_names):\n",
    "        for val in df[col_name].unique():\n",
    "            mapper[str(val) + str(i)] = len(mapper)\n",
    "         \n",
    "    df_ext = df.copy()\n",
    "    \n",
    "    def one_hot(values):\n",
    "        v = np.zeros( len(mapper) )\n",
    "        for i, val in enumerate(values): \n",
    "            v[ mapper[str(val) + str(i)] ] = 1\n",
    "        return v    \n",
    "    \n",
    "    df_ext[result_column_name] = df_ext[column_names].values.tolist()\n",
    "    df_ext[result_column_name] = df_ext[result_column_name].map(one_hot)\n",
    "    \n",
    "    return df_ext\n",
    "    \n",
    "data_file = 'criteo_attribution_dataset.tsv.gz'\n",
    "df0 = pd.read_csv(data_file, sep='\\t', compression='gzip')\n",
    "\n",
    "n_campaigns = 50\n",
    "\n",
    "df1 = add_derived_columns(df0)\n",
    "df2 = sample_campaigns(df1, n_campaigns)\n",
    "df3 = filter_journeys_by_length(df2, 2)\n",
    "df4 = balance_conversions(df3)\n",
    "df5 = map_one_hot(df4, ['cat1', 'cat2', 'cat3', 'cat4', 'cat5', 'cat6', 'cat8'], 'cats')\n",
    "df6 = map_one_hot(df5, ['campaign'], 'campaigns').sort_values(by=['timestamp_norm'])\n",
    "\n",
    "print(df6.shape[0])\n",
    "print([df6[df6.conversion == 0].shape[0], df6[df6.conversion == 1].shape[0]])"
   ]
  },
  {
   "cell_type": "code",
   "execution_count": 3,
   "metadata": {},
   "outputs": [
    {
     "data": {
      "text/plain": [
       "timestamp                     50257\n",
       "uid                           50257\n",
       "campaign                      50257\n",
       "conversion                    50257\n",
       "conversion_timestamp          50257\n",
       "conversion_id                 50257\n",
       "attribution                   50257\n",
       "click                         50257\n",
       "click_pos                     50257\n",
       "click_nb                      50257\n",
       "cost                          50257\n",
       "cpo                           50257\n",
       "time_since_last_click         50257\n",
       "cat1                          50257\n",
       "cat2                          50257\n",
       "cat3                          50257\n",
       "cat4                          50257\n",
       "cat5                          50257\n",
       "cat6                          50257\n",
       "cat7                          50257\n",
       "cat8                          50257\n",
       "cat9                          50257\n",
       "jid                           50257\n",
       "timestamp_norm                50257\n",
       "time_since_last_click_norm    50257\n",
       "cats                          50257\n",
       "campaigns                     50257\n",
       "dtype: int64"
      ]
     },
     "execution_count": 3,
     "metadata": {},
     "output_type": "execute_result"
    }
   ],
   "source": [
    "df6.count()"
   ]
  },
  {
   "cell_type": "code",
   "execution_count": 408,
   "metadata": {},
   "outputs": [
    {
     "ename": "NameError",
     "evalue": "name 'hist_all' is not defined",
     "output_type": "error",
     "traceback": [
      "\u001b[1;31m---------------------------------------------------------------------------\u001b[0m",
      "\u001b[1;31mNameError\u001b[0m                                 Traceback (most recent call last)",
      "\u001b[1;32m<ipython-input-408-196b7a3d5413>\u001b[0m in \u001b[0;36m<module>\u001b[1;34m\u001b[0m\n\u001b[0;32m      6\u001b[0m \u001b[0mhist_x\u001b[0m\u001b[1;33m,\u001b[0m \u001b[0mhist_y\u001b[0m \u001b[1;33m=\u001b[0m \u001b[0mjourney_lenght_histogram\u001b[0m\u001b[1;33m(\u001b[0m\u001b[0mdf4\u001b[0m\u001b[1;33m)\u001b[0m\u001b[1;33m\u001b[0m\u001b[1;33m\u001b[0m\u001b[0m\n\u001b[0;32m      7\u001b[0m \u001b[1;33m\u001b[0m\u001b[0m\n\u001b[1;32m----> 8\u001b[1;33m \u001b[0mplt\u001b[0m\u001b[1;33m.\u001b[0m\u001b[0mplot\u001b[0m\u001b[1;33m(\u001b[0m\u001b[0mrange\u001b[0m\u001b[1;33m(\u001b[0m\u001b[0mlen\u001b[0m\u001b[1;33m(\u001b[0m\u001b[0mhist_all\u001b[0m\u001b[1;33m)\u001b[0m\u001b[1;33m)\u001b[0m\u001b[1;33m,\u001b[0m \u001b[0mhist_all\u001b[0m\u001b[1;33m,\u001b[0m \u001b[0mlabel\u001b[0m\u001b[1;33m=\u001b[0m\u001b[1;34m'all journeys'\u001b[0m\u001b[1;33m)\u001b[0m\u001b[1;33m\u001b[0m\u001b[1;33m\u001b[0m\u001b[0m\n\u001b[0m\u001b[0;32m      9\u001b[0m \u001b[0mplt\u001b[0m\u001b[1;33m.\u001b[0m\u001b[0myscale\u001b[0m\u001b[1;33m(\u001b[0m\u001b[1;34m'log'\u001b[0m\u001b[1;33m)\u001b[0m\u001b[1;33m\u001b[0m\u001b[1;33m\u001b[0m\u001b[0m\n\u001b[0;32m     10\u001b[0m \u001b[0mplt\u001b[0m\u001b[1;33m.\u001b[0m\u001b[0mxlim\u001b[0m\u001b[1;33m(\u001b[0m\u001b[1;36m0\u001b[0m\u001b[1;33m,\u001b[0m \u001b[1;36m120\u001b[0m\u001b[1;33m)\u001b[0m\u001b[1;33m\u001b[0m\u001b[1;33m\u001b[0m\u001b[0m\n",
      "\u001b[1;31mNameError\u001b[0m: name 'hist_all' is not defined"
     ]
    }
   ],
   "source": [
    "# Data exploration\n",
    "def journey_lenght_histogram(df):\n",
    "    counts = df.groupby(['jid'])['uid'].count().reset_index(name=\"count\").groupby(['count']).count()\n",
    "    return counts.index, counts.values / df.shape[0]\n",
    "\n",
    "hist_x, hist_y = journey_lenght_histogram(df4)\n",
    "\n",
    "plt.plot(range(len(hist_all)), hist_all, label='all journeys')\n",
    "plt.yscale('log')\n",
    "plt.xlim(0, 120)\n",
    "plt.xlabel('Journey length (number of touchpoints)')\n",
    "plt.ylabel('Fraction of journeys')\n",
    "plt.show()"
   ]
  },
  {
   "cell_type": "markdown",
   "metadata": {},
   "source": [
    "## Last Touch Attribution"
   ]
  },
  {
   "cell_type": "code",
   "execution_count": 4,
   "metadata": {},
   "outputs": [],
   "source": [
    "def last_touch_attribution(df):\n",
    "    \n",
    "    def count_by_campaign(df):\n",
    "        counters = np.zeros(n_campaigns)\n",
    "        for campaign_one_hot in df['campaigns'].values:\n",
    "            campaign_id = np.argmax(campaign_one_hot)\n",
    "            counters[campaign_id] = counters[campaign_id] + 1\n",
    "        return counters\n",
    "        \n",
    "    campaign_impressions = count_by_campaign(df)\n",
    "    \n",
    "    df_converted = df[df['conversion'] == 1]\n",
    "    idx = df_converted.groupby(['jid'])['timestamp_norm'].transform(max) == df_converted['timestamp_norm']\n",
    "    campaign_conversions = count_by_campaign(df_converted[idx])\n",
    "        \n",
    "    return campaign_conversions / campaign_impressions\n",
    "    \n",
    "lta = last_touch_attribution(df6)"
   ]
  },
  {
   "cell_type": "code",
   "execution_count": 5,
   "metadata": {},
   "outputs": [
    {
     "data": {
      "text/plain": [
       "array([0.32575024, 0.18116856, 0.03393214, 0.11188811, 0.06576844,\n",
       "       0.10510779, 0.11566707, 0.1529052 , 0.1037234 , 0.12603461,\n",
       "       0.06140351, 0.08656716, 0.13213703, 0.34042553, 0.13389121,\n",
       "       0.05108055, 0.17412935, 0.05913043, 0.08436725, 0.27192982,\n",
       "       0.15240642, 0.17607223, 0.32908459, 0.15584416, 0.34210526,\n",
       "       0.14      , 0.3       , 0.11564626, 0.05582524, 0.30994152,\n",
       "       0.08108108, 0.25688073, 0.04411765, 0.11328125, 0.19158879,\n",
       "       0.1978022 , 0.05084746, 0.0625    , 0.20652174, 0.20967742,\n",
       "       0.23214286, 0.14285714, 0.33333333, 0.29761905, 0.28813559,\n",
       "       0.05263158, 0.14      , 0.03448276, 0.03669725, 0.        ])"
      ]
     },
     "execution_count": 5,
     "metadata": {},
     "output_type": "execute_result"
    }
   ],
   "source": [
    "lta"
   ]
  },
  {
   "cell_type": "code",
   "execution_count": 6,
   "metadata": {
    "scrolled": true
   },
   "outputs": [
    {
     "data": {
      "image/png": "[encoded data removed]",
      "text/plain": [
       "<Figure size 1080x288 with 1 Axes>"
      ]
     },
     "metadata": {
      "needs_background": "light"
     },
     "output_type": "display_data"
    }
   ],
   "source": [
    "# Visualization of the attribution scores\n",
    "\n",
    "campaign_idx = range(0, 50)\n",
    "\n",
    "fig = plt.figure(figsize=(15,4))\n",
    "ax = fig.add_subplot(111)\n",
    "plt.bar( range(len(lta[campaign_idx])), lta[campaign_idx], label='LTA' )\n",
    "plt.xlabel('Campaign ID')\n",
    "plt.ylabel('Return per impression')\n",
    "plt.legend(loc='upper left')\n",
    "plt.show()"
   ]
  },
  {
   "cell_type": "code",
   "execution_count": 7,
   "metadata": {
    "scrolled": true
   },
   "outputs": [],
   "source": [
    "def first_touch_attribution(df):\n",
    "    \n",
    "    def count_by_campaign(df):\n",
    "        counters = np.zeros(n_campaigns)\n",
    "        for campaign_one_hot in df['campaigns'].values:\n",
    "            campaign_id = np.argmax(campaign_one_hot)\n",
    "            counters[campaign_id] = counters[campaign_id] + 1\n",
    "        return counters\n",
    "        \n",
    "    campaign_impressions = count_by_campaign(df)\n",
    "    \n",
    "    df_converted = df[df['conversion'] == 1]\n",
    "    idx = df_converted.groupby(['jid'])['timestamp_norm'].transform(min) == df_converted['timestamp_norm']\n",
    "    campaign_conversions = count_by_campaign(df_converted[idx])\n",
    "        \n",
    "    return campaign_conversions / campaign_impressions\n",
    "    \n",
    "fta = first_touch_attribution(df6)"
   ]
  },
  {
   "cell_type": "code",
   "execution_count": 8,
   "metadata": {},
   "outputs": [
    {
     "data": {
      "text/plain": [
       "array([0.32575024, 0.18116856, 0.03393214, 0.11188811, 0.06576844,\n",
       "       0.10510779, 0.11566707, 0.1529052 , 0.1037234 , 0.12603461,\n",
       "       0.06140351, 0.08656716, 0.13213703, 0.34042553, 0.13389121,\n",
       "       0.05108055, 0.17412935, 0.05913043, 0.08436725, 0.27192982,\n",
       "       0.15240642, 0.17607223, 0.32908459, 0.15584416, 0.34210526,\n",
       "       0.14      , 0.3       , 0.11564626, 0.05582524, 0.30994152,\n",
       "       0.08108108, 0.25688073, 0.04411765, 0.11328125, 0.19158879,\n",
       "       0.1978022 , 0.05084746, 0.0625    , 0.20652174, 0.20967742,\n",
       "       0.23214286, 0.14285714, 0.33333333, 0.29761905, 0.28813559,\n",
       "       0.05263158, 0.14      , 0.03448276, 0.03669725, 0.        ])"
      ]
     },
     "execution_count": 8,
     "metadata": {},
     "output_type": "execute_result"
    }
   ],
   "source": [
    "fta"
   ]
  },
  {
   "cell_type": "code",
   "execution_count": 9,
   "metadata": {},
   "outputs": [
    {
     "data": {
      "image/png": "[encoded data removed]",
      "text/plain": [
       "<Figure size 1080x288 with 1 Axes>"
      ]
     },
     "metadata": {
      "needs_background": "light"
     },
     "output_type": "display_data"
    }
   ],
   "source": [
    "# Visualization of the attribution scores\n",
    "\n",
    "campaign_idx = range(0, 50)\n",
    "\n",
    "fig = plt.figure(figsize=(15,4))\n",
    "ax = fig.add_subplot(111)\n",
    "plt.bar( range(len(fta[campaign_idx])), fta[campaign_idx], label='FTA' )\n",
    "plt.xlabel('Campaign ID')\n",
    "plt.ylabel('Return per impression')\n",
    "plt.legend(loc='upper left')\n",
    "plt.show()"
   ]
  },
  {
   "cell_type": "code",
   "execution_count": 10,
   "metadata": {},
   "outputs": [],
   "source": [
    "def linear_touch_attribution(df):\n",
    "    \n",
    "    def count_by_campaign(df):\n",
    "        counters = np.zeros(n_campaigns)\n",
    "        for campaign_one_hot in df['campaigns'].values:\n",
    "            campaign_id = np.argmax(campaign_one_hot)\n",
    "            counters[campaign_id] = counters[campaign_id] + 1\n",
    "        return counters\n",
    "        \n",
    "    campaign_impressions = count_by_campaign(df)\n",
    "    \n",
    "    df_converted = df[df['conversion'] == 1]\n",
    "#    idx = df_converted.groupby(['jid'])['timestamp_norm'].transform(min) == df_converted['timestamp_norm']\n",
    "    campaign_conversions = count_by_campaign(df_converted)\n",
    "        \n",
    "    return campaign_conversions / campaign_impressions\n",
    "    \n",
    "linear = linear_touch_attribution(df6)"
   ]
  },
  {
   "cell_type": "code",
   "execution_count": 11,
   "metadata": {
    "scrolled": true
   },
   "outputs": [
    {
     "data": {
      "text/plain": [
       "array([0.81171346, 0.67087011, 0.14770459, 0.5967366 , 0.24320621,\n",
       "       0.40665534, 0.38596491, 0.34862385, 0.37765957, 0.58427389,\n",
       "       0.19298246, 0.26268657, 0.49265905, 0.8443769 , 0.46861925,\n",
       "       0.22691552, 0.61940299, 0.19130435, 0.32009926, 0.81578947,\n",
       "       0.38502674, 0.60722348, 0.99652375, 0.7012987 , 0.93421053,\n",
       "       0.49636364, 0.715     , 0.45918367, 0.1868932 , 0.75438596,\n",
       "       0.17567568, 0.74311927, 0.09558824, 0.34375   , 0.57009346,\n",
       "       0.59340659, 0.15254237, 0.16666667, 0.5923913 , 0.51612903,\n",
       "       0.80357143, 0.72727273, 0.98888889, 0.77380952, 0.91525424,\n",
       "       0.10526316, 0.36      , 0.06896552, 0.10091743, 0.        ])"
      ]
     },
     "execution_count": 11,
     "metadata": {},
     "output_type": "execute_result"
    }
   ],
   "source": [
    "linear"
   ]
  },
  {
   "cell_type": "code",
   "execution_count": 12,
   "metadata": {
    "scrolled": true
   },
   "outputs": [
    {
     "data": {
      "image/png": "[encoded data removed]",
      "text/plain": [
       "<Figure size 1080x288 with 1 Axes>"
      ]
     },
     "metadata": {
      "needs_background": "light"
     },
     "output_type": "display_data"
    }
   ],
   "source": [
    "# Visualization of the attribution scores\n",
    "\n",
    "campaign_idx = range(0, 50)\n",
    "\n",
    "fig = plt.figure(figsize=(15,4))\n",
    "ax = fig.add_subplot(111)\n",
    "plt.bar( range(len(linear[campaign_idx])), linear[campaign_idx], label='Linear' )\n",
    "plt.xlabel('Campaign ID')\n",
    "plt.ylabel('Return per impression')\n",
    "plt.legend(loc='upper left')\n",
    "plt.show()"
   ]
  },
  {
   "cell_type": "code",
   "execution_count": 13,
   "metadata": {
    "scrolled": true
   },
   "outputs": [],
   "source": [
    "def U_touch_attribution(df):\n",
    "    \n",
    "    def count_by_campaign(df):\n",
    "        counters = np.zeros(n_campaigns)\n",
    "        for campaign_one_hot in df['campaigns'].values:\n",
    "            campaign_id = np.argmax(campaign_one_hot)\n",
    "            counters[campaign_id] = counters[campaign_id] + 1\n",
    "        return counters\n",
    "        \n",
    "    campaign_impressions = count_by_campaign(df)\n",
    "\n",
    "    df_converted = df[df['conversion'] == 1]\n",
    "    temp_jid=0\n",
    "    campaign_conversions_nrml=0\n",
    "    campaign_conversions_first=0\n",
    "    campaign_conversions_last=0\n",
    "    campaign_conversions_intermediate=0\n",
    "    for jid in df_converted.jid.unique():\n",
    "        if jid != temp_jid:\n",
    "            temp_jid = jid\n",
    "            if df_converted[df_converted['jid'] == temp_jid]['timestamp_norm'].max() == df_converted[df_converted['jid'] == temp_jid]['timestamp_norm'].min():\n",
    "                idx_nrml = df_converted.groupby(['jid'])['timestamp_norm'].transform(min) == df_converted['timestamp_norm']\n",
    "\n",
    "                campaign_conversions_nrml = count_by_campaign(df_converted[idx_nrml])\n",
    "            if df_converted[df_converted['jid'] == temp_jid]['timestamp_norm'].max() != df_converted[df_converted['jid'] == temp_jid]['timestamp_norm'].min():\n",
    "                idx_min = df_converted.groupby(['jid'])['timestamp_norm'].transform(min) == df_converted['timestamp_norm']\n",
    "                idx_max = df_converted.groupby(['jid'])['timestamp_norm'].transform(max) == df_converted['timestamp_norm']\n",
    "\n",
    "                campaign_conversions_first = count_by_campaign(df_converted[idx_min])\n",
    "                campaign_conversions_last = count_by_campaign(df_converted[idx_max])\n",
    "                campaign_conversions_intermediate = (campaign_impressions - (campaign_conversions_first + campaign_conversions_last ))  \n",
    "    return (((campaign_conversions_nrml + campaign_conversions_first + campaign_conversions_last ) * .7) + (campaign_conversions_intermediate * .3)) / campaign_impressions\n",
    "    \n",
    "uta = U_touch_attribution(df6)"
   ]
  },
  {
   "cell_type": "code",
   "execution_count": 14,
   "metadata": {
    "scrolled": true
   },
   "outputs": [
    {
     "data": {
      "image/png": "[encoded data removed]",
      "text/plain": [
       "<Figure size 1080x288 with 1 Axes>"
      ]
     },
     "metadata": {
      "needs_background": "light"
     },
     "output_type": "display_data"
    }
   ],
   "source": [
    "campaign_idx = range(0, 50)\n",
    "\n",
    "fig = plt.figure(figsize=(15,4))\n",
    "ax = fig.add_subplot(111)\n",
    "plt.bar( range(len(uta[campaign_idx])), uta[campaign_idx], label='U-Shaped' )\n",
    "plt.xlabel('Campaign ID')\n",
    "plt.ylabel('Return per impression')\n",
    "plt.legend(loc='upper left')\n",
    "plt.show()"
   ]
  },
  {
   "cell_type": "markdown",
   "metadata": {},
   "source": [
    "# Time Decay"
   ]
  },
  {
   "cell_type": "code",
   "execution_count": 49,
   "metadata": {},
   "outputs": [],
   "source": [
    "def timrdecay_attribution(df):\n",
    "    def count_by_campaign(df):\n",
    "        counters = np.zeros(n_campaigns)\n",
    "        for campaign_one_hot in df['campaigns'].values:\n",
    "            campaign_id = np.argmax(campaign_one_hot)\n",
    "            counters[campaign_id] = counters[campaign_id] + 1\n",
    "        return counters\n",
    "    campaign_impressions = count_by_campaign(df)\n",
    "    df_converted = df[df['conversion'] == 1]\n",
    "    temp_jid=0\n",
    "    campaign_conversions_nrml=0\n",
    "    campaign_conversions_first=0\n",
    "    campaign_conversions_last=0\n",
    "    campaign_conversions_intermediate=0\n",
    "    for jid in df_converted.jid.unique():\n",
    "        if jid != temp_jid:\n",
    "            temp_jid = jid\n",
    "            if df_converted[df_converted['jid'] == temp_jid]['timestamp_norm'].max() == df_converted[df_converted['jid'] == temp_jid]['timestamp_norm'].min():\n",
    "                idx_nrml = df_converted.groupby(['jid'])['timestamp_norm'].transform(min) == df_converted['timestamp_norm']\n",
    "                campaign_conversions_nrml = count_by_campaign(df_converted[idx_nrml])\n",
    "            if df_converted[df_converted['jid'] == temp_jid]['timestamp_norm'].max() != df_converted[df_converted['jid'] == temp_jid]['timestamp_norm'].min():\n",
    "                idx_min = df_converted.groupby(['jid'])['timestamp_norm'].transform(min) == df_converted['timestamp_norm']\n",
    "                idx_max = df_converted.groupby(['jid'])['timestamp_norm'].transform(max) == df_converted['timestamp_norm']\n",
    "                campaign_conversions_first = count_by_campaign(df_converted[idx_min])\n",
    "                campaign_conversions_last = count_by_campaign(df_converted[idx_max])\n",
    "                campaign_conversions_intermediate = (campaign_impressions - (campaign_conversions_first + campaign_conversions_last ))\n",
    "    return (campaign_conversions_nrml + (campaign_conversions_first * 0.1) + (campaign_conversions_last  * 0.6) + (campaign_conversions_intermediate * 0.3)) / campaign_impressions\n",
    "tdta = timrdecay_attribution(df6)"
   ]
  },
  {
   "cell_type": "code",
   "execution_count": 50,
   "metadata": {},
   "outputs": [
    {
     "data": {
      "image/png": "[encoded data removed]",
      "text/plain": [
       "<Figure size 1080x288 with 1 Axes>"
      ]
     },
     "metadata": {
      "needs_background": "light"
     },
     "output_type": "display_data"
    }
   ],
   "source": [
    "campaign_idx = range(0, 50)\n",
    "\n",
    "fig = plt.figure(figsize=(15,4))\n",
    "ax = fig.add_subplot(111)\n",
    "plt.bar( range(len(tdta[campaign_idx])), tdta[campaign_idx], label='Time-Decay' )\n",
    "plt.xlabel('Campaign ID')\n",
    "plt.ylabel('Return per impression')\n",
    "plt.legend(loc='upper left')\n",
    "plt.show()"
   ]
  },
  {
   "cell_type": "code",
   "execution_count": 285,
   "metadata": {},
   "outputs": [],
   "source": [
    "#dummy = df6[df6['uid'] == 6881943]"
   ]
  },
  {
   "cell_type": "markdown",
   "metadata": {},
   "source": [
    "# U Shaped"
   ]
  },
  {
   "cell_type": "code",
   "execution_count": 15,
   "metadata": {
    "scrolled": false
   },
   "outputs": [
    {
     "name": "stderr",
     "output_type": "stream",
     "text": [
      "C:\\Users\\kumar\\Anaconda3\\lib\\site-packages\\ipykernel_launcher.py:3: SettingWithCopyWarning: \n",
      "A value is trying to be set on a copy of a slice from a DataFrame\n",
      "\n",
      "See the caveats in the documentation: http://pandas.pydata.org/pandas-docs/stable/user_guide/indexing.html#returning-a-view-versus-a-copy\n",
      "  This is separate from the ipykernel package so we can avoid doing imports until\n"
     ]
    },
    {
     "name": "stdout",
     "output_type": "stream",
     "text": [
      "Campaign No: 1 442617\n",
      "Campaign No: 2 604249\n",
      "Campaign No: 3 2077112\n",
      "Campaign No: 4 2342814\n",
      "Campaign No: 5 2407403\n",
      "Campaign No: 6 2576437\n",
      "Campaign No: 7 3466867\n",
      "Campaign No: 8 3788051\n",
      "Campaign No: 9 4800911\n",
      "Campaign No: 10 5700346\n",
      "Campaign No: 11 5892331\n",
      "Campaign No: 12 6341185\n",
      "Campaign No: 13 7144711\n",
      "Campaign No: 14 7210407\n",
      "Campaign No: 15 7697146\n",
      "Campaign No: 16 8403854\n",
      "Campaign No: 17 9097334\n",
      "Campaign No: 18 9100689\n",
      "Campaign No: 19 9100690\n",
      "Campaign No: 20 10321103\n",
      "Campaign No: 21 10686810\n",
      "Campaign No: 22 12474087\n",
      "Campaign No: 23 12843319\n",
      "Campaign No: 24 12845408\n",
      "Campaign No: 25 13300124\n",
      "Campaign No: 26 14235907\n",
      "Campaign No: 27 15500296\n",
      "Campaign No: 28 15823034\n",
      "Campaign No: 29 17314989\n",
      "Campaign No: 30 17321082\n",
      "Campaign No: 31 17491634\n",
      "Campaign No: 32 17710659\n",
      "Campaign No: 33 20916101\n",
      "Campaign No: 34 21005924\n",
      "Campaign No: 35 23254639\n",
      "Campaign No: 36 24045154\n",
      "Campaign No: 37 25866075\n",
      "Campaign No: 38 25866076\n",
      "Campaign No: 39 26729616\n",
      "Campaign No: 40 26998439\n",
      "Campaign No: 41 27321366\n",
      "Campaign No: 42 28795042\n",
      "Campaign No: 43 28864843\n",
      "Campaign No: 44 29531983\n",
      "Campaign No: 45 29614010\n",
      "Campaign No: 46 30487330\n",
      "Campaign No: 47 31748229\n",
      "Campaign No: 48 31775712\n",
      "Campaign No: 49 32398755\n"
     ]
    }
   ],
   "source": [
    "dummy = df6\n",
    "dummy_mod=dummy[dummy['conversion']==1]\n",
    "dummy_mod.sort_values(by=['campaign','timestamp'], inplace=True)\n",
    "temp_jid = 0 \n",
    "dummy_array=[]\n",
    "campaign_array=[]\n",
    "timestamp_array=[]\n",
    "ctr=0\n",
    "for campaign in dummy_mod.campaign.unique():\n",
    "             ctr = ctr + 1\n",
    "             for jid in  dummy_mod[dummy_mod['campaign']==campaign].jid.unique():\n",
    "                if jid != temp_jid:\n",
    "                    count = 1\n",
    "                    temp_jid = jid\n",
    "                    for idx,timestamp in enumerate (dummy_mod[dummy_mod['jid']==jid]['timestamp']):\n",
    "                        timestamp_array.append(idx+1)\n",
    "                        campaign_array.append(campaign)\n",
    "                        if timestamp == dummy_mod[dummy_mod['jid']==jid]['timestamp'].max():\n",
    "                            dummy_array.append(100)\n",
    "                        elif timestamp == dummy_mod[dummy_mod['jid']==jid]['timestamp'].min():\n",
    "                            dummy_array.append(100)\n",
    "                        elif timestamp < dummy_mod[dummy_mod['jid']==jid]['timestamp'].max():\n",
    "                            dummy_array.append(50)\n",
    "                else:\n",
    "                     count = count + 1"
   ]
  },
  {
   "cell_type": "code",
   "execution_count": 18,
   "metadata": {},
   "outputs": [
    {
     "data": {
      "text/html": [
       "<div>\n",
       "<style scoped>\n",
       "    .dataframe tbody tr th:only-of-type {\n",
       "        vertical-align: middle;\n",
       "    }\n",
       "\n",
       "    .dataframe tbody tr th {\n",
       "        vertical-align: top;\n",
       "    }\n",
       "\n",
       "    .dataframe thead th {\n",
       "        text-align: right;\n",
       "    }\n",
       "</style>\n",
       "<table border=\"1\" class=\"dataframe\">\n",
       "  <thead>\n",
       "    <tr style=\"text-align: right;\">\n",
       "      <th></th>\n",
       "      <th>Timestamp</th>\n",
       "      <th>Campaign</th>\n",
       "      <th>Wightage</th>\n",
       "    </tr>\n",
       "  </thead>\n",
       "  <tbody>\n",
       "    <tr>\n",
       "      <td>0</td>\n",
       "      <td>1</td>\n",
       "      <td>442617</td>\n",
       "      <td>100</td>\n",
       "    </tr>\n",
       "    <tr>\n",
       "      <td>1</td>\n",
       "      <td>2</td>\n",
       "      <td>442617</td>\n",
       "      <td>100</td>\n",
       "    </tr>\n",
       "    <tr>\n",
       "      <td>2</td>\n",
       "      <td>1</td>\n",
       "      <td>442617</td>\n",
       "      <td>100</td>\n",
       "    </tr>\n",
       "    <tr>\n",
       "      <td>3</td>\n",
       "      <td>2</td>\n",
       "      <td>442617</td>\n",
       "      <td>50</td>\n",
       "    </tr>\n",
       "    <tr>\n",
       "      <td>4</td>\n",
       "      <td>3</td>\n",
       "      <td>442617</td>\n",
       "      <td>50</td>\n",
       "    </tr>\n",
       "    <tr>\n",
       "      <td>...</td>\n",
       "      <td>...</td>\n",
       "      <td>...</td>\n",
       "      <td>...</td>\n",
       "    </tr>\n",
       "    <tr>\n",
       "      <td>24948</td>\n",
       "      <td>1</td>\n",
       "      <td>32398755</td>\n",
       "      <td>100</td>\n",
       "    </tr>\n",
       "    <tr>\n",
       "      <td>24949</td>\n",
       "      <td>2</td>\n",
       "      <td>32398755</td>\n",
       "      <td>50</td>\n",
       "    </tr>\n",
       "    <tr>\n",
       "      <td>24950</td>\n",
       "      <td>3</td>\n",
       "      <td>32398755</td>\n",
       "      <td>100</td>\n",
       "    </tr>\n",
       "    <tr>\n",
       "      <td>24951</td>\n",
       "      <td>1</td>\n",
       "      <td>32398755</td>\n",
       "      <td>100</td>\n",
       "    </tr>\n",
       "    <tr>\n",
       "      <td>24952</td>\n",
       "      <td>2</td>\n",
       "      <td>32398755</td>\n",
       "      <td>100</td>\n",
       "    </tr>\n",
       "  </tbody>\n",
       "</table>\n",
       "<p>24953 rows × 3 columns</p>\n",
       "</div>"
      ],
      "text/plain": [
       "       Timestamp  Campaign  Wightage\n",
       "0              1    442617       100\n",
       "1              2    442617       100\n",
       "2              1    442617       100\n",
       "3              2    442617        50\n",
       "4              3    442617        50\n",
       "...          ...       ...       ...\n",
       "24948          1  32398755       100\n",
       "24949          2  32398755        50\n",
       "24950          3  32398755       100\n",
       "24951          1  32398755       100\n",
       "24952          2  32398755       100\n",
       "\n",
       "[24953 rows x 3 columns]"
      ]
     },
     "execution_count": 18,
     "metadata": {},
     "output_type": "execute_result"
    }
   ],
   "source": [
    "leaderboard = pd.DataFrame({'Timestamp':timestamp_array,'Campaign':campaign_array,'Wightage':dummy_array"
   ]
  },
  {
   "cell_type": "code",
   "execution_count": 20,
   "metadata": {},
   "outputs": [
    {
     "data": {
      "text/html": [
       "<div>\n",
       "<style scoped>\n",
       "    .dataframe tbody tr th:only-of-type {\n",
       "        vertical-align: middle;\n",
       "    }\n",
       "\n",
       "    .dataframe tbody tr th {\n",
       "        vertical-align: top;\n",
       "    }\n",
       "\n",
       "    .dataframe thead th {\n",
       "        text-align: right;\n",
       "    }\n",
       "</style>\n",
       "<table border=\"1\" class=\"dataframe\">\n",
       "  <thead>\n",
       "    <tr style=\"text-align: right;\">\n",
       "      <th></th>\n",
       "      <th>Timestamp</th>\n",
       "      <th>Campaign</th>\n",
       "      <th>Wightage</th>\n",
       "    </tr>\n",
       "  </thead>\n",
       "  <tbody>\n",
       "    <tr>\n",
       "      <td>0</td>\n",
       "      <td>1</td>\n",
       "      <td>442617</td>\n",
       "      <td>100</td>\n",
       "    </tr>\n",
       "    <tr>\n",
       "      <td>1</td>\n",
       "      <td>2</td>\n",
       "      <td>442617</td>\n",
       "      <td>100</td>\n",
       "    </tr>\n",
       "    <tr>\n",
       "      <td>2</td>\n",
       "      <td>1</td>\n",
       "      <td>442617</td>\n",
       "      <td>100</td>\n",
       "    </tr>\n",
       "    <tr>\n",
       "      <td>3</td>\n",
       "      <td>2</td>\n",
       "      <td>442617</td>\n",
       "      <td>50</td>\n",
       "    </tr>\n",
       "    <tr>\n",
       "      <td>4</td>\n",
       "      <td>3</td>\n",
       "      <td>442617</td>\n",
       "      <td>50</td>\n",
       "    </tr>\n",
       "    <tr>\n",
       "      <td>...</td>\n",
       "      <td>...</td>\n",
       "      <td>...</td>\n",
       "      <td>...</td>\n",
       "    </tr>\n",
       "    <tr>\n",
       "      <td>24948</td>\n",
       "      <td>1</td>\n",
       "      <td>32398755</td>\n",
       "      <td>100</td>\n",
       "    </tr>\n",
       "    <tr>\n",
       "      <td>24949</td>\n",
       "      <td>2</td>\n",
       "      <td>32398755</td>\n",
       "      <td>50</td>\n",
       "    </tr>\n",
       "    <tr>\n",
       "      <td>24950</td>\n",
       "      <td>3</td>\n",
       "      <td>32398755</td>\n",
       "      <td>100</td>\n",
       "    </tr>\n",
       "    <tr>\n",
       "      <td>24951</td>\n",
       "      <td>1</td>\n",
       "      <td>32398755</td>\n",
       "      <td>100</td>\n",
       "    </tr>\n",
       "    <tr>\n",
       "      <td>24952</td>\n",
       "      <td>2</td>\n",
       "      <td>32398755</td>\n",
       "      <td>100</td>\n",
       "    </tr>\n",
       "  </tbody>\n",
       "</table>\n",
       "<p>24953 rows × 3 columns</p>\n",
       "</div>"
      ],
      "text/plain": [
       "       Timestamp  Campaign  Wightage\n",
       "0              1    442617       100\n",
       "1              2    442617       100\n",
       "2              1    442617       100\n",
       "3              2    442617        50\n",
       "4              3    442617        50\n",
       "...          ...       ...       ...\n",
       "24948          1  32398755       100\n",
       "24949          2  32398755        50\n",
       "24950          3  32398755       100\n",
       "24951          1  32398755       100\n",
       "24952          2  32398755       100\n",
       "\n",
       "[24953 rows x 3 columns]"
      ]
     },
     "execution_count": 20,
     "metadata": {},
     "output_type": "execute_result"
    }
   ],
   "source": [
    "leaderboard"
   ]
  },
  {
   "cell_type": "code",
   "execution_count": 17,
   "metadata": {},
   "outputs": [
    {
     "data": {
      "image/png": "[encoded data removed]",
      "text/plain": [
       "<Figure size 432x288 with 1 Axes>"
      ]
     },
     "metadata": {
      "needs_background": "light"
     },
     "output_type": "display_data"
    }
   ],
   "source": [
    "plt.bar(leaderboard['Timestamp'], leaderboard['Wightage'] )\n",
    "plt.xlabel('Time Distribution')\n",
    "plt.ylabel('Return per impression')\n",
    "plt.show()"
   ]
  },
  {
   "cell_type": "markdown",
   "metadata": {},
   "source": [
    "# FTA"
   ]
  },
  {
   "cell_type": "code",
   "execution_count": 21,
   "metadata": {
    "scrolled": false
   },
   "outputs": [
    {
     "name": "stderr",
     "output_type": "stream",
     "text": [
      "C:\\Users\\kumar\\Anaconda3\\lib\\site-packages\\ipykernel_launcher.py:3: SettingWithCopyWarning: \n",
      "A value is trying to be set on a copy of a slice from a DataFrame\n",
      "\n",
      "See the caveats in the documentation: http://pandas.pydata.org/pandas-docs/stable/user_guide/indexing.html#returning-a-view-versus-a-copy\n",
      "  This is separate from the ipykernel package so we can avoid doing imports until\n"
     ]
    }
   ],
   "source": [
    "dummy = df6\n",
    "dummy_mod=dummy[dummy['conversion']==1]\n",
    "dummy_mod.sort_values(by=['campaign','timestamp'], inplace=True)\n",
    "temp_jid = 0 \n",
    "dummy_array=[]\n",
    "campaign_array=[]\n",
    "timestamp_array=[]\n",
    "ctr=0\n",
    "for campaign in dummy_mod.campaign.unique():\n",
    "             ctr = ctr + 1\n",
    "             for jid in  dummy_mod[dummy_mod['campaign']==campaign].jid.unique():\n",
    "                if jid != temp_jid:\n",
    "                    count = 1\n",
    "                    temp_jid = jid\n",
    "                    for idx,timestamp in enumerate (dummy_mod[dummy_mod['jid']==jid]['timestamp']):\n",
    "                        timestamp_array.append(idx+1)\n",
    "                        campaign_array.append(campaign)\n",
    "                        if timestamp == dummy_mod[dummy_mod['jid']==jid]['timestamp'].max():\n",
    "                            dummy_array.append(0)\n",
    "                        elif timestamp == dummy_mod[dummy_mod['jid']==jid]['timestamp'].min():\n",
    "                            dummy_array.append(100)\n",
    "                        elif timestamp < dummy_mod[dummy_mod['jid']==jid]['timestamp'].max():\n",
    "                            dummy_array.append(0)\n",
    "                else:\n",
    "                     count = count + 1"
   ]
  },
  {
   "cell_type": "code",
   "execution_count": 24,
   "metadata": {
    "scrolled": true
   },
   "outputs": [
    {
     "data": {
      "text/html": [
       "<div>\n",
       "<style scoped>\n",
       "    .dataframe tbody tr th:only-of-type {\n",
       "        vertical-align: middle;\n",
       "    }\n",
       "\n",
       "    .dataframe tbody tr th {\n",
       "        vertical-align: top;\n",
       "    }\n",
       "\n",
       "    .dataframe thead th {\n",
       "        text-align: right;\n",
       "    }\n",
       "</style>\n",
       "<table border=\"1\" class=\"dataframe\">\n",
       "  <thead>\n",
       "    <tr style=\"text-align: right;\">\n",
       "      <th></th>\n",
       "      <th>Timestamp</th>\n",
       "      <th>Campaign</th>\n",
       "      <th>Wightage</th>\n",
       "    </tr>\n",
       "  </thead>\n",
       "  <tbody>\n",
       "    <tr>\n",
       "      <td>0</td>\n",
       "      <td>1</td>\n",
       "      <td>442617</td>\n",
       "      <td>100</td>\n",
       "    </tr>\n",
       "    <tr>\n",
       "      <td>1</td>\n",
       "      <td>2</td>\n",
       "      <td>442617</td>\n",
       "      <td>0</td>\n",
       "    </tr>\n",
       "    <tr>\n",
       "      <td>2</td>\n",
       "      <td>1</td>\n",
       "      <td>442617</td>\n",
       "      <td>100</td>\n",
       "    </tr>\n",
       "    <tr>\n",
       "      <td>3</td>\n",
       "      <td>2</td>\n",
       "      <td>442617</td>\n",
       "      <td>0</td>\n",
       "    </tr>\n",
       "    <tr>\n",
       "      <td>4</td>\n",
       "      <td>3</td>\n",
       "      <td>442617</td>\n",
       "      <td>0</td>\n",
       "    </tr>\n",
       "    <tr>\n",
       "      <td>...</td>\n",
       "      <td>...</td>\n",
       "      <td>...</td>\n",
       "      <td>...</td>\n",
       "    </tr>\n",
       "    <tr>\n",
       "      <td>24948</td>\n",
       "      <td>1</td>\n",
       "      <td>32398755</td>\n",
       "      <td>100</td>\n",
       "    </tr>\n",
       "    <tr>\n",
       "      <td>24949</td>\n",
       "      <td>2</td>\n",
       "      <td>32398755</td>\n",
       "      <td>0</td>\n",
       "    </tr>\n",
       "    <tr>\n",
       "      <td>24950</td>\n",
       "      <td>3</td>\n",
       "      <td>32398755</td>\n",
       "      <td>0</td>\n",
       "    </tr>\n",
       "    <tr>\n",
       "      <td>24951</td>\n",
       "      <td>1</td>\n",
       "      <td>32398755</td>\n",
       "      <td>100</td>\n",
       "    </tr>\n",
       "    <tr>\n",
       "      <td>24952</td>\n",
       "      <td>2</td>\n",
       "      <td>32398755</td>\n",
       "      <td>0</td>\n",
       "    </tr>\n",
       "  </tbody>\n",
       "</table>\n",
       "<p>24953 rows × 3 columns</p>\n",
       "</div>"
      ],
      "text/plain": [
       "       Timestamp  Campaign  Wightage\n",
       "0              1    442617       100\n",
       "1              2    442617         0\n",
       "2              1    442617       100\n",
       "3              2    442617         0\n",
       "4              3    442617         0\n",
       "...          ...       ...       ...\n",
       "24948          1  32398755       100\n",
       "24949          2  32398755         0\n",
       "24950          3  32398755         0\n",
       "24951          1  32398755       100\n",
       "24952          2  32398755         0\n",
       "\n",
       "[24953 rows x 3 columns]"
      ]
     },
     "execution_count": 24,
     "metadata": {},
     "output_type": "execute_result"
    }
   ],
   "source": [
    "leaderboard_fta = pd.DataFrame({'Timestamp':timestamp_array,'Campaign':campaign_array,'Wightage':dummy_array})\n",
    "leaderboard_fta"
   ]
  },
  {
   "cell_type": "code",
   "execution_count": 46,
   "metadata": {},
   "outputs": [
    {
     "data": {
      "image/png": "[encoded data removed]",
      "text/plain": [
       "<Figure size 432x288 with 1 Axes>"
      ]
     },
     "metadata": {
      "needs_background": "light"
     },
     "output_type": "display_data"
    }
   ],
   "source": [
    "plt.bar(leaderboard_fta['Timestamp'], leaderboard_fta['Wightage'] )\n",
    "plt.xlabel('Time Distribution')\n",
    "plt.ylabel('Return per impression')\n",
    "plt.show()"
   ]
  },
  {
   "cell_type": "markdown",
   "metadata": {},
   "source": [
    "# Linear"
   ]
  },
  {
   "cell_type": "code",
   "execution_count": 25,
   "metadata": {},
   "outputs": [
    {
     "name": "stderr",
     "output_type": "stream",
     "text": [
      "C:\\Users\\kumar\\Anaconda3\\lib\\site-packages\\ipykernel_launcher.py:3: SettingWithCopyWarning: \n",
      "A value is trying to be set on a copy of a slice from a DataFrame\n",
      "\n",
      "See the caveats in the documentation: http://pandas.pydata.org/pandas-docs/stable/user_guide/indexing.html#returning-a-view-versus-a-copy\n",
      "  This is separate from the ipykernel package so we can avoid doing imports until\n"
     ]
    }
   ],
   "source": [
    "dummy = df6\n",
    "dummy_mod=dummy[dummy['conversion']==1]\n",
    "dummy_mod.sort_values(by=['campaign','timestamp'], inplace=True)\n",
    "temp_jid = 0 \n",
    "dummy_array=[]\n",
    "campaign_array=[]\n",
    "timestamp_array=[]\n",
    "ctr=0\n",
    "for campaign in dummy_mod.campaign.unique():\n",
    "             ctr = ctr + 1\n",
    "             for jid in  dummy_mod[dummy_mod['campaign']==campaign].jid.unique():\n",
    "                if jid != temp_jid:\n",
    "                    count = 1\n",
    "                    temp_jid = jid\n",
    "                    for idx,timestamp in enumerate (dummy_mod[dummy_mod['jid']==jid]['timestamp']):\n",
    "                        timestamp_array.append(idx+1)\n",
    "                        campaign_array.append(campaign)\n",
    "                        if timestamp == dummy_mod[dummy_mod['jid']==jid]['timestamp'].max():\n",
    "                            dummy_array.append(100)\n",
    "                        elif timestamp == dummy_mod[dummy_mod['jid']==jid]['timestamp'].min():\n",
    "                            dummy_array.append(100)\n",
    "                        elif timestamp < dummy_mod[dummy_mod['jid']==jid]['timestamp'].max():\n",
    "                            dummy_array.append(100)\n",
    "                else:\n",
    "                     count = count + 1"
   ]
  },
  {
   "cell_type": "code",
   "execution_count": 26,
   "metadata": {
    "scrolled": true
   },
   "outputs": [
    {
     "data": {
      "text/html": [
       "<div>\n",
       "<style scoped>\n",
       "    .dataframe tbody tr th:only-of-type {\n",
       "        vertical-align: middle;\n",
       "    }\n",
       "\n",
       "    .dataframe tbody tr th {\n",
       "        vertical-align: top;\n",
       "    }\n",
       "\n",
       "    .dataframe thead th {\n",
       "        text-align: right;\n",
       "    }\n",
       "</style>\n",
       "<table border=\"1\" class=\"dataframe\">\n",
       "  <thead>\n",
       "    <tr style=\"text-align: right;\">\n",
       "      <th></th>\n",
       "      <th>Timestamp</th>\n",
       "      <th>Campaign</th>\n",
       "      <th>Wightage</th>\n",
       "    </tr>\n",
       "  </thead>\n",
       "  <tbody>\n",
       "    <tr>\n",
       "      <td>0</td>\n",
       "      <td>1</td>\n",
       "      <td>442617</td>\n",
       "      <td>100</td>\n",
       "    </tr>\n",
       "    <tr>\n",
       "      <td>1</td>\n",
       "      <td>2</td>\n",
       "      <td>442617</td>\n",
       "      <td>100</td>\n",
       "    </tr>\n",
       "    <tr>\n",
       "      <td>2</td>\n",
       "      <td>1</td>\n",
       "      <td>442617</td>\n",
       "      <td>100</td>\n",
       "    </tr>\n",
       "    <tr>\n",
       "      <td>3</td>\n",
       "      <td>2</td>\n",
       "      <td>442617</td>\n",
       "      <td>100</td>\n",
       "    </tr>\n",
       "    <tr>\n",
       "      <td>4</td>\n",
       "      <td>3</td>\n",
       "      <td>442617</td>\n",
       "      <td>100</td>\n",
       "    </tr>\n",
       "    <tr>\n",
       "      <td>...</td>\n",
       "      <td>...</td>\n",
       "      <td>...</td>\n",
       "      <td>...</td>\n",
       "    </tr>\n",
       "    <tr>\n",
       "      <td>24948</td>\n",
       "      <td>1</td>\n",
       "      <td>32398755</td>\n",
       "      <td>100</td>\n",
       "    </tr>\n",
       "    <tr>\n",
       "      <td>24949</td>\n",
       "      <td>2</td>\n",
       "      <td>32398755</td>\n",
       "      <td>100</td>\n",
       "    </tr>\n",
       "    <tr>\n",
       "      <td>24950</td>\n",
       "      <td>3</td>\n",
       "      <td>32398755</td>\n",
       "      <td>100</td>\n",
       "    </tr>\n",
       "    <tr>\n",
       "      <td>24951</td>\n",
       "      <td>1</td>\n",
       "      <td>32398755</td>\n",
       "      <td>100</td>\n",
       "    </tr>\n",
       "    <tr>\n",
       "      <td>24952</td>\n",
       "      <td>2</td>\n",
       "      <td>32398755</td>\n",
       "      <td>100</td>\n",
       "    </tr>\n",
       "  </tbody>\n",
       "</table>\n",
       "<p>24953 rows × 3 columns</p>\n",
       "</div>"
      ],
      "text/plain": [
       "       Timestamp  Campaign  Wightage\n",
       "0              1    442617       100\n",
       "1              2    442617       100\n",
       "2              1    442617       100\n",
       "3              2    442617       100\n",
       "4              3    442617       100\n",
       "...          ...       ...       ...\n",
       "24948          1  32398755       100\n",
       "24949          2  32398755       100\n",
       "24950          3  32398755       100\n",
       "24951          1  32398755       100\n",
       "24952          2  32398755       100\n",
       "\n",
       "[24953 rows x 3 columns]"
      ]
     },
     "execution_count": 26,
     "metadata": {},
     "output_type": "execute_result"
    }
   ],
   "source": [
    "leaderboard_linear = pd.DataFrame({'Timestamp':timestamp_array,'Campaign':campaign_array,'Wightage':dummy_array})\n",
    "leaderboard_linear"
   ]
  },
  {
   "cell_type": "code",
   "execution_count": 45,
   "metadata": {},
   "outputs": [
    {
     "data": {
      "image/png": "[encoded data removed]",
      "text/plain": [
       "<Figure size 432x288 with 1 Axes>"
      ]
     },
     "metadata": {
      "needs_background": "light"
     },
     "output_type": "display_data"
    }
   ],
   "source": [
    "plt.bar(leaderboard_linear['Timestamp'], leaderboard_linear['Wightage'] )\n",
    "plt.xlabel('Time Distribution')\n",
    "plt.ylabel('Return per impression')\n",
    "plt.show()"
   ]
  },
  {
   "cell_type": "markdown",
   "metadata": {},
   "source": [
    "# LTA"
   ]
  },
  {
   "cell_type": "code",
   "execution_count": 27,
   "metadata": {},
   "outputs": [
    {
     "name": "stderr",
     "output_type": "stream",
     "text": [
      "C:\\Users\\kumar\\Anaconda3\\lib\\site-packages\\ipykernel_launcher.py:3: SettingWithCopyWarning: \n",
      "A value is trying to be set on a copy of a slice from a DataFrame\n",
      "\n",
      "See the caveats in the documentation: http://pandas.pydata.org/pandas-docs/stable/user_guide/indexing.html#returning-a-view-versus-a-copy\n",
      "  This is separate from the ipykernel package so we can avoid doing imports until\n"
     ]
    }
   ],
   "source": [
    "dummy = df6\n",
    "dummy_mod=dummy[dummy['conversion']==1]\n",
    "dummy_mod.sort_values(by=['campaign','timestamp'], inplace=True)\n",
    "temp_jid = 0 \n",
    "dummy_array=[]\n",
    "campaign_array=[]\n",
    "timestamp_array=[]\n",
    "ctr=0\n",
    "for campaign in dummy_mod.campaign.unique():\n",
    "             ctr = ctr + 1\n",
    "             for jid in  dummy_mod[dummy_mod['campaign']==campaign].jid.unique():\n",
    "                if jid != temp_jid:\n",
    "                    count = 1\n",
    "                    temp_jid = jid\n",
    "                    for idx,timestamp in enumerate (dummy_mod[dummy_mod['jid']==jid]['timestamp']):\n",
    "                        timestamp_array.append(idx+1)\n",
    "                        campaign_array.append(campaign)\n",
    "                        if timestamp == dummy_mod[dummy_mod['jid']==jid]['timestamp'].max():\n",
    "                            dummy_array.append(100)\n",
    "                        elif timestamp == dummy_mod[dummy_mod['jid']==jid]['timestamp'].min():\n",
    "                            dummy_array.append(0)\n",
    "                        elif timestamp < dummy_mod[dummy_mod['jid']==jid]['timestamp'].max():\n",
    "                            dummy_array.append(0)\n",
    "                else:\n",
    "                     count = count + 1"
   ]
  },
  {
   "cell_type": "code",
   "execution_count": 28,
   "metadata": {
    "scrolled": true
   },
   "outputs": [
    {
     "data": {
      "text/html": [
       "<div>\n",
       "<style scoped>\n",
       "    .dataframe tbody tr th:only-of-type {\n",
       "        vertical-align: middle;\n",
       "    }\n",
       "\n",
       "    .dataframe tbody tr th {\n",
       "        vertical-align: top;\n",
       "    }\n",
       "\n",
       "    .dataframe thead th {\n",
       "        text-align: right;\n",
       "    }\n",
       "</style>\n",
       "<table border=\"1\" class=\"dataframe\">\n",
       "  <thead>\n",
       "    <tr style=\"text-align: right;\">\n",
       "      <th></th>\n",
       "      <th>Timestamp</th>\n",
       "      <th>Campaign</th>\n",
       "      <th>Wightage</th>\n",
       "    </tr>\n",
       "  </thead>\n",
       "  <tbody>\n",
       "    <tr>\n",
       "      <td>0</td>\n",
       "      <td>1</td>\n",
       "      <td>442617</td>\n",
       "      <td>0</td>\n",
       "    </tr>\n",
       "    <tr>\n",
       "      <td>1</td>\n",
       "      <td>2</td>\n",
       "      <td>442617</td>\n",
       "      <td>100</td>\n",
       "    </tr>\n",
       "    <tr>\n",
       "      <td>2</td>\n",
       "      <td>1</td>\n",
       "      <td>442617</td>\n",
       "      <td>0</td>\n",
       "    </tr>\n",
       "    <tr>\n",
       "      <td>3</td>\n",
       "      <td>2</td>\n",
       "      <td>442617</td>\n",
       "      <td>0</td>\n",
       "    </tr>\n",
       "    <tr>\n",
       "      <td>4</td>\n",
       "      <td>3</td>\n",
       "      <td>442617</td>\n",
       "      <td>0</td>\n",
       "    </tr>\n",
       "    <tr>\n",
       "      <td>...</td>\n",
       "      <td>...</td>\n",
       "      <td>...</td>\n",
       "      <td>...</td>\n",
       "    </tr>\n",
       "    <tr>\n",
       "      <td>24948</td>\n",
       "      <td>1</td>\n",
       "      <td>32398755</td>\n",
       "      <td>0</td>\n",
       "    </tr>\n",
       "    <tr>\n",
       "      <td>24949</td>\n",
       "      <td>2</td>\n",
       "      <td>32398755</td>\n",
       "      <td>0</td>\n",
       "    </tr>\n",
       "    <tr>\n",
       "      <td>24950</td>\n",
       "      <td>3</td>\n",
       "      <td>32398755</td>\n",
       "      <td>100</td>\n",
       "    </tr>\n",
       "    <tr>\n",
       "      <td>24951</td>\n",
       "      <td>1</td>\n",
       "      <td>32398755</td>\n",
       "      <td>0</td>\n",
       "    </tr>\n",
       "    <tr>\n",
       "      <td>24952</td>\n",
       "      <td>2</td>\n",
       "      <td>32398755</td>\n",
       "      <td>100</td>\n",
       "    </tr>\n",
       "  </tbody>\n",
       "</table>\n",
       "<p>24953 rows × 3 columns</p>\n",
       "</div>"
      ],
      "text/plain": [
       "       Timestamp  Campaign  Wightage\n",
       "0              1    442617         0\n",
       "1              2    442617       100\n",
       "2              1    442617         0\n",
       "3              2    442617         0\n",
       "4              3    442617         0\n",
       "...          ...       ...       ...\n",
       "24948          1  32398755         0\n",
       "24949          2  32398755         0\n",
       "24950          3  32398755       100\n",
       "24951          1  32398755         0\n",
       "24952          2  32398755       100\n",
       "\n",
       "[24953 rows x 3 columns]"
      ]
     },
     "execution_count": 28,
     "metadata": {},
     "output_type": "execute_result"
    }
   ],
   "source": [
    "leaderboard_lta = pd.DataFrame({'Timestamp':timestamp_array,'Campaign':campaign_array,'Wightage':dummy_array})\n",
    "leaderboard_lta"
   ]
  },
  {
   "cell_type": "code",
   "execution_count": 44,
   "metadata": {
    "scrolled": true
   },
   "outputs": [
    {
     "data": {
      "image/png": "[encoded data removed]",
      "text/plain": [
       "<Figure size 432x288 with 1 Axes>"
      ]
     },
     "metadata": {
      "needs_background": "light"
     },
     "output_type": "display_data"
    }
   ],
   "source": [
    "plt.bar(leaderboard_lta['Timestamp'], leaderboard_lta['Wightage'] )\n",
    "plt.xlabel('Time Distribution')\n",
    "plt.ylabel('Return per impression')\n",
    "plt.show()"
   ]
  },
  {
   "cell_type": "code",
   "execution_count": 61,
   "metadata": {
    "scrolled": true
   },
   "outputs": [
    {
     "data": {
      "image/png": "[encoded data removed]",
      "text/plain": [
       "<Figure size 1080x288 with 1 Axes>"
      ]
     },
     "metadata": {
      "needs_background": "light"
     },
     "output_type": "display_data"
    }
   ],
   "source": [
    "fig = plt.figure(figsize=(15, 4))\n",
    "ax = fig.add_subplot(111)\n",
    "#ratio = max(fta[idx]) / max(uta[idx])\n",
    "plt.bar(np.linspace(0, len(campaign_idx), len(campaign_idx)), fta[campaign_idx], width=0.2, alpha=0.7, label='FTA' )\n",
    "plt.bar(np.linspace(0, len(campaign_idx), len(campaign_idx)) - 0.2, uta[campaign_idx], width=0.2, alpha=0.7, label='U-Shape TA' )\n",
    "plt.bar(np.linspace(0, len(campaign_idx), len(campaign_idx)) - 0.4, linear[campaign_idx], width=0.2, alpha=0.7, label='Linear TA' )\n",
    "plt.bar(np.linspace(0, len(campaign_idx), len(campaign_idx)) - 0.6, tdta[campaign_idx], width=0.2, alpha=0.7, label='TimeDecay TA' )\n",
    "plt.xlabel('Campaign ID')\n",
    "plt.ylabel('Contribution')\n",
    "plt.legend(loc='upper left')\n",
    "plt.show()"
   ]
  },
  {
   "cell_type": "markdown",
   "metadata": {},
   "source": [
    "## Logistic Regression"
   ]
  },
  {
   "cell_type": "code",
   "execution_count": 29,
   "metadata": {},
   "outputs": [],
   "source": [
    "def features_for_logistic_regression(df):\n",
    "\n",
    "    def pairwise_max(series):\n",
    "        return np.max(series.tolist(), axis = 0).tolist()\n",
    "    \n",
    "    aggregation = {\n",
    "        'campaigns': pairwise_max,\n",
    "        'cats': pairwise_max,\n",
    "        'click': 'sum',\n",
    "        'cost': 'sum',\n",
    "        'conversion': 'max'\n",
    "    }\n",
    "    \n",
    "    df_agg = df.groupby(['jid']).agg(aggregation)\n",
    "    \n",
    "    df_agg['features'] = df_agg[['campaigns', 'cats', 'click', 'cost']].values.tolist()\n",
    "    \n",
    "    return (\n",
    "        np.stack(df_agg['features'].map(lambda x: np.hstack(x)).values),\n",
    "        df_agg['conversion'].values\n",
    "    )"
   ]
  },
  {
   "cell_type": "code",
   "execution_count": 30,
   "metadata": {},
   "outputs": [
    {
     "name": "stdout",
     "output_type": "stream",
     "text": [
      "(11482, 286)\n"
     ]
    }
   ],
   "source": [
    "x, y = features_for_logistic_regression(df6)\n",
    "print(np.shape(x))"
   ]
  },
  {
   "cell_type": "code",
   "execution_count": 31,
   "metadata": {},
   "outputs": [],
   "source": [
    "from sklearn.model_selection import train_test_split\n",
    "\n",
    "x_train, x_test, y_train, y_test = train_test_split(x, y, test_size = 0.20, random_state = 1)\n",
    "x_train, x_val, y_train, y_val = train_test_split(x_train, y_train, test_size = 0.20, random_state = 1)"
   ]
  },
  {
   "cell_type": "code",
   "execution_count": 32,
   "metadata": {},
   "outputs": [
    {
     "name": "stdout",
     "output_type": "stream",
     "text": [
      "0.8232477144101001\n"
     ]
    },
    {
     "name": "stderr",
     "output_type": "stream",
     "text": [
      "C:\\Users\\kumar\\Anaconda3\\lib\\site-packages\\sklearn\\linear_model\\_logistic.py:940: ConvergenceWarning: lbfgs failed to converge (status=1):\n",
      "STOP: TOTAL NO. of ITERATIONS REACHED LIMIT.\n",
      "\n",
      "Increase the number of iterations (max_iter) or scale the data as shown in:\n",
      "    https://scikit-learn.org/stable/modules/preprocessing.html\n",
      "Please also refer to the documentation for alternative solver options:\n",
      "    https://scikit-learn.org/stable/modules/linear_model.html#logistic-regression\n",
      "  extra_warning_msg=_LOGISTIC_SOLVER_CONVERGENCE_MSG)\n"
     ]
    }
   ],
   "source": [
    "# Quick sanity check\n",
    "from sklearn.linear_model import LogisticRegression\n",
    "\n",
    "logisticRegr = LogisticRegression()\n",
    "logisticRegr.fit(x_train, y_train)\n",
    "score = logisticRegr.score(x_test, y_test)\n",
    "print(score)"
   ]
  },
  {
   "cell_type": "code",
   "execution_count": 33,
   "metadata": {},
   "outputs": [
    {
     "name": "stdout",
     "output_type": "stream",
     "text": [
      "Train on 7348 samples, validate on 1837 samples\n",
      "Epoch 1/10\n",
      "7348/7348 [==============================] - 0s 26us/step - loss: 0.6668 - accuracy: 0.6000 - val_loss: 0.6241 - val_accuracy: 0.6815\n",
      "Epoch 2/10\n",
      "7348/7348 [==============================] - 0s 11us/step - loss: 0.6019 - accuracy: 0.7011 - val_loss: 0.5795 - val_accuracy: 0.7180\n",
      "Epoch 3/10\n",
      "7348/7348 [==============================] - 0s 10us/step - loss: 0.5655 - accuracy: 0.7467 - val_loss: 0.5494 - val_accuracy: 0.7714\n",
      "Epoch 4/10\n",
      "7348/7348 [==============================] - 0s 11us/step - loss: 0.5398 - accuracy: 0.7844 - val_loss: 0.5278 - val_accuracy: 0.7942\n",
      "Epoch 5/10\n",
      "7348/7348 [==============================] - 0s 12us/step - loss: 0.5206 - accuracy: 0.7953 - val_loss: 0.5114 - val_accuracy: 0.8046\n",
      "Epoch 6/10\n",
      "7348/7348 [==============================] - 0s 12us/step - loss: 0.5061 - accuracy: 0.7982 - val_loss: 0.4990 - val_accuracy: 0.8084\n",
      "Epoch 7/10\n",
      "7348/7348 [==============================] - 0s 12us/step - loss: 0.4951 - accuracy: 0.7994 - val_loss: 0.4894 - val_accuracy: 0.8057\n",
      "Epoch 8/10\n",
      "7348/7348 [==============================] - 0s 12us/step - loss: 0.4862 - accuracy: 0.8002 - val_loss: 0.4813 - val_accuracy: 0.8095\n",
      "Epoch 9/10\n",
      "7348/7348 [==============================] - 0s 12us/step - loss: 0.4789 - accuracy: 0.8021 - val_loss: 0.4748 - val_accuracy: 0.8100\n",
      "Epoch 10/10\n",
      "7348/7348 [==============================] - 0s 12us/step - loss: 0.4728 - accuracy: 0.8055 - val_loss: 0.4692 - val_accuracy: 0.8100\n",
      "Test score: 0.4837275504884276\n",
      "Test accuracy: 0.8006094694137573\n"
     ]
    }
   ],
   "source": [
    "from keras.models import Sequential \n",
    "from keras.layers import Dense, Dropout\n",
    "from keras.constraints import NonNeg\n",
    "\n",
    "m = np.shape(x)[1]\n",
    "    \n",
    "model = Sequential()  \n",
    "model.add(Dense(1, input_dim=m, activation='sigmoid', name = 'contributions')) \n",
    "\n",
    "model.compile(optimizer='rmsprop', loss='binary_crossentropy', metrics=['accuracy']) \n",
    "history = model.fit(x_train, y_train, batch_size=128, epochs=10, verbose=1, validation_data=(x_val, y_val)) \n",
    "score = model.evaluate(x_test, y_test, verbose=0) \n",
    "print('Test score:', score[0]) \n",
    "print('Test accuracy:', score[1])"
   ]
  },
  {
   "cell_type": "code",
   "execution_count": 34,
   "metadata": {},
   "outputs": [
    {
     "data": {
      "image/png": "[encoded data removed]",
      "text/plain": [
       "<Figure size 1080x288 with 1 Axes>"
      ]
     },
     "metadata": {
      "needs_background": "light"
     },
     "output_type": "display_data"
    }
   ],
   "source": [
    "# Visualization of the attribution scores\n",
    "from sklearn.utils.extmath import softmax\n",
    "\n",
    "keras_logreg = model.get_layer('contributions').get_weights()[0].flatten()[0:n_campaigns]\n",
    "keras_logreg = softmax([keras_logreg]).flatten()\n",
    "\n",
    "fig = plt.figure(figsize=(15,4))\n",
    "ax = fig.add_subplot(111)\n",
    "plt.bar(range(len(keras_logreg[campaign_idx])), keras_logreg[campaign_idx] )\n",
    "plt.xlabel('Campaign ID')\n",
    "plt.ylabel('Return per impression')\n",
    "plt.show()"
   ]
  },
  {
   "cell_type": "markdown",
   "metadata": {},
   "source": [
    "## Basic LSTM"
   ]
  },
  {
   "cell_type": "code",
   "execution_count": 35,
   "metadata": {},
   "outputs": [
    {
     "name": "stdout",
     "output_type": "stream",
     "text": [
      "(11482, 15, 288)\n"
     ]
    }
   ],
   "source": [
    "def features_for_lstm(df, max_touchpoints):\n",
    "    \n",
    "    df_proj = df[['jid', 'campaigns', 'cats', 'click', 'cost', 'time_since_last_click_norm', 'timestamp_norm', 'conversion']]\n",
    "    \n",
    "    x2d = df_proj.values\n",
    "    \n",
    "    x3d_list = np.split(x2d[:, 1:], np.cumsum(np.unique(x2d[:, 0], return_counts=True)[1])[:-1])\n",
    "    \n",
    "    x3d = []\n",
    "    y = []\n",
    "    for xi in x3d_list:\n",
    "        journey_matrix = np.apply_along_axis(np.hstack, 1, xi)\n",
    "        journey_matrix = journey_matrix[ journey_matrix[:, 5].argsort() ] # sort impressions by timestamp\n",
    "        n_touchpoints = len(journey_matrix)\n",
    "        padded_journey = []\n",
    "        if(n_touchpoints >= max_touchpoints):\n",
    "            padded_journey = journey_matrix[0:max_touchpoints]\n",
    "        else:\n",
    "            padded_journey = np.pad(journey_matrix, ((0, max_touchpoints - n_touchpoints), (0, 0)), 'constant', constant_values=(0))\n",
    "            \n",
    "        x3d.append(padded_journey[:, 0:-1])\n",
    "        y.append(np.max(padded_journey[:, -1]))\n",
    "        \n",
    "    return np.stack(x3d), y\n",
    "\n",
    "x, y = features_for_lstm(df6, max_touchpoints = 15)\n",
    "print(np.shape(x))\n",
    "\n",
    "x_train, x_test, y_train, y_test = train_test_split(x, y, test_size = 0.20, random_state = 1)\n",
    "x_train, x_val, y_train, y_val = train_test_split(x_train, y_train, test_size = 0.20, random_state = 1)"
   ]
  },
  {
   "cell_type": "code",
   "execution_count": 36,
   "metadata": {},
   "outputs": [
    {
     "name": "stdout",
     "output_type": "stream",
     "text": [
      "Train on 7348 samples, validate on 1837 samples\n",
      "Epoch 1/5\n",
      "7348/7348 [==============================] - 2s 322us/step - loss: 0.4035 - accuracy: 0.8186 - val_loss: 0.3161 - val_accuracy: 0.8704\n",
      "Epoch 2/5\n",
      "7348/7348 [==============================] - 2s 277us/step - loss: 0.3518 - accuracy: 0.8424 - val_loss: 0.3131 - val_accuracy: 0.8639\n",
      "Epoch 3/5\n",
      "7348/7348 [==============================] - 2s 295us/step - loss: 0.3426 - accuracy: 0.8453 - val_loss: 0.3105 - val_accuracy: 0.8639\n",
      "Epoch 4/5\n",
      "7348/7348 [==============================] - 2s 290us/step - loss: 0.3346 - accuracy: 0.8519 - val_loss: 0.3132 - val_accuracy: 0.8590\n",
      "Epoch 5/5\n",
      "7348/7348 [==============================] - 2s 272us/step - loss: 0.3288 - accuracy: 0.8514 - val_loss: 0.3306 - val_accuracy: 0.8481\n",
      "Test score: 0.324456744522025\n",
      "Test accuracy: 0.841967761516571\n"
     ]
    }
   ],
   "source": [
    "from keras.models import Sequential \n",
    "from keras.layers import Dense, LSTM\n",
    "\n",
    "n_steps, n_features = np.shape(x)[1:3]\n",
    "    \n",
    "model = Sequential() \n",
    "model.add(LSTM(64, dropout=0.2, recurrent_dropout=0.2, input_shape=(n_steps, n_features)))\n",
    "model.add(Dense(1, activation='sigmoid')) \n",
    "\n",
    "model.compile(optimizer='rmsprop', loss='binary_crossentropy', metrics=['accuracy']) \n",
    "history = model.fit(x_train, y_train, batch_size=64, epochs=5, verbose=1, validation_data=(x_val, y_val)) \n",
    "score = model.evaluate(x_test, y_test, verbose=0) \n",
    "print('Test score:', score[0]) \n",
    "print('Test accuracy:', score[1])"
   ]
  },
  {
   "cell_type": "markdown",
   "metadata": {},
   "source": [
    "## LSTM with Attention"
   ]
  },
  {
   "cell_type": "code",
   "execution_count": 37,
   "metadata": {},
   "outputs": [
    {
     "name": "stdout",
     "output_type": "stream",
     "text": [
      "Train on 7348 samples, validate on 1837 samples\n",
      "Epoch 1/5\n",
      "7348/7348 [==============================] - 2s 277us/step - loss: 0.3363 - accuracy: 0.8488 - val_loss: 0.2812 - val_accuracy: 0.8857\n",
      "Epoch 2/5\n",
      "7348/7348 [==============================] - 2s 259us/step - loss: 0.2635 - accuracy: 0.8870 - val_loss: 0.2687 - val_accuracy: 0.8889\n",
      "Epoch 3/5\n",
      "7348/7348 [==============================] - 2s 285us/step - loss: 0.2393 - accuracy: 0.8985 - val_loss: 0.2464 - val_accuracy: 0.8906\n",
      "Epoch 4/5\n",
      "7348/7348 [==============================] - 2s 285us/step - loss: 0.2272 - accuracy: 0.9015 - val_loss: 0.2429 - val_accuracy: 0.8895\n",
      "Epoch 5/5\n",
      "7348/7348 [==============================] - 2s 301us/step - loss: 0.2211 - accuracy: 0.9050 - val_loss: 0.2509 - val_accuracy: 0.8933\n",
      "Test score: 0.2413541278114618\n",
      "Test accuracy: 0.9037875533103943\n"
     ]
    }
   ],
   "source": [
    "from keras.models import Sequential \n",
    "from keras.layers import Dense, LSTM, Input, Lambda, RepeatVector, Permute, Flatten, Activation, Multiply\n",
    "from keras.constraints import NonNeg\n",
    "from keras import backend as K\n",
    "from keras.models import Model\n",
    "\n",
    "n_steps, n_features = np.shape(x)[1:3]\n",
    "\n",
    "hidden_units = 64\n",
    "\n",
    "main_input = Input(shape=(n_steps, n_features))\n",
    "    \n",
    "embeddings = Dense(128, activation='linear', input_shape=(n_steps, n_features))(main_input)\n",
    "\n",
    "activations = LSTM(hidden_units, dropout=0.2, recurrent_dropout=0.2, return_sequences=True)(embeddings)\n",
    "\n",
    "attention = Dense(1, activation='tanh')(activations)\n",
    "attention = Flatten()(attention)\n",
    "attention = Activation('softmax', name = 'attention_weigths')(attention)\n",
    "attention = RepeatVector(hidden_units * 1)(attention)\n",
    "attention = Permute([2, 1])(attention)\n",
    "\n",
    "weighted_activations = Multiply()([activations, attention])\n",
    "weighted_activations = Lambda(lambda xin: K.sum(xin, axis=-2), output_shape=(hidden_units,))(weighted_activations)\n",
    "\n",
    "main_output = Dense(1, activation='sigmoid')(weighted_activations)\n",
    "\n",
    "model = Model(inputs=main_input, outputs=main_output)\n",
    "\n",
    "model.compile(optimizer='rmsprop', loss='binary_crossentropy', metrics=['accuracy']) \n",
    "history = model.fit(x_train, y_train, batch_size=64, epochs=5, verbose=1, validation_data=(x_val, y_val)) \n",
    "score = model.evaluate(x_test, y_test, verbose=0) \n",
    "print('Test score:', score[0]) \n",
    "print('Test accuracy:', score[1])"
   ]
  },
  {
   "cell_type": "markdown",
   "metadata": {},
   "source": [
    "## Analysis of LSTM-A Model"
   ]
  },
  {
   "cell_type": "code",
   "execution_count": 38,
   "metadata": {},
   "outputs": [],
   "source": [
    "from keras.models import Model\n",
    "def get_campaign_id(x_journey_step):\n",
    "    return np.argmax(x_journey_step[0:n_campaigns])\n",
    "\n",
    "attention_model = Model(inputs=model.input, outputs=model.get_layer('attention_weigths').output)\n",
    "\n",
    "a = attention_model.predict(x_train)\n",
    "\n",
    "attributions = np.zeros(n_campaigns)\n",
    "campaign_freq = np.ones(n_campaigns)\n",
    "for i, journey in enumerate(a):\n",
    "    for step, step_contribution in enumerate(journey):\n",
    "        if(np.sum(x_train[i][step]) > 0):\n",
    "            campaign_id = get_campaign_id(x_train[i][step])\n",
    "            attributions[campaign_id] = attributions[campaign_id] + step_contribution\n",
    "            campaign_freq[campaign_id] = campaign_freq[campaign_id] + 1"
   ]
  },
  {
   "cell_type": "code",
   "execution_count": 39,
   "metadata": {},
   "outputs": [
    {
     "data": {
      "image/png": "[encoded data removed]",
      "text/plain": [
       "<Figure size 1080x288 with 1 Axes>"
      ]
     },
     "metadata": {
      "needs_background": "light"
     },
     "output_type": "display_data"
    }
   ],
   "source": [
    "lstm_a = (attributions/campaign_freq)\n",
    "\n",
    "fig = plt.figure(figsize=(15, 4))\n",
    "ax = fig.add_subplot(111)\n",
    "plt.bar( range(len(lstm_a[campaign_idx])), lstm_a[campaign_idx], label='LSTM-A' )\n",
    "plt.xlabel('Campaign ID')\n",
    "plt.ylabel('Contribution')\n",
    "plt.legend(loc='upper left')\n",
    "plt.show()"
   ]
  },
  {
   "cell_type": "code",
   "execution_count": null,
   "metadata": {},
   "outputs": [],
   "source": [
    "fig = plt.figure(figsize=(15, 4))\n",
    "ax = fig.add_subplot(111)\n",
    "\n",
    "ratio = max(lta[idx]) / max(keras_logreg[idx])\n",
    "plt.bar(np.linspace(0, len(campaign_idx), len(campaign_idx)), lta[campaign_idx], width=0.4, alpha=0.7, label='LTA' )\n",
    "plt.bar(np.linspace(0, len(campaign_idx), len(campaign_idx)) - 0.3, keras_logreg[campaign_idx], width=0.4, alpha=0.7, label='Keras Log Reg' )\n",
    "plt.xlabel('Campaign ID')\n",
    "plt.ylabel('Contribution')\n",
    "plt.legend(loc='upper left')\n",
    "plt.show()"
   ]
  },
  {
   "cell_type": "code",
   "execution_count": 41,
   "metadata": {},
   "outputs": [
    {
     "data": {
      "image/png": "[encoded data removed]",
      "text/plain": [
       "<Figure size 1080x288 with 1 Axes>"
      ]
     },
     "metadata": {
      "needs_background": "light"
     },
     "output_type": "display_data"
    }
   ],
   "source": [
    "fig = plt.figure(figsize=(15, 4))\n",
    "ax = fig.add_subplot(111)\n",
    "\n",
    "ratio = max(lta[campaign_idx]) / max(lstm_a[campaign_idx])\n",
    "plt.bar(np.linspace(0, len(campaign_idx), len(campaign_idx)), lta[campaign_idx], width=0.4, alpha=0.7, label='LTA' )\n",
    "plt.bar(np.linspace(0, len(campaign_idx), len(campaign_idx)) - 0.3, lstm_a[campaign_idx], width=0.4, alpha=0.7, label='LSTM-A'  )\n",
    "plt.xlabel('Campaign ID')\n",
    "plt.ylabel('Contribution')\n",
    "plt.legend(loc='upper left')\n",
    "plt.show()"
   ]
  },
  {
   "cell_type": "markdown",
   "metadata": {},
   "source": [
    "## Simulation"
   ]
  },
  {
   "cell_type": "code",
   "execution_count": 42,
   "metadata": {},
   "outputs": [],
   "source": [
    "# Key assumption: If one of the campaigns in a journey runs out of budget, \n",
    "# then the conversion reward is fully lost for the entire journey\n",
    "# including both past and future campaigns\n",
    "\n",
    "def simulate_budget_roi(df, budget_total, attribution, verbose=False):\n",
    "    budgets = np.ceil(attribution * (budget_total / np.sum(attribution)))\n",
    "    \n",
    "    if(verbose):\n",
    "        print(budgets)\n",
    "    \n",
    "    blacklist = set()\n",
    "    conversions = set()\n",
    "    for i in range(df.shape[0]):\n",
    "        campaign_id = get_campaign_id(df.loc[i]['campaigns']) \n",
    "        jid = df.loc[i]['jid']\n",
    "        if jid not in blacklist:\n",
    "            if budgets[campaign_id] >= 1:\n",
    "                budgets[campaign_id] = budgets[campaign_id] - 1\n",
    "                if(df.loc[i]['conversion'] == 1):\n",
    "                    conversions.add(jid)\n",
    "            else:\n",
    "                blacklist.add(jid)\n",
    "        \n",
    "        if(verbose):\n",
    "            if(i % 10000 == 0):\n",
    "                print('{:.2%} : {:.2%} budget spent'.format(i/df.shape[0], 1.0 - np.sum(budgets)/budget_total ))\n",
    "        \n",
    "        if(np.sum(budgets) < budget_total * 0.02):\n",
    "            break\n",
    "            \n",
    "    return len(conversions.difference(blacklist))"
   ]
  },
  {
   "cell_type": "code",
   "execution_count": 63,
   "metadata": {
    "scrolled": false
   },
   "outputs": [
    {
     "name": "stdout",
     "output_type": "stream",
     "text": [
      "0.5 0 : 713\n",
      "0.5 1 : 713\n",
      "0.5 2 : 632\n",
      "0.5 3 : 605\n",
      "1.0 0 : 828\n",
      "1.0 1 : 828\n",
      "1.0 2 : 651\n",
      "1.0 3 : 608\n",
      "2.0 0 : 977\n",
      "2.0 1 : 977\n",
      "2.0 2 : 719\n",
      "2.0 3 : 618\n",
      "3.0 0 : 1200\n",
      "3.0 1 : 1200\n",
      "3.0 2 : 800\n",
      "3.0 3 : 632\n"
     ]
    }
   ],
   "source": [
    "pitches = [0.5, 1.0, 2.0, 3.0]\n",
    "attributions = [lta, fta, uta, tdta]\n",
    "reward=[]\n",
    "att=[]\n",
    "pitch=[]\n",
    "for i, pitch in enumerate(pitches):\n",
    "    for j, attribution in enumerate(attributions):\n",
    "        reward = simulate_budget_roi(df6, 10000, attribution**pitch)\n",
    "        print('{} {} : {}'.format(pitch, j, reward))"
   ]
  }
 ],
 "metadata": {
  "kernelspec": {
   "display_name": "Python 3",
   "language": "python",
   "name": "python3"
  },
  "language_info": {
   "codemirror_mode": {
    "name": "ipython",
    "version": 3
   },
   "file_extension": ".py",
   "mimetype": "text/x-python",
   "name": "python",
   "nbconvert_exporter": "python",
   "pygments_lexer": "ipython3",
   "version": "3.7.4"
  }
 },
 "nbformat": 4,
 "nbformat_minor": 4
}
