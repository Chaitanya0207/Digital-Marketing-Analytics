import streamlit as st
import pandas as pd
import numpy as np
import altair as alt
import matplotlib.pyplot as plt

data = pd.read_csv("Data_Input.csv")

st.header("Click To Predict")

def highest_sold_prod(data1):	
	st.subheader("Highly recommended Product Category through the highest number of clicks")
	st.write(alt.Chart(data1).mark_bar().encode(
		x=alt.X('product_cat', title = 'Product Category'),
		y=alt.X('count(click)', title = 'Total Clicks', sort = 'ascending'),
		order=alt.Order('count(click)',sort='ascending')
	).properties(
		width=450,
		height=450))
		

def most_searched_site(data1):	
	st.subheader("Highly recommended sites through the highest number of clicks")
	st.write(alt.Chart(data1).mark_bar().encode(
		x=alt.X('Site Name',sort = 'ascending', title ='Site Name'),
		y=alt.X('count(click)',sort = 'ascending', title = 'Total Clicks'),
		order=alt.Order('count(click)', sort="descending")
	).properties(
		width=450,
		height=450))
		
		
def User_Action_Analysis(data1):	
	#sns.set(font_scale=1.4)
	st.subheader("User Action Analysis (0:View & 1:Search)")
	#st.subheader("0: View & 1: Search")
	data1['Action'].value_counts().plot(kind='bar', figsize=(10,10), rot=0)
	plt.xlabel("Action", labelpad=14)
	plt.ylabel("Total Count", labelpad=14)
	plt.title("User Action Analysis", y=1.02)
	plt.show()
	st.pyplot()
		

st.sidebar.title("Snackation") 
add_selectbox = st.sidebar.selectbox( 'What do you want to do?', 
                ('Data','Recommended Product Category', 'User Action Analysis',
				'Most Searched Site',''))

st.sidebar.subheader("Users") 			
id = st.sidebar.slider('id', 0, 50000, 10000)
data1 = data[data['id'] < id]


if add_selectbox == "Recommended Product Category":
	highest_sold_prod(data1)
elif add_selectbox == "Most Searched Site":
    most_searched_site(data1)
elif add_selectbox == "User Action Analysis":
    User_Action_Analysis(data1)
elif add_selectbox == "Data":
	st.subheader("Data")
	st.write(data1)
	



	
	
		
		
		




