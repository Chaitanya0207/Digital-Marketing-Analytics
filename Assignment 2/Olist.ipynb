{
 "cells": [
  {
   "cell_type": "markdown",
   "metadata": {},
   "source": [
    "## OLIST"
   ]
  },
  {
   "cell_type": "code",
   "execution_count": 99,
   "metadata": {},
   "outputs": [],
   "source": [
    "#Pandas library\n",
    "import pandas as pd"
   ]
  },
  {
   "cell_type": "code",
   "execution_count": 100,
   "metadata": {},
   "outputs": [],
   "source": [
    "#closed deals\n",
    "cd = pd.read_csv('olist_closed_deals_dataset.csv')"
   ]
  },
  {
   "cell_type": "code",
   "execution_count": 101,
   "metadata": {},
   "outputs": [],
   "source": [
    "#marketing qualified leads\n",
    "mql = pd.read_csv('olist_marketing_qualified_leads_dataset.csv')"
   ]
  },
  {
   "cell_type": "code",
   "execution_count": 102,
   "metadata": {},
   "outputs": [],
   "source": [
    "#olist order items\n",
    "order_items = pd.read_csv('olist_order_items_dataset.csv')"
   ]
  },
  {
   "cell_type": "code",
   "execution_count": 103,
   "metadata": {},
   "outputs": [],
   "source": [
    "#olist sellers dataset\n",
    "sellers = pd.read_csv('olist_sellers_dataset.csv')"
   ]
  },
  {
   "cell_type": "code",
   "execution_count": 104,
   "metadata": {},
   "outputs": [],
   "source": [
    "#olist products dataset\n",
    "products = pd.read_csv('olist_products_dataset.csv')"
   ]
  },
  {
   "cell_type": "code",
   "execution_count": 105,
   "metadata": {},
   "outputs": [],
   "source": [
    "#product category name translation\n",
    "prod_name = pd.read_csv('product_category_name_translation.csv')"
   ]
  },
  {
   "cell_type": "code",
   "execution_count": 106,
   "metadata": {},
   "outputs": [],
   "source": [
    "#olist orders dataset\n",
    "orders = pd.read_csv('olist_orders_dataset.csv')"
   ]
  },
  {
   "cell_type": "code",
   "execution_count": 107,
   "metadata": {},
   "outputs": [],
   "source": [
    "#olist orders reviews dataset\n",
    "reviews = pd.read_csv('olist_order_reviews_dataset.csv')"
   ]
  },
  {
   "cell_type": "markdown",
   "metadata": {},
   "source": [
    "### Considering Olist - Closed leads dataset as the main dataset --"
   ]
  },
  {
   "cell_type": "markdown",
   "metadata": {},
   "source": [
    "### MQL - EDA"
   ]
  },
  {
   "cell_type": "code",
   "execution_count": 108,
   "metadata": {},
   "outputs": [
    {
     "name": "stdout",
     "output_type": "stream",
     "text": [
      "<class 'pandas.core.frame.DataFrame'>\n",
      "RangeIndex: 8000 entries, 0 to 7999\n",
      "Data columns (total 4 columns):\n",
      "mql_id                8000 non-null object\n",
      "first_contact_date    8000 non-null object\n",
      "landing_page_id       8000 non-null object\n",
      "origin                7940 non-null object\n",
      "dtypes: object(4)\n",
      "memory usage: 250.1+ KB\n"
     ]
    }
   ],
   "source": [
    "mql.info()"
   ]
  },
  {
   "cell_type": "code",
   "execution_count": 109,
   "metadata": {},
   "outputs": [
    {
     "data": {
      "text/plain": [
       "mql_id                object\n",
       "first_contact_date    object\n",
       "landing_page_id       object\n",
       "origin                object\n",
       "dtype: object"
      ]
     },
     "execution_count": 109,
     "metadata": {},
     "output_type": "execute_result"
    }
   ],
   "source": [
    "mql.dtypes"
   ]
  },
  {
   "cell_type": "code",
   "execution_count": 110,
   "metadata": {},
   "outputs": [
    {
     "data": {
      "text/html": [
       "<div>\n",
       "<style scoped>\n",
       "    .dataframe tbody tr th:only-of-type {\n",
       "        vertical-align: middle;\n",
       "    }\n",
       "\n",
       "    .dataframe tbody tr th {\n",
       "        vertical-align: top;\n",
       "    }\n",
       "\n",
       "    .dataframe thead th {\n",
       "        text-align: right;\n",
       "    }\n",
       "</style>\n",
       "<table border=\"1\" class=\"dataframe\">\n",
       "  <thead>\n",
       "    <tr style=\"text-align: right;\">\n",
       "      <th></th>\n",
       "      <th>mql_id</th>\n",
       "      <th>first_contact_date</th>\n",
       "      <th>landing_page_id</th>\n",
       "      <th>origin</th>\n",
       "    </tr>\n",
       "  </thead>\n",
       "  <tbody>\n",
       "    <tr>\n",
       "      <th>0</th>\n",
       "      <td>dac32acd4db4c29c230538b72f8dd87d</td>\n",
       "      <td>2/1/2018</td>\n",
       "      <td>88740e65d5d6b056e0cda098e1ea6313</td>\n",
       "      <td>social</td>\n",
       "    </tr>\n",
       "    <tr>\n",
       "      <th>1</th>\n",
       "      <td>8c18d1de7f67e60dbd64e3c07d7e9d5d</td>\n",
       "      <td>10/20/2017</td>\n",
       "      <td>007f9098284a86ee80ddeb25d53e0af8</td>\n",
       "      <td>paid_search</td>\n",
       "    </tr>\n",
       "    <tr>\n",
       "      <th>2</th>\n",
       "      <td>b4bc852d233dfefc5131f593b538befa</td>\n",
       "      <td>3/22/2018</td>\n",
       "      <td>a7982125ff7aa3b2054c6e44f9d28522</td>\n",
       "      <td>organic_search</td>\n",
       "    </tr>\n",
       "    <tr>\n",
       "      <th>3</th>\n",
       "      <td>6be030b81c75970747525b843c1ef4f8</td>\n",
       "      <td>1/22/2018</td>\n",
       "      <td>d45d558f0daeecf3cccdffe3c59684aa</td>\n",
       "      <td>email</td>\n",
       "    </tr>\n",
       "    <tr>\n",
       "      <th>4</th>\n",
       "      <td>5420aad7fec3549a85876ba1c529bd84</td>\n",
       "      <td>2/21/2018</td>\n",
       "      <td>b48ec5f3b04e9068441002a19df93c6c</td>\n",
       "      <td>organic_search</td>\n",
       "    </tr>\n",
       "  </tbody>\n",
       "</table>\n",
       "</div>"
      ],
      "text/plain": [
       "                             mql_id first_contact_date  \\\n",
       "0  dac32acd4db4c29c230538b72f8dd87d           2/1/2018   \n",
       "1  8c18d1de7f67e60dbd64e3c07d7e9d5d         10/20/2017   \n",
       "2  b4bc852d233dfefc5131f593b538befa          3/22/2018   \n",
       "3  6be030b81c75970747525b843c1ef4f8          1/22/2018   \n",
       "4  5420aad7fec3549a85876ba1c529bd84          2/21/2018   \n",
       "\n",
       "                    landing_page_id          origin  \n",
       "0  88740e65d5d6b056e0cda098e1ea6313          social  \n",
       "1  007f9098284a86ee80ddeb25d53e0af8     paid_search  \n",
       "2  a7982125ff7aa3b2054c6e44f9d28522  organic_search  \n",
       "3  d45d558f0daeecf3cccdffe3c59684aa           email  \n",
       "4  b48ec5f3b04e9068441002a19df93c6c  organic_search  "
      ]
     },
     "execution_count": 110,
     "metadata": {},
     "output_type": "execute_result"
    }
   ],
   "source": [
    "mql.head(5)"
   ]
  },
  {
   "cell_type": "code",
   "execution_count": 111,
   "metadata": {},
   "outputs": [
    {
     "data": {
      "text/plain": [
       "mql_id                 0\n",
       "first_contact_date     0\n",
       "landing_page_id        0\n",
       "origin                60\n",
       "dtype: int64"
      ]
     },
     "execution_count": 111,
     "metadata": {},
     "output_type": "execute_result"
    }
   ],
   "source": [
    "mql.isnull().sum()"
   ]
  },
  {
   "cell_type": "code",
   "execution_count": 112,
   "metadata": {},
   "outputs": [
    {
     "data": {
      "text/plain": [
       "mql_id                0\n",
       "first_contact_date    0\n",
       "landing_page_id       0\n",
       "origin                0\n",
       "dtype: int64"
      ]
     },
     "execution_count": 112,
     "metadata": {},
     "output_type": "execute_result"
    }
   ],
   "source": [
    "mql.dropna(subset=['origin'],inplace=True)\n",
    "mql.isnull().sum()"
   ]
  },
  {
   "cell_type": "code",
   "execution_count": 113,
   "metadata": {},
   "outputs": [],
   "source": [
    "mql['first_contact_date'] = pd.to_datetime(mql['first_contact_date']).dt.date"
   ]
  },
  {
   "cell_type": "code",
   "execution_count": 114,
   "metadata": {},
   "outputs": [
    {
     "data": {
      "text/html": [
       "<div>\n",
       "<style scoped>\n",
       "    .dataframe tbody tr th:only-of-type {\n",
       "        vertical-align: middle;\n",
       "    }\n",
       "\n",
       "    .dataframe tbody tr th {\n",
       "        vertical-align: top;\n",
       "    }\n",
       "\n",
       "    .dataframe thead th {\n",
       "        text-align: right;\n",
       "    }\n",
       "</style>\n",
       "<table border=\"1\" class=\"dataframe\">\n",
       "  <thead>\n",
       "    <tr style=\"text-align: right;\">\n",
       "      <th></th>\n",
       "      <th>mql_id</th>\n",
       "      <th>first_contact_date</th>\n",
       "      <th>landing_page_id</th>\n",
       "      <th>origin</th>\n",
       "    </tr>\n",
       "  </thead>\n",
       "  <tbody>\n",
       "    <tr>\n",
       "      <th>0</th>\n",
       "      <td>dac32acd4db4c29c230538b72f8dd87d</td>\n",
       "      <td>2018-02-01</td>\n",
       "      <td>88740e65d5d6b056e0cda098e1ea6313</td>\n",
       "      <td>social</td>\n",
       "    </tr>\n",
       "    <tr>\n",
       "      <th>1</th>\n",
       "      <td>8c18d1de7f67e60dbd64e3c07d7e9d5d</td>\n",
       "      <td>2017-10-20</td>\n",
       "      <td>007f9098284a86ee80ddeb25d53e0af8</td>\n",
       "      <td>paid_search</td>\n",
       "    </tr>\n",
       "    <tr>\n",
       "      <th>2</th>\n",
       "      <td>b4bc852d233dfefc5131f593b538befa</td>\n",
       "      <td>2018-03-22</td>\n",
       "      <td>a7982125ff7aa3b2054c6e44f9d28522</td>\n",
       "      <td>organic_search</td>\n",
       "    </tr>\n",
       "    <tr>\n",
       "      <th>3</th>\n",
       "      <td>6be030b81c75970747525b843c1ef4f8</td>\n",
       "      <td>2018-01-22</td>\n",
       "      <td>d45d558f0daeecf3cccdffe3c59684aa</td>\n",
       "      <td>email</td>\n",
       "    </tr>\n",
       "  </tbody>\n",
       "</table>\n",
       "</div>"
      ],
      "text/plain": [
       "                             mql_id first_contact_date  \\\n",
       "0  dac32acd4db4c29c230538b72f8dd87d         2018-02-01   \n",
       "1  8c18d1de7f67e60dbd64e3c07d7e9d5d         2017-10-20   \n",
       "2  b4bc852d233dfefc5131f593b538befa         2018-03-22   \n",
       "3  6be030b81c75970747525b843c1ef4f8         2018-01-22   \n",
       "\n",
       "                    landing_page_id          origin  \n",
       "0  88740e65d5d6b056e0cda098e1ea6313          social  \n",
       "1  007f9098284a86ee80ddeb25d53e0af8     paid_search  \n",
       "2  a7982125ff7aa3b2054c6e44f9d28522  organic_search  \n",
       "3  d45d558f0daeecf3cccdffe3c59684aa           email  "
      ]
     },
     "execution_count": 114,
     "metadata": {},
     "output_type": "execute_result"
    }
   ],
   "source": [
    "mql.head(4)"
   ]
  },
  {
   "cell_type": "markdown",
   "metadata": {},
   "source": [
    "### EDA for Closed Deals dataset --"
   ]
  },
  {
   "cell_type": "code",
   "execution_count": 115,
   "metadata": {},
   "outputs": [
    {
     "data": {
      "text/html": [
       "<div>\n",
       "<style scoped>\n",
       "    .dataframe tbody tr th:only-of-type {\n",
       "        vertical-align: middle;\n",
       "    }\n",
       "\n",
       "    .dataframe tbody tr th {\n",
       "        vertical-align: top;\n",
       "    }\n",
       "\n",
       "    .dataframe thead th {\n",
       "        text-align: right;\n",
       "    }\n",
       "</style>\n",
       "<table border=\"1\" class=\"dataframe\">\n",
       "  <thead>\n",
       "    <tr style=\"text-align: right;\">\n",
       "      <th></th>\n",
       "      <th>mql_id</th>\n",
       "      <th>seller_id</th>\n",
       "      <th>sdr_id</th>\n",
       "      <th>sr_id</th>\n",
       "      <th>won_date</th>\n",
       "      <th>business_segment</th>\n",
       "      <th>lead_type</th>\n",
       "      <th>lead_behaviour_profile</th>\n",
       "      <th>has_company</th>\n",
       "      <th>has_gtin</th>\n",
       "      <th>average_stock</th>\n",
       "      <th>business_type</th>\n",
       "      <th>declared_product_catalog_size</th>\n",
       "      <th>declared_monthly_revenue</th>\n",
       "    </tr>\n",
       "  </thead>\n",
       "  <tbody>\n",
       "    <tr>\n",
       "      <th>0</th>\n",
       "      <td>5420aad7fec3549a85876ba1c529bd84</td>\n",
       "      <td>2c43fb513632d29b3b58df74816f1b06</td>\n",
       "      <td>a8387c01a09e99ce014107505b92388c</td>\n",
       "      <td>4ef15afb4b2723d8f3d81e51ec7afefe</td>\n",
       "      <td>2/26/2018 19:58</td>\n",
       "      <td>pet</td>\n",
       "      <td>online_medium</td>\n",
       "      <td>cat</td>\n",
       "      <td>NaN</td>\n",
       "      <td>NaN</td>\n",
       "      <td>NaN</td>\n",
       "      <td>reseller</td>\n",
       "      <td>NaN</td>\n",
       "      <td>0</td>\n",
       "    </tr>\n",
       "    <tr>\n",
       "      <th>1</th>\n",
       "      <td>a555fb36b9368110ede0f043dfc3b9a0</td>\n",
       "      <td>bbb7d7893a450660432ea6652310ebb7</td>\n",
       "      <td>09285259593c61296eef10c734121d5b</td>\n",
       "      <td>d3d1e91a157ea7f90548eef82f1955e3</td>\n",
       "      <td>5/8/2018 20:17</td>\n",
       "      <td>car_accessories</td>\n",
       "      <td>industry</td>\n",
       "      <td>eagle</td>\n",
       "      <td>NaN</td>\n",
       "      <td>NaN</td>\n",
       "      <td>NaN</td>\n",
       "      <td>reseller</td>\n",
       "      <td>NaN</td>\n",
       "      <td>0</td>\n",
       "    </tr>\n",
       "    <tr>\n",
       "      <th>2</th>\n",
       "      <td>327174d3648a2d047e8940d7d15204ca</td>\n",
       "      <td>612170e34b97004b3ba37eae81836b4c</td>\n",
       "      <td>b90f87164b5f8c2cfa5c8572834dbe3f</td>\n",
       "      <td>6565aa9ce3178a5caf6171827af3a9ba</td>\n",
       "      <td>6/5/2018 17:27</td>\n",
       "      <td>home_appliances</td>\n",
       "      <td>online_big</td>\n",
       "      <td>cat</td>\n",
       "      <td>NaN</td>\n",
       "      <td>NaN</td>\n",
       "      <td>NaN</td>\n",
       "      <td>reseller</td>\n",
       "      <td>NaN</td>\n",
       "      <td>0</td>\n",
       "    </tr>\n",
       "    <tr>\n",
       "      <th>3</th>\n",
       "      <td>f5fee8f7da74f4887f5bcae2bafb6dd6</td>\n",
       "      <td>21e1781e36faf92725dde4730a88ca0f</td>\n",
       "      <td>56bf83c4bb35763a51c2baab501b4c67</td>\n",
       "      <td>d3d1e91a157ea7f90548eef82f1955e3</td>\n",
       "      <td>1/17/2018 13:51</td>\n",
       "      <td>food_drink</td>\n",
       "      <td>online_small</td>\n",
       "      <td>NaN</td>\n",
       "      <td>NaN</td>\n",
       "      <td>NaN</td>\n",
       "      <td>NaN</td>\n",
       "      <td>reseller</td>\n",
       "      <td>NaN</td>\n",
       "      <td>0</td>\n",
       "    </tr>\n",
       "    <tr>\n",
       "      <th>4</th>\n",
       "      <td>ffe640179b554e295c167a2f6be528e0</td>\n",
       "      <td>ed8cb7b190ceb6067227478e48cf8dde</td>\n",
       "      <td>4b339f9567d060bcea4f5136b9f5949e</td>\n",
       "      <td>d3d1e91a157ea7f90548eef82f1955e3</td>\n",
       "      <td>7/3/2018 20:17</td>\n",
       "      <td>home_appliances</td>\n",
       "      <td>industry</td>\n",
       "      <td>wolf</td>\n",
       "      <td>NaN</td>\n",
       "      <td>NaN</td>\n",
       "      <td>NaN</td>\n",
       "      <td>manufacturer</td>\n",
       "      <td>NaN</td>\n",
       "      <td>0</td>\n",
       "    </tr>\n",
       "  </tbody>\n",
       "</table>\n",
       "</div>"
      ],
      "text/plain": [
       "                             mql_id                         seller_id  \\\n",
       "0  5420aad7fec3549a85876ba1c529bd84  2c43fb513632d29b3b58df74816f1b06   \n",
       "1  a555fb36b9368110ede0f043dfc3b9a0  bbb7d7893a450660432ea6652310ebb7   \n",
       "2  327174d3648a2d047e8940d7d15204ca  612170e34b97004b3ba37eae81836b4c   \n",
       "3  f5fee8f7da74f4887f5bcae2bafb6dd6  21e1781e36faf92725dde4730a88ca0f   \n",
       "4  ffe640179b554e295c167a2f6be528e0  ed8cb7b190ceb6067227478e48cf8dde   \n",
       "\n",
       "                             sdr_id                             sr_id  \\\n",
       "0  a8387c01a09e99ce014107505b92388c  4ef15afb4b2723d8f3d81e51ec7afefe   \n",
       "1  09285259593c61296eef10c734121d5b  d3d1e91a157ea7f90548eef82f1955e3   \n",
       "2  b90f87164b5f8c2cfa5c8572834dbe3f  6565aa9ce3178a5caf6171827af3a9ba   \n",
       "3  56bf83c4bb35763a51c2baab501b4c67  d3d1e91a157ea7f90548eef82f1955e3   \n",
       "4  4b339f9567d060bcea4f5136b9f5949e  d3d1e91a157ea7f90548eef82f1955e3   \n",
       "\n",
       "          won_date business_segment      lead_type lead_behaviour_profile  \\\n",
       "0  2/26/2018 19:58              pet  online_medium                    cat   \n",
       "1   5/8/2018 20:17  car_accessories       industry                  eagle   \n",
       "2   6/5/2018 17:27  home_appliances     online_big                    cat   \n",
       "3  1/17/2018 13:51       food_drink   online_small                    NaN   \n",
       "4   7/3/2018 20:17  home_appliances       industry                   wolf   \n",
       "\n",
       "  has_company has_gtin average_stock business_type  \\\n",
       "0         NaN      NaN           NaN      reseller   \n",
       "1         NaN      NaN           NaN      reseller   \n",
       "2         NaN      NaN           NaN      reseller   \n",
       "3         NaN      NaN           NaN      reseller   \n",
       "4         NaN      NaN           NaN  manufacturer   \n",
       "\n",
       "   declared_product_catalog_size  declared_monthly_revenue  \n",
       "0                            NaN                         0  \n",
       "1                            NaN                         0  \n",
       "2                            NaN                         0  \n",
       "3                            NaN                         0  \n",
       "4                            NaN                         0  "
      ]
     },
     "execution_count": 115,
     "metadata": {},
     "output_type": "execute_result"
    }
   ],
   "source": [
    "cd.head()"
   ]
  },
  {
   "cell_type": "code",
   "execution_count": 116,
   "metadata": {},
   "outputs": [
    {
     "name": "stdout",
     "output_type": "stream",
     "text": [
      "<class 'pandas.core.frame.DataFrame'>\n",
      "RangeIndex: 842 entries, 0 to 841\n",
      "Data columns (total 14 columns):\n",
      "mql_id                           842 non-null object\n",
      "seller_id                        842 non-null object\n",
      "sdr_id                           842 non-null object\n",
      "sr_id                            842 non-null object\n",
      "won_date                         842 non-null object\n",
      "business_segment                 841 non-null object\n",
      "lead_type                        836 non-null object\n",
      "lead_behaviour_profile           665 non-null object\n",
      "has_company                      63 non-null object\n",
      "has_gtin                         64 non-null object\n",
      "average_stock                    66 non-null object\n",
      "business_type                    832 non-null object\n",
      "declared_product_catalog_size    69 non-null float64\n",
      "declared_monthly_revenue         842 non-null int64\n",
      "dtypes: float64(1), int64(1), object(12)\n",
      "memory usage: 92.2+ KB\n"
     ]
    }
   ],
   "source": [
    "cd.info()"
   ]
  },
  {
   "cell_type": "code",
   "execution_count": 117,
   "metadata": {},
   "outputs": [
    {
     "data": {
      "text/plain": [
       "mql_id                             0\n",
       "seller_id                          0\n",
       "sdr_id                             0\n",
       "sr_id                              0\n",
       "won_date                           0\n",
       "business_segment                   1\n",
       "lead_type                          6\n",
       "lead_behaviour_profile           177\n",
       "has_company                      779\n",
       "has_gtin                         778\n",
       "average_stock                    776\n",
       "business_type                     10\n",
       "declared_product_catalog_size    773\n",
       "declared_monthly_revenue           0\n",
       "dtype: int64"
      ]
     },
     "execution_count": 117,
     "metadata": {},
     "output_type": "execute_result"
    }
   ],
   "source": [
    "cd.isnull().sum()"
   ]
  },
  {
   "cell_type": "code",
   "execution_count": 118,
   "metadata": {},
   "outputs": [
    {
     "data": {
      "text/plain": [
       "array(['pet', 'car_accessories', 'home_appliances', 'food_drink',\n",
       "       'health_beauty', 'computers', 'household_utilities',\n",
       "       'construction_tools_house_garden', 'toys', 'sports_leisure',\n",
       "       'stationery', 'food_supplement', 'home_decor', 'bed_bath_table',\n",
       "       'watches', 'fashion_accessories', 'jewerly', 'party',\n",
       "       'small_appliances', 'audio_video_electronics', 'other',\n",
       "       'bags_backpacks', 'home_office_furniture', 'music_instruments',\n",
       "       'books', 'baby', 'air_conditioning', 'phone_mobile', nan,\n",
       "       'handcrafted', 'perfume', 'gifts', 'religious', 'games_consoles'],\n",
       "      dtype=object)"
      ]
     },
     "execution_count": 118,
     "metadata": {},
     "output_type": "execute_result"
    }
   ],
   "source": [
    "cd['business_segment'].unique()"
   ]
  },
  {
   "cell_type": "code",
   "execution_count": 119,
   "metadata": {},
   "outputs": [
    {
     "data": {
      "text/plain": [
       "array(['online_medium', 'industry', 'online_big', 'online_small',\n",
       "       'offline', 'online_top', 'online_beginner', 'other', nan],\n",
       "      dtype=object)"
      ]
     },
     "execution_count": 119,
     "metadata": {},
     "output_type": "execute_result"
    }
   ],
   "source": [
    "cd['lead_type'].unique()"
   ]
  },
  {
   "cell_type": "code",
   "execution_count": 120,
   "metadata": {},
   "outputs": [
    {
     "data": {
      "text/plain": [
       "array(['reseller', 'manufacturer', 'other', nan], dtype=object)"
      ]
     },
     "execution_count": 120,
     "metadata": {},
     "output_type": "execute_result"
    }
   ],
   "source": [
    "cd['business_type'].unique()"
   ]
  },
  {
   "cell_type": "code",
   "execution_count": 121,
   "metadata": {},
   "outputs": [
    {
     "data": {
      "text/plain": [
       "mql_id                             0\n",
       "seller_id                          0\n",
       "sdr_id                             0\n",
       "sr_id                              0\n",
       "won_date                           0\n",
       "business_segment                   0\n",
       "lead_type                          0\n",
       "lead_behaviour_profile           172\n",
       "has_company                      772\n",
       "has_gtin                         771\n",
       "average_stock                    769\n",
       "business_type                     10\n",
       "declared_product_catalog_size    766\n",
       "declared_monthly_revenue           0\n",
       "dtype: int64"
      ]
     },
     "execution_count": 121,
     "metadata": {},
     "output_type": "execute_result"
    }
   ],
   "source": [
    "cd.dropna(subset=['business_segment','lead_type'],inplace=True)\n",
    "cd.isnull().sum()"
   ]
  },
  {
   "cell_type": "code",
   "execution_count": 122,
   "metadata": {},
   "outputs": [
    {
     "data": {
      "text/plain": [
       "array(['cat', 'eagle', nan, 'wolf', 'shark', 'cat, wolf', 'eagle, wolf',\n",
       "       'shark, cat', 'eagle, cat', 'shark, wolf'], dtype=object)"
      ]
     },
     "execution_count": 122,
     "metadata": {},
     "output_type": "execute_result"
    }
   ],
   "source": [
    "cd['lead_behaviour_profile'].unique()"
   ]
  },
  {
   "cell_type": "code",
   "execution_count": 123,
   "metadata": {},
   "outputs": [],
   "source": [
    "cd['lead_behaviour_profile'] = cd['lead_behaviour_profile'].fillna('others')"
   ]
  },
  {
   "cell_type": "code",
   "execution_count": 124,
   "metadata": {},
   "outputs": [
    {
     "data": {
      "text/plain": [
       "mql_id                             0\n",
       "seller_id                          0\n",
       "sdr_id                             0\n",
       "sr_id                              0\n",
       "won_date                           0\n",
       "business_segment                   0\n",
       "lead_type                          0\n",
       "lead_behaviour_profile             0\n",
       "has_company                      772\n",
       "has_gtin                         771\n",
       "average_stock                    769\n",
       "business_type                     10\n",
       "declared_product_catalog_size    766\n",
       "declared_monthly_revenue           0\n",
       "dtype: int64"
      ]
     },
     "execution_count": 124,
     "metadata": {},
     "output_type": "execute_result"
    }
   ],
   "source": [
    "cd.isnull().sum()"
   ]
  },
  {
   "cell_type": "code",
   "execution_count": 125,
   "metadata": {},
   "outputs": [
    {
     "data": {
      "text/plain": [
       "array(['reseller', 'manufacturer', 'other', nan], dtype=object)"
      ]
     },
     "execution_count": 125,
     "metadata": {},
     "output_type": "execute_result"
    }
   ],
   "source": [
    "cd['business_type'].unique()"
   ]
  },
  {
   "cell_type": "code",
   "execution_count": 126,
   "metadata": {},
   "outputs": [
    {
     "data": {
      "text/plain": [
       "mql_id                             0\n",
       "seller_id                          0\n",
       "sdr_id                             0\n",
       "sr_id                              0\n",
       "won_date                           0\n",
       "business_segment                   0\n",
       "lead_type                          0\n",
       "lead_behaviour_profile             0\n",
       "has_company                      762\n",
       "has_gtin                         761\n",
       "average_stock                    759\n",
       "business_type                      0\n",
       "declared_product_catalog_size    756\n",
       "declared_monthly_revenue           0\n",
       "dtype: int64"
      ]
     },
     "execution_count": 126,
     "metadata": {},
     "output_type": "execute_result"
    }
   ],
   "source": [
    "#dropping null values in business values --\n",
    "cd.dropna(subset=['business_type'],inplace=True)\n",
    "cd.isnull().sum()"
   ]
  },
  {
   "cell_type": "code",
   "execution_count": 127,
   "metadata": {},
   "outputs": [],
   "source": [
    "#dropping columns has_company, has_gtin number\n",
    "cd.drop([\"has_company\",\"has_gtin\"],axis=1,inplace=True)"
   ]
  },
  {
   "cell_type": "code",
   "execution_count": 128,
   "metadata": {},
   "outputs": [
    {
     "data": {
      "text/html": [
       "<div>\n",
       "<style scoped>\n",
       "    .dataframe tbody tr th:only-of-type {\n",
       "        vertical-align: middle;\n",
       "    }\n",
       "\n",
       "    .dataframe tbody tr th {\n",
       "        vertical-align: top;\n",
       "    }\n",
       "\n",
       "    .dataframe thead th {\n",
       "        text-align: right;\n",
       "    }\n",
       "</style>\n",
       "<table border=\"1\" class=\"dataframe\">\n",
       "  <thead>\n",
       "    <tr style=\"text-align: right;\">\n",
       "      <th></th>\n",
       "      <th>mql_id</th>\n",
       "      <th>seller_id</th>\n",
       "      <th>sdr_id</th>\n",
       "      <th>sr_id</th>\n",
       "      <th>won_date</th>\n",
       "      <th>business_segment</th>\n",
       "      <th>lead_type</th>\n",
       "      <th>lead_behaviour_profile</th>\n",
       "      <th>average_stock</th>\n",
       "      <th>business_type</th>\n",
       "      <th>declared_product_catalog_size</th>\n",
       "      <th>declared_monthly_revenue</th>\n",
       "    </tr>\n",
       "  </thead>\n",
       "  <tbody>\n",
       "    <tr>\n",
       "      <th>0</th>\n",
       "      <td>5420aad7fec3549a85876ba1c529bd84</td>\n",
       "      <td>2c43fb513632d29b3b58df74816f1b06</td>\n",
       "      <td>a8387c01a09e99ce014107505b92388c</td>\n",
       "      <td>4ef15afb4b2723d8f3d81e51ec7afefe</td>\n",
       "      <td>2/26/2018 19:58</td>\n",
       "      <td>pet</td>\n",
       "      <td>online_medium</td>\n",
       "      <td>cat</td>\n",
       "      <td>NaN</td>\n",
       "      <td>reseller</td>\n",
       "      <td>NaN</td>\n",
       "      <td>0</td>\n",
       "    </tr>\n",
       "    <tr>\n",
       "      <th>1</th>\n",
       "      <td>a555fb36b9368110ede0f043dfc3b9a0</td>\n",
       "      <td>bbb7d7893a450660432ea6652310ebb7</td>\n",
       "      <td>09285259593c61296eef10c734121d5b</td>\n",
       "      <td>d3d1e91a157ea7f90548eef82f1955e3</td>\n",
       "      <td>5/8/2018 20:17</td>\n",
       "      <td>car_accessories</td>\n",
       "      <td>industry</td>\n",
       "      <td>eagle</td>\n",
       "      <td>NaN</td>\n",
       "      <td>reseller</td>\n",
       "      <td>NaN</td>\n",
       "      <td>0</td>\n",
       "    </tr>\n",
       "    <tr>\n",
       "      <th>2</th>\n",
       "      <td>327174d3648a2d047e8940d7d15204ca</td>\n",
       "      <td>612170e34b97004b3ba37eae81836b4c</td>\n",
       "      <td>b90f87164b5f8c2cfa5c8572834dbe3f</td>\n",
       "      <td>6565aa9ce3178a5caf6171827af3a9ba</td>\n",
       "      <td>6/5/2018 17:27</td>\n",
       "      <td>home_appliances</td>\n",
       "      <td>online_big</td>\n",
       "      <td>cat</td>\n",
       "      <td>NaN</td>\n",
       "      <td>reseller</td>\n",
       "      <td>NaN</td>\n",
       "      <td>0</td>\n",
       "    </tr>\n",
       "    <tr>\n",
       "      <th>3</th>\n",
       "      <td>f5fee8f7da74f4887f5bcae2bafb6dd6</td>\n",
       "      <td>21e1781e36faf92725dde4730a88ca0f</td>\n",
       "      <td>56bf83c4bb35763a51c2baab501b4c67</td>\n",
       "      <td>d3d1e91a157ea7f90548eef82f1955e3</td>\n",
       "      <td>1/17/2018 13:51</td>\n",
       "      <td>food_drink</td>\n",
       "      <td>online_small</td>\n",
       "      <td>others</td>\n",
       "      <td>NaN</td>\n",
       "      <td>reseller</td>\n",
       "      <td>NaN</td>\n",
       "      <td>0</td>\n",
       "    </tr>\n",
       "    <tr>\n",
       "      <th>4</th>\n",
       "      <td>ffe640179b554e295c167a2f6be528e0</td>\n",
       "      <td>ed8cb7b190ceb6067227478e48cf8dde</td>\n",
       "      <td>4b339f9567d060bcea4f5136b9f5949e</td>\n",
       "      <td>d3d1e91a157ea7f90548eef82f1955e3</td>\n",
       "      <td>7/3/2018 20:17</td>\n",
       "      <td>home_appliances</td>\n",
       "      <td>industry</td>\n",
       "      <td>wolf</td>\n",
       "      <td>NaN</td>\n",
       "      <td>manufacturer</td>\n",
       "      <td>NaN</td>\n",
       "      <td>0</td>\n",
       "    </tr>\n",
       "  </tbody>\n",
       "</table>\n",
       "</div>"
      ],
      "text/plain": [
       "                             mql_id                         seller_id  \\\n",
       "0  5420aad7fec3549a85876ba1c529bd84  2c43fb513632d29b3b58df74816f1b06   \n",
       "1  a555fb36b9368110ede0f043dfc3b9a0  bbb7d7893a450660432ea6652310ebb7   \n",
       "2  327174d3648a2d047e8940d7d15204ca  612170e34b97004b3ba37eae81836b4c   \n",
       "3  f5fee8f7da74f4887f5bcae2bafb6dd6  21e1781e36faf92725dde4730a88ca0f   \n",
       "4  ffe640179b554e295c167a2f6be528e0  ed8cb7b190ceb6067227478e48cf8dde   \n",
       "\n",
       "                             sdr_id                             sr_id  \\\n",
       "0  a8387c01a09e99ce014107505b92388c  4ef15afb4b2723d8f3d81e51ec7afefe   \n",
       "1  09285259593c61296eef10c734121d5b  d3d1e91a157ea7f90548eef82f1955e3   \n",
       "2  b90f87164b5f8c2cfa5c8572834dbe3f  6565aa9ce3178a5caf6171827af3a9ba   \n",
       "3  56bf83c4bb35763a51c2baab501b4c67  d3d1e91a157ea7f90548eef82f1955e3   \n",
       "4  4b339f9567d060bcea4f5136b9f5949e  d3d1e91a157ea7f90548eef82f1955e3   \n",
       "\n",
       "          won_date business_segment      lead_type lead_behaviour_profile  \\\n",
       "0  2/26/2018 19:58              pet  online_medium                    cat   \n",
       "1   5/8/2018 20:17  car_accessories       industry                  eagle   \n",
       "2   6/5/2018 17:27  home_appliances     online_big                    cat   \n",
       "3  1/17/2018 13:51       food_drink   online_small                 others   \n",
       "4   7/3/2018 20:17  home_appliances       industry                   wolf   \n",
       "\n",
       "  average_stock business_type  declared_product_catalog_size  \\\n",
       "0           NaN      reseller                            NaN   \n",
       "1           NaN      reseller                            NaN   \n",
       "2           NaN      reseller                            NaN   \n",
       "3           NaN      reseller                            NaN   \n",
       "4           NaN  manufacturer                            NaN   \n",
       "\n",
       "   declared_monthly_revenue  \n",
       "0                         0  \n",
       "1                         0  \n",
       "2                         0  \n",
       "3                         0  \n",
       "4                         0  "
      ]
     },
     "execution_count": 128,
     "metadata": {},
     "output_type": "execute_result"
    }
   ],
   "source": [
    "cd.head(5)"
   ]
  },
  {
   "cell_type": "code",
   "execution_count": 129,
   "metadata": {},
   "outputs": [
    {
     "data": {
      "text/plain": [
       "mql_id                             0\n",
       "seller_id                          0\n",
       "sdr_id                             0\n",
       "sr_id                              0\n",
       "won_date                           0\n",
       "business_segment                   0\n",
       "lead_type                          0\n",
       "lead_behaviour_profile             0\n",
       "average_stock                    759\n",
       "business_type                      0\n",
       "declared_product_catalog_size    756\n",
       "declared_monthly_revenue           0\n",
       "dtype: int64"
      ]
     },
     "execution_count": 129,
     "metadata": {},
     "output_type": "execute_result"
    }
   ],
   "source": [
    "cd.isnull().sum()"
   ]
  },
  {
   "cell_type": "code",
   "execution_count": 130,
   "metadata": {},
   "outputs": [
    {
     "data": {
      "text/plain": [
       "array([nan, '20-50', '5-Jan', '20-May', '200+', '50-200', 'unknown'],\n",
       "      dtype=object)"
      ]
     },
     "execution_count": 130,
     "metadata": {},
     "output_type": "execute_result"
    }
   ],
   "source": [
    "cd['average_stock'].unique() "
   ]
  },
  {
   "cell_type": "code",
   "execution_count": 131,
   "metadata": {},
   "outputs": [
    {
     "data": {
      "text/plain": [
       "array([     nan, 2.00e+03, 8.00e+01, 1.50e+01, 1.20e+02, 1.00e+03,\n",
       "       5.00e+01, 4.00e+00, 4.00e+02, 8.00e+02, 5.00e+00, 1.00e+02,\n",
       "       3.00e+02, 1.00e+01, 4.00e+01, 5.00e+02, 2.00e+02, 2.00e+01,\n",
       "       1.00e+00, 7.00e+01, 4.50e+01, 2.20e+01, 3.00e+01, 8.50e+01,\n",
       "       7.50e+01, 6.00e+02, 4.70e+01, 1.20e+01, 7.00e+02, 1.20e+03,\n",
       "       2.00e+00, 5.50e+02, 3.05e+02, 1.32e+02])"
      ]
     },
     "execution_count": 131,
     "metadata": {},
     "output_type": "execute_result"
    }
   ],
   "source": [
    "cd['declared_product_catalog_size'].unique()"
   ]
  },
  {
   "cell_type": "code",
   "execution_count": 132,
   "metadata": {},
   "outputs": [],
   "source": [
    "#replacing rows with average_stock and declared_product_catalog_size with zeros\n",
    "cd['average_stock'] = cd['average_stock'].fillna(0)\n",
    "cd['declared_product_catalog_size'] = cd['declared_product_catalog_size'].fillna(0)"
   ]
  },
  {
   "cell_type": "code",
   "execution_count": 133,
   "metadata": {},
   "outputs": [
    {
     "data": {
      "text/plain": [
       "mql_id                           False\n",
       "seller_id                        False\n",
       "sdr_id                           False\n",
       "sr_id                            False\n",
       "won_date                         False\n",
       "business_segment                 False\n",
       "lead_type                        False\n",
       "lead_behaviour_profile           False\n",
       "average_stock                    False\n",
       "business_type                    False\n",
       "declared_product_catalog_size    False\n",
       "declared_monthly_revenue         False\n",
       "dtype: bool"
      ]
     },
     "execution_count": 133,
     "metadata": {},
     "output_type": "execute_result"
    }
   ],
   "source": [
    "cd.isnull().any()"
   ]
  },
  {
   "cell_type": "code",
   "execution_count": 134,
   "metadata": {},
   "outputs": [],
   "source": [
    "cd['won_date'] = pd.to_datetime(cd['won_date']).dt.date\n"
   ]
  },
  {
   "cell_type": "code",
   "execution_count": 135,
   "metadata": {},
   "outputs": [
    {
     "data": {
      "text/html": [
       "<div>\n",
       "<style scoped>\n",
       "    .dataframe tbody tr th:only-of-type {\n",
       "        vertical-align: middle;\n",
       "    }\n",
       "\n",
       "    .dataframe tbody tr th {\n",
       "        vertical-align: top;\n",
       "    }\n",
       "\n",
       "    .dataframe thead th {\n",
       "        text-align: right;\n",
       "    }\n",
       "</style>\n",
       "<table border=\"1\" class=\"dataframe\">\n",
       "  <thead>\n",
       "    <tr style=\"text-align: right;\">\n",
       "      <th></th>\n",
       "      <th>mql_id</th>\n",
       "      <th>seller_id</th>\n",
       "      <th>sdr_id</th>\n",
       "      <th>sr_id</th>\n",
       "      <th>won_date</th>\n",
       "      <th>business_segment</th>\n",
       "      <th>lead_type</th>\n",
       "      <th>lead_behaviour_profile</th>\n",
       "      <th>average_stock</th>\n",
       "      <th>business_type</th>\n",
       "      <th>declared_product_catalog_size</th>\n",
       "      <th>declared_monthly_revenue</th>\n",
       "    </tr>\n",
       "  </thead>\n",
       "  <tbody>\n",
       "    <tr>\n",
       "      <th>0</th>\n",
       "      <td>5420aad7fec3549a85876ba1c529bd84</td>\n",
       "      <td>2c43fb513632d29b3b58df74816f1b06</td>\n",
       "      <td>a8387c01a09e99ce014107505b92388c</td>\n",
       "      <td>4ef15afb4b2723d8f3d81e51ec7afefe</td>\n",
       "      <td>2018-02-26</td>\n",
       "      <td>pet</td>\n",
       "      <td>online_medium</td>\n",
       "      <td>cat</td>\n",
       "      <td>0</td>\n",
       "      <td>reseller</td>\n",
       "      <td>0.0</td>\n",
       "      <td>0</td>\n",
       "    </tr>\n",
       "    <tr>\n",
       "      <th>1</th>\n",
       "      <td>a555fb36b9368110ede0f043dfc3b9a0</td>\n",
       "      <td>bbb7d7893a450660432ea6652310ebb7</td>\n",
       "      <td>09285259593c61296eef10c734121d5b</td>\n",
       "      <td>d3d1e91a157ea7f90548eef82f1955e3</td>\n",
       "      <td>2018-05-08</td>\n",
       "      <td>car_accessories</td>\n",
       "      <td>industry</td>\n",
       "      <td>eagle</td>\n",
       "      <td>0</td>\n",
       "      <td>reseller</td>\n",
       "      <td>0.0</td>\n",
       "      <td>0</td>\n",
       "    </tr>\n",
       "    <tr>\n",
       "      <th>2</th>\n",
       "      <td>327174d3648a2d047e8940d7d15204ca</td>\n",
       "      <td>612170e34b97004b3ba37eae81836b4c</td>\n",
       "      <td>b90f87164b5f8c2cfa5c8572834dbe3f</td>\n",
       "      <td>6565aa9ce3178a5caf6171827af3a9ba</td>\n",
       "      <td>2018-06-05</td>\n",
       "      <td>home_appliances</td>\n",
       "      <td>online_big</td>\n",
       "      <td>cat</td>\n",
       "      <td>0</td>\n",
       "      <td>reseller</td>\n",
       "      <td>0.0</td>\n",
       "      <td>0</td>\n",
       "    </tr>\n",
       "    <tr>\n",
       "      <th>3</th>\n",
       "      <td>f5fee8f7da74f4887f5bcae2bafb6dd6</td>\n",
       "      <td>21e1781e36faf92725dde4730a88ca0f</td>\n",
       "      <td>56bf83c4bb35763a51c2baab501b4c67</td>\n",
       "      <td>d3d1e91a157ea7f90548eef82f1955e3</td>\n",
       "      <td>2018-01-17</td>\n",
       "      <td>food_drink</td>\n",
       "      <td>online_small</td>\n",
       "      <td>others</td>\n",
       "      <td>0</td>\n",
       "      <td>reseller</td>\n",
       "      <td>0.0</td>\n",
       "      <td>0</td>\n",
       "    </tr>\n",
       "    <tr>\n",
       "      <th>4</th>\n",
       "      <td>ffe640179b554e295c167a2f6be528e0</td>\n",
       "      <td>ed8cb7b190ceb6067227478e48cf8dde</td>\n",
       "      <td>4b339f9567d060bcea4f5136b9f5949e</td>\n",
       "      <td>d3d1e91a157ea7f90548eef82f1955e3</td>\n",
       "      <td>2018-07-03</td>\n",
       "      <td>home_appliances</td>\n",
       "      <td>industry</td>\n",
       "      <td>wolf</td>\n",
       "      <td>0</td>\n",
       "      <td>manufacturer</td>\n",
       "      <td>0.0</td>\n",
       "      <td>0</td>\n",
       "    </tr>\n",
       "  </tbody>\n",
       "</table>\n",
       "</div>"
      ],
      "text/plain": [
       "                             mql_id                         seller_id  \\\n",
       "0  5420aad7fec3549a85876ba1c529bd84  2c43fb513632d29b3b58df74816f1b06   \n",
       "1  a555fb36b9368110ede0f043dfc3b9a0  bbb7d7893a450660432ea6652310ebb7   \n",
       "2  327174d3648a2d047e8940d7d15204ca  612170e34b97004b3ba37eae81836b4c   \n",
       "3  f5fee8f7da74f4887f5bcae2bafb6dd6  21e1781e36faf92725dde4730a88ca0f   \n",
       "4  ffe640179b554e295c167a2f6be528e0  ed8cb7b190ceb6067227478e48cf8dde   \n",
       "\n",
       "                             sdr_id                             sr_id  \\\n",
       "0  a8387c01a09e99ce014107505b92388c  4ef15afb4b2723d8f3d81e51ec7afefe   \n",
       "1  09285259593c61296eef10c734121d5b  d3d1e91a157ea7f90548eef82f1955e3   \n",
       "2  b90f87164b5f8c2cfa5c8572834dbe3f  6565aa9ce3178a5caf6171827af3a9ba   \n",
       "3  56bf83c4bb35763a51c2baab501b4c67  d3d1e91a157ea7f90548eef82f1955e3   \n",
       "4  4b339f9567d060bcea4f5136b9f5949e  d3d1e91a157ea7f90548eef82f1955e3   \n",
       "\n",
       "     won_date business_segment      lead_type lead_behaviour_profile  \\\n",
       "0  2018-02-26              pet  online_medium                    cat   \n",
       "1  2018-05-08  car_accessories       industry                  eagle   \n",
       "2  2018-06-05  home_appliances     online_big                    cat   \n",
       "3  2018-01-17       food_drink   online_small                 others   \n",
       "4  2018-07-03  home_appliances       industry                   wolf   \n",
       "\n",
       "  average_stock business_type  declared_product_catalog_size  \\\n",
       "0             0      reseller                            0.0   \n",
       "1             0      reseller                            0.0   \n",
       "2             0      reseller                            0.0   \n",
       "3             0      reseller                            0.0   \n",
       "4             0  manufacturer                            0.0   \n",
       "\n",
       "   declared_monthly_revenue  \n",
       "0                         0  \n",
       "1                         0  \n",
       "2                         0  \n",
       "3                         0  \n",
       "4                         0  "
      ]
     },
     "execution_count": 135,
     "metadata": {},
     "output_type": "execute_result"
    }
   ],
   "source": [
    "cd.head()"
   ]
  },
  {
   "cell_type": "markdown",
   "metadata": {},
   "source": [
    "### Merging Closed deals and Marketing Qualified Leads dataset--"
   ]
  },
  {
   "cell_type": "code",
   "execution_count": 136,
   "metadata": {},
   "outputs": [
    {
     "data": {
      "text/html": [
       "<div>\n",
       "<style scoped>\n",
       "    .dataframe tbody tr th:only-of-type {\n",
       "        vertical-align: middle;\n",
       "    }\n",
       "\n",
       "    .dataframe tbody tr th {\n",
       "        vertical-align: top;\n",
       "    }\n",
       "\n",
       "    .dataframe thead th {\n",
       "        text-align: right;\n",
       "    }\n",
       "</style>\n",
       "<table border=\"1\" class=\"dataframe\">\n",
       "  <thead>\n",
       "    <tr style=\"text-align: right;\">\n",
       "      <th></th>\n",
       "      <th>mql_id</th>\n",
       "      <th>first_contact_date</th>\n",
       "      <th>landing_page_id</th>\n",
       "      <th>origin</th>\n",
       "      <th>seller_id</th>\n",
       "      <th>sdr_id</th>\n",
       "      <th>sr_id</th>\n",
       "      <th>won_date</th>\n",
       "      <th>business_segment</th>\n",
       "      <th>lead_type</th>\n",
       "      <th>lead_behaviour_profile</th>\n",
       "      <th>average_stock</th>\n",
       "      <th>business_type</th>\n",
       "      <th>declared_product_catalog_size</th>\n",
       "      <th>declared_monthly_revenue</th>\n",
       "    </tr>\n",
       "  </thead>\n",
       "  <tbody>\n",
       "    <tr>\n",
       "      <th>0</th>\n",
       "      <td>5420aad7fec3549a85876ba1c529bd84</td>\n",
       "      <td>2018-02-21</td>\n",
       "      <td>b48ec5f3b04e9068441002a19df93c6c</td>\n",
       "      <td>organic_search</td>\n",
       "      <td>2c43fb513632d29b3b58df74816f1b06</td>\n",
       "      <td>a8387c01a09e99ce014107505b92388c</td>\n",
       "      <td>4ef15afb4b2723d8f3d81e51ec7afefe</td>\n",
       "      <td>2018-02-26</td>\n",
       "      <td>pet</td>\n",
       "      <td>online_medium</td>\n",
       "      <td>cat</td>\n",
       "      <td>0</td>\n",
       "      <td>reseller</td>\n",
       "      <td>0.0</td>\n",
       "      <td>0</td>\n",
       "    </tr>\n",
       "    <tr>\n",
       "      <th>1</th>\n",
       "      <td>a555fb36b9368110ede0f043dfc3b9a0</td>\n",
       "      <td>2018-04-04</td>\n",
       "      <td>2f08471dfb83baef522f952438a36f6e</td>\n",
       "      <td>referral</td>\n",
       "      <td>bbb7d7893a450660432ea6652310ebb7</td>\n",
       "      <td>09285259593c61296eef10c734121d5b</td>\n",
       "      <td>d3d1e91a157ea7f90548eef82f1955e3</td>\n",
       "      <td>2018-05-08</td>\n",
       "      <td>car_accessories</td>\n",
       "      <td>industry</td>\n",
       "      <td>eagle</td>\n",
       "      <td>0</td>\n",
       "      <td>reseller</td>\n",
       "      <td>0.0</td>\n",
       "      <td>0</td>\n",
       "    </tr>\n",
       "    <tr>\n",
       "      <th>2</th>\n",
       "      <td>327174d3648a2d047e8940d7d15204ca</td>\n",
       "      <td>2018-04-03</td>\n",
       "      <td>1ceb590cd1e00c7ee95220971f82693d</td>\n",
       "      <td>organic_search</td>\n",
       "      <td>612170e34b97004b3ba37eae81836b4c</td>\n",
       "      <td>b90f87164b5f8c2cfa5c8572834dbe3f</td>\n",
       "      <td>6565aa9ce3178a5caf6171827af3a9ba</td>\n",
       "      <td>2018-06-05</td>\n",
       "      <td>home_appliances</td>\n",
       "      <td>online_big</td>\n",
       "      <td>cat</td>\n",
       "      <td>0</td>\n",
       "      <td>reseller</td>\n",
       "      <td>0.0</td>\n",
       "      <td>0</td>\n",
       "    </tr>\n",
       "    <tr>\n",
       "      <th>3</th>\n",
       "      <td>f5fee8f7da74f4887f5bcae2bafb6dd6</td>\n",
       "      <td>2018-01-14</td>\n",
       "      <td>22c29808c4f815213303f8933030604c</td>\n",
       "      <td>paid_search</td>\n",
       "      <td>21e1781e36faf92725dde4730a88ca0f</td>\n",
       "      <td>56bf83c4bb35763a51c2baab501b4c67</td>\n",
       "      <td>d3d1e91a157ea7f90548eef82f1955e3</td>\n",
       "      <td>2018-01-17</td>\n",
       "      <td>food_drink</td>\n",
       "      <td>online_small</td>\n",
       "      <td>others</td>\n",
       "      <td>0</td>\n",
       "      <td>reseller</td>\n",
       "      <td>0.0</td>\n",
       "      <td>0</td>\n",
       "    </tr>\n",
       "    <tr>\n",
       "      <th>4</th>\n",
       "      <td>ffe640179b554e295c167a2f6be528e0</td>\n",
       "      <td>2017-10-09</td>\n",
       "      <td>a0fbc0263cb98bdb0d72b9f9f283a172</td>\n",
       "      <td>unknown</td>\n",
       "      <td>ed8cb7b190ceb6067227478e48cf8dde</td>\n",
       "      <td>4b339f9567d060bcea4f5136b9f5949e</td>\n",
       "      <td>d3d1e91a157ea7f90548eef82f1955e3</td>\n",
       "      <td>2018-07-03</td>\n",
       "      <td>home_appliances</td>\n",
       "      <td>industry</td>\n",
       "      <td>wolf</td>\n",
       "      <td>0</td>\n",
       "      <td>manufacturer</td>\n",
       "      <td>0.0</td>\n",
       "      <td>0</td>\n",
       "    </tr>\n",
       "    <tr>\n",
       "      <th>5</th>\n",
       "      <td>b94fba7670eeb44dce2a0d8eb790e9f5</td>\n",
       "      <td>2018-02-06</td>\n",
       "      <td>40dec9f3d5259a3d2dbcdab2114fae47</td>\n",
       "      <td>organic_search</td>\n",
       "      <td>1c742ac33582852aaf3bcfbf5893abcf</td>\n",
       "      <td>fdb16d3cbbeb5798f2f66c4096be026d</td>\n",
       "      <td>495d4e95a8cf8bbf8b432b612a2aa328</td>\n",
       "      <td>2018-02-07</td>\n",
       "      <td>health_beauty</td>\n",
       "      <td>online_medium</td>\n",
       "      <td>others</td>\n",
       "      <td>0</td>\n",
       "      <td>manufacturer</td>\n",
       "      <td>0.0</td>\n",
       "      <td>0</td>\n",
       "    </tr>\n",
       "    <tr>\n",
       "      <th>6</th>\n",
       "      <td>c3e30ed7ac989117c7e1e719b4ac128f</td>\n",
       "      <td>2018-02-20</td>\n",
       "      <td>e492ee5eaf1697716985cc6f33f9cd9b</td>\n",
       "      <td>direct_traffic</td>\n",
       "      <td>92d7568ad0c5c76fd7d341b2d46f24d6</td>\n",
       "      <td>4b339f9567d060bcea4f5136b9f5949e</td>\n",
       "      <td>85fc447d336637ba1df43e793199fbc8</td>\n",
       "      <td>2018-04-16</td>\n",
       "      <td>computers</td>\n",
       "      <td>online_medium</td>\n",
       "      <td>wolf</td>\n",
       "      <td>0</td>\n",
       "      <td>reseller</td>\n",
       "      <td>0.0</td>\n",
       "      <td>0</td>\n",
       "    </tr>\n",
       "    <tr>\n",
       "      <th>7</th>\n",
       "      <td>b02c89251106e1fdd9d92744be9f94f2</td>\n",
       "      <td>2018-04-13</td>\n",
       "      <td>b76ef37428e6799c421989521c0e5077</td>\n",
       "      <td>unknown</td>\n",
       "      <td>44ed138eca6214d572ce1d813fb0049b</td>\n",
       "      <td>34d40cdaf94010a1d05b0d6212f9e909</td>\n",
       "      <td>4ef15afb4b2723d8f3d81e51ec7afefe</td>\n",
       "      <td>2018-04-17</td>\n",
       "      <td>health_beauty</td>\n",
       "      <td>offline</td>\n",
       "      <td>cat</td>\n",
       "      <td>0</td>\n",
       "      <td>manufacturer</td>\n",
       "      <td>0.0</td>\n",
       "      <td>0</td>\n",
       "    </tr>\n",
       "    <tr>\n",
       "      <th>8</th>\n",
       "      <td>a90a37898cc5f2718385a2fb981caaff</td>\n",
       "      <td>2018-04-27</td>\n",
       "      <td>58326e62183c14b0c03085c33b9fdc44</td>\n",
       "      <td>social</td>\n",
       "      <td>0b28859cd04d23edefee9c591fb03cd8</td>\n",
       "      <td>f42a2bd194f7802ab052a815c8de65b7</td>\n",
       "      <td>6565aa9ce3178a5caf6171827af3a9ba</td>\n",
       "      <td>2018-05-14</td>\n",
       "      <td>household_utilities</td>\n",
       "      <td>offline</td>\n",
       "      <td>eagle</td>\n",
       "      <td>0</td>\n",
       "      <td>reseller</td>\n",
       "      <td>0.0</td>\n",
       "      <td>0</td>\n",
       "    </tr>\n",
       "    <tr>\n",
       "      <th>9</th>\n",
       "      <td>0173e8d8b1d94a355b440fb67388f532</td>\n",
       "      <td>2017-10-18</td>\n",
       "      <td>007f9098284a86ee80ddeb25d53e0af8</td>\n",
       "      <td>paid_search</td>\n",
       "      <td>87d73636a3acf123e842bb890a4db036</td>\n",
       "      <td>9d12ef1a7eca3ec58c545c678af7869c</td>\n",
       "      <td>9e4d1098a3b0f5da39b0bc48f9876645</td>\n",
       "      <td>2018-04-24</td>\n",
       "      <td>household_utilities</td>\n",
       "      <td>online_medium</td>\n",
       "      <td>eagle</td>\n",
       "      <td>0</td>\n",
       "      <td>manufacturer</td>\n",
       "      <td>0.0</td>\n",
       "      <td>0</td>\n",
       "    </tr>\n",
       "  </tbody>\n",
       "</table>\n",
       "</div>"
      ],
      "text/plain": [
       "                             mql_id first_contact_date  \\\n",
       "0  5420aad7fec3549a85876ba1c529bd84         2018-02-21   \n",
       "1  a555fb36b9368110ede0f043dfc3b9a0         2018-04-04   \n",
       "2  327174d3648a2d047e8940d7d15204ca         2018-04-03   \n",
       "3  f5fee8f7da74f4887f5bcae2bafb6dd6         2018-01-14   \n",
       "4  ffe640179b554e295c167a2f6be528e0         2017-10-09   \n",
       "5  b94fba7670eeb44dce2a0d8eb790e9f5         2018-02-06   \n",
       "6  c3e30ed7ac989117c7e1e719b4ac128f         2018-02-20   \n",
       "7  b02c89251106e1fdd9d92744be9f94f2         2018-04-13   \n",
       "8  a90a37898cc5f2718385a2fb981caaff         2018-04-27   \n",
       "9  0173e8d8b1d94a355b440fb67388f532         2017-10-18   \n",
       "\n",
       "                    landing_page_id          origin  \\\n",
       "0  b48ec5f3b04e9068441002a19df93c6c  organic_search   \n",
       "1  2f08471dfb83baef522f952438a36f6e        referral   \n",
       "2  1ceb590cd1e00c7ee95220971f82693d  organic_search   \n",
       "3  22c29808c4f815213303f8933030604c     paid_search   \n",
       "4  a0fbc0263cb98bdb0d72b9f9f283a172         unknown   \n",
       "5  40dec9f3d5259a3d2dbcdab2114fae47  organic_search   \n",
       "6  e492ee5eaf1697716985cc6f33f9cd9b  direct_traffic   \n",
       "7  b76ef37428e6799c421989521c0e5077         unknown   \n",
       "8  58326e62183c14b0c03085c33b9fdc44          social   \n",
       "9  007f9098284a86ee80ddeb25d53e0af8     paid_search   \n",
       "\n",
       "                          seller_id                            sdr_id  \\\n",
       "0  2c43fb513632d29b3b58df74816f1b06  a8387c01a09e99ce014107505b92388c   \n",
       "1  bbb7d7893a450660432ea6652310ebb7  09285259593c61296eef10c734121d5b   \n",
       "2  612170e34b97004b3ba37eae81836b4c  b90f87164b5f8c2cfa5c8572834dbe3f   \n",
       "3  21e1781e36faf92725dde4730a88ca0f  56bf83c4bb35763a51c2baab501b4c67   \n",
       "4  ed8cb7b190ceb6067227478e48cf8dde  4b339f9567d060bcea4f5136b9f5949e   \n",
       "5  1c742ac33582852aaf3bcfbf5893abcf  fdb16d3cbbeb5798f2f66c4096be026d   \n",
       "6  92d7568ad0c5c76fd7d341b2d46f24d6  4b339f9567d060bcea4f5136b9f5949e   \n",
       "7  44ed138eca6214d572ce1d813fb0049b  34d40cdaf94010a1d05b0d6212f9e909   \n",
       "8  0b28859cd04d23edefee9c591fb03cd8  f42a2bd194f7802ab052a815c8de65b7   \n",
       "9  87d73636a3acf123e842bb890a4db036  9d12ef1a7eca3ec58c545c678af7869c   \n",
       "\n",
       "                              sr_id    won_date     business_segment  \\\n",
       "0  4ef15afb4b2723d8f3d81e51ec7afefe  2018-02-26                  pet   \n",
       "1  d3d1e91a157ea7f90548eef82f1955e3  2018-05-08      car_accessories   \n",
       "2  6565aa9ce3178a5caf6171827af3a9ba  2018-06-05      home_appliances   \n",
       "3  d3d1e91a157ea7f90548eef82f1955e3  2018-01-17           food_drink   \n",
       "4  d3d1e91a157ea7f90548eef82f1955e3  2018-07-03      home_appliances   \n",
       "5  495d4e95a8cf8bbf8b432b612a2aa328  2018-02-07        health_beauty   \n",
       "6  85fc447d336637ba1df43e793199fbc8  2018-04-16            computers   \n",
       "7  4ef15afb4b2723d8f3d81e51ec7afefe  2018-04-17        health_beauty   \n",
       "8  6565aa9ce3178a5caf6171827af3a9ba  2018-05-14  household_utilities   \n",
       "9  9e4d1098a3b0f5da39b0bc48f9876645  2018-04-24  household_utilities   \n",
       "\n",
       "       lead_type lead_behaviour_profile average_stock business_type  \\\n",
       "0  online_medium                    cat             0      reseller   \n",
       "1       industry                  eagle             0      reseller   \n",
       "2     online_big                    cat             0      reseller   \n",
       "3   online_small                 others             0      reseller   \n",
       "4       industry                   wolf             0  manufacturer   \n",
       "5  online_medium                 others             0  manufacturer   \n",
       "6  online_medium                   wolf             0      reseller   \n",
       "7        offline                    cat             0  manufacturer   \n",
       "8        offline                  eagle             0      reseller   \n",
       "9  online_medium                  eagle             0  manufacturer   \n",
       "\n",
       "   declared_product_catalog_size  declared_monthly_revenue  \n",
       "0                            0.0                         0  \n",
       "1                            0.0                         0  \n",
       "2                            0.0                         0  \n",
       "3                            0.0                         0  \n",
       "4                            0.0                         0  \n",
       "5                            0.0                         0  \n",
       "6                            0.0                         0  \n",
       "7                            0.0                         0  \n",
       "8                            0.0                         0  \n",
       "9                            0.0                         0  "
      ]
     },
     "execution_count": 136,
     "metadata": {},
     "output_type": "execute_result"
    }
   ],
   "source": [
    "#marketing funnel dataset (NaNs are leads that did not close a deal)\n",
    "closed_deals = mql.merge(cd, on='mql_id', how='inner')\n",
    "closed_deals.head(10)"
   ]
  },
  {
   "cell_type": "code",
   "execution_count": 137,
   "metadata": {},
   "outputs": [
    {
     "data": {
      "text/plain": [
       "(811, 15)"
      ]
     },
     "execution_count": 137,
     "metadata": {},
     "output_type": "execute_result"
    }
   ],
   "source": [
    "closed_deals.shape"
   ]
  },
  {
   "cell_type": "code",
   "execution_count": 138,
   "metadata": {},
   "outputs": [
    {
     "data": {
      "text/plain": [
       "mql_id                           False\n",
       "first_contact_date               False\n",
       "landing_page_id                  False\n",
       "origin                           False\n",
       "seller_id                        False\n",
       "sdr_id                           False\n",
       "sr_id                            False\n",
       "won_date                         False\n",
       "business_segment                 False\n",
       "lead_type                        False\n",
       "lead_behaviour_profile           False\n",
       "average_stock                    False\n",
       "business_type                    False\n",
       "declared_product_catalog_size    False\n",
       "declared_monthly_revenue         False\n",
       "dtype: bool"
      ]
     },
     "execution_count": 138,
     "metadata": {},
     "output_type": "execute_result"
    }
   ],
   "source": [
    "closed_deals.isnull().any()"
   ]
  },
  {
   "cell_type": "markdown",
   "metadata": {},
   "source": [
    "Writing closed deals to csv file --"
   ]
  },
  {
   "cell_type": "code",
   "execution_count": 139,
   "metadata": {},
   "outputs": [],
   "source": [
    "closed_deals.to_csv('Closed_deals.csv',index = False)"
   ]
  },
  {
   "cell_type": "markdown",
   "metadata": {},
   "source": [
    "### EDA - Sellers Dataset --"
   ]
  },
  {
   "cell_type": "code",
   "execution_count": 140,
   "metadata": {
    "scrolled": true
   },
   "outputs": [
    {
     "data": {
      "text/html": [
       "<div>\n",
       "<style scoped>\n",
       "    .dataframe tbody tr th:only-of-type {\n",
       "        vertical-align: middle;\n",
       "    }\n",
       "\n",
       "    .dataframe tbody tr th {\n",
       "        vertical-align: top;\n",
       "    }\n",
       "\n",
       "    .dataframe thead th {\n",
       "        text-align: right;\n",
       "    }\n",
       "</style>\n",
       "<table border=\"1\" class=\"dataframe\">\n",
       "  <thead>\n",
       "    <tr style=\"text-align: right;\">\n",
       "      <th></th>\n",
       "      <th>seller_id</th>\n",
       "      <th>seller_zip_code_prefix</th>\n",
       "      <th>seller_city</th>\n",
       "      <th>seller_state</th>\n",
       "    </tr>\n",
       "  </thead>\n",
       "  <tbody>\n",
       "    <tr>\n",
       "      <th>0</th>\n",
       "      <td>3442f8959a84dea7ee197c632cb2df15</td>\n",
       "      <td>13023</td>\n",
       "      <td>campinas</td>\n",
       "      <td>SP</td>\n",
       "    </tr>\n",
       "    <tr>\n",
       "      <th>1</th>\n",
       "      <td>d1b65fc7debc3361ea86b5f14c68d2e2</td>\n",
       "      <td>13844</td>\n",
       "      <td>mogi guacu</td>\n",
       "      <td>SP</td>\n",
       "    </tr>\n",
       "    <tr>\n",
       "      <th>2</th>\n",
       "      <td>ce3ad9de960102d0677a81f5d0bb7b2d</td>\n",
       "      <td>20031</td>\n",
       "      <td>rio de janeiro</td>\n",
       "      <td>RJ</td>\n",
       "    </tr>\n",
       "    <tr>\n",
       "      <th>3</th>\n",
       "      <td>c0f3eea2e14555b6faeea3dd58c1b1c3</td>\n",
       "      <td>4195</td>\n",
       "      <td>sao paulo</td>\n",
       "      <td>SP</td>\n",
       "    </tr>\n",
       "    <tr>\n",
       "      <th>4</th>\n",
       "      <td>51a04a8a6bdcb23deccc82b0b80742cf</td>\n",
       "      <td>12914</td>\n",
       "      <td>braganca paulista</td>\n",
       "      <td>SP</td>\n",
       "    </tr>\n",
       "  </tbody>\n",
       "</table>\n",
       "</div>"
      ],
      "text/plain": [
       "                          seller_id  seller_zip_code_prefix  \\\n",
       "0  3442f8959a84dea7ee197c632cb2df15                   13023   \n",
       "1  d1b65fc7debc3361ea86b5f14c68d2e2                   13844   \n",
       "2  ce3ad9de960102d0677a81f5d0bb7b2d                   20031   \n",
       "3  c0f3eea2e14555b6faeea3dd58c1b1c3                    4195   \n",
       "4  51a04a8a6bdcb23deccc82b0b80742cf                   12914   \n",
       "\n",
       "         seller_city seller_state  \n",
       "0           campinas           SP  \n",
       "1         mogi guacu           SP  \n",
       "2     rio de janeiro           RJ  \n",
       "3          sao paulo           SP  \n",
       "4  braganca paulista           SP  "
      ]
     },
     "execution_count": 140,
     "metadata": {},
     "output_type": "execute_result"
    }
   ],
   "source": [
    "sellers.head(5)"
   ]
  },
  {
   "cell_type": "code",
   "execution_count": 141,
   "metadata": {},
   "outputs": [
    {
     "data": {
      "text/plain": [
       "(3095, 4)"
      ]
     },
     "execution_count": 141,
     "metadata": {},
     "output_type": "execute_result"
    }
   ],
   "source": [
    "sellers.shape"
   ]
  },
  {
   "cell_type": "code",
   "execution_count": 142,
   "metadata": {
    "scrolled": true
   },
   "outputs": [
    {
     "data": {
      "text/plain": [
       "seller_id                 False\n",
       "seller_zip_code_prefix    False\n",
       "seller_city               False\n",
       "seller_state              False\n",
       "dtype: bool"
      ]
     },
     "execution_count": 142,
     "metadata": {},
     "output_type": "execute_result"
    }
   ],
   "source": [
    "sellers.isnull().any()"
   ]
  },
  {
   "cell_type": "code",
   "execution_count": 143,
   "metadata": {},
   "outputs": [],
   "source": [
    "sellers.to_csv('Sellers_data_EDA.csv',index = False)"
   ]
  },
  {
   "cell_type": "markdown",
   "metadata": {},
   "source": [
    "### EDA - Orders Dataset - Orders, Order_items, Order_Reviews data"
   ]
  },
  {
   "cell_type": "markdown",
   "metadata": {},
   "source": [
    "Order items  --"
   ]
  },
  {
   "cell_type": "code",
   "execution_count": 144,
   "metadata": {},
   "outputs": [
    {
     "data": {
      "text/html": [
       "<div>\n",
       "<style scoped>\n",
       "    .dataframe tbody tr th:only-of-type {\n",
       "        vertical-align: middle;\n",
       "    }\n",
       "\n",
       "    .dataframe tbody tr th {\n",
       "        vertical-align: top;\n",
       "    }\n",
       "\n",
       "    .dataframe thead th {\n",
       "        text-align: right;\n",
       "    }\n",
       "</style>\n",
       "<table border=\"1\" class=\"dataframe\">\n",
       "  <thead>\n",
       "    <tr style=\"text-align: right;\">\n",
       "      <th></th>\n",
       "      <th>order_id</th>\n",
       "      <th>order_item_id</th>\n",
       "      <th>product_id</th>\n",
       "      <th>seller_id</th>\n",
       "      <th>shipping_limit_date</th>\n",
       "      <th>price</th>\n",
       "      <th>freight_value</th>\n",
       "    </tr>\n",
       "  </thead>\n",
       "  <tbody>\n",
       "    <tr>\n",
       "      <th>0</th>\n",
       "      <td>00010242fe8c5a6d1ba2dd792cb16214</td>\n",
       "      <td>1</td>\n",
       "      <td>4244733e06e7ecb4970a6e2683c13e61</td>\n",
       "      <td>48436dade18ac8b2bce089ec2a041202</td>\n",
       "      <td>2017-09-19 09:45:35</td>\n",
       "      <td>58.90</td>\n",
       "      <td>13.29</td>\n",
       "    </tr>\n",
       "    <tr>\n",
       "      <th>1</th>\n",
       "      <td>00018f77f2f0320c557190d7a144bdd3</td>\n",
       "      <td>1</td>\n",
       "      <td>e5f2d52b802189ee658865ca93d83a8f</td>\n",
       "      <td>dd7ddc04e1b6c2c614352b383efe2d36</td>\n",
       "      <td>2017-05-03 11:05:13</td>\n",
       "      <td>239.90</td>\n",
       "      <td>19.93</td>\n",
       "    </tr>\n",
       "    <tr>\n",
       "      <th>2</th>\n",
       "      <td>000229ec398224ef6ca0657da4fc703e</td>\n",
       "      <td>1</td>\n",
       "      <td>c777355d18b72b67abbeef9df44fd0fd</td>\n",
       "      <td>5b51032eddd242adc84c38acab88f23d</td>\n",
       "      <td>2018-01-18 14:48:30</td>\n",
       "      <td>199.00</td>\n",
       "      <td>17.87</td>\n",
       "    </tr>\n",
       "    <tr>\n",
       "      <th>3</th>\n",
       "      <td>00024acbcdf0a6daa1e931b038114c75</td>\n",
       "      <td>1</td>\n",
       "      <td>7634da152a4610f1595efa32f14722fc</td>\n",
       "      <td>9d7a1d34a5052409006425275ba1c2b4</td>\n",
       "      <td>2018-08-15 10:10:18</td>\n",
       "      <td>12.99</td>\n",
       "      <td>12.79</td>\n",
       "    </tr>\n",
       "    <tr>\n",
       "      <th>4</th>\n",
       "      <td>00042b26cf59d7ce69dfabb4e55b4fd9</td>\n",
       "      <td>1</td>\n",
       "      <td>ac6c3623068f30de03045865e4e10089</td>\n",
       "      <td>df560393f3a51e74553ab94004ba5c87</td>\n",
       "      <td>2017-02-13 13:57:51</td>\n",
       "      <td>199.90</td>\n",
       "      <td>18.14</td>\n",
       "    </tr>\n",
       "  </tbody>\n",
       "</table>\n",
       "</div>"
      ],
      "text/plain": [
       "                           order_id  order_item_id  \\\n",
       "0  00010242fe8c5a6d1ba2dd792cb16214              1   \n",
       "1  00018f77f2f0320c557190d7a144bdd3              1   \n",
       "2  000229ec398224ef6ca0657da4fc703e              1   \n",
       "3  00024acbcdf0a6daa1e931b038114c75              1   \n",
       "4  00042b26cf59d7ce69dfabb4e55b4fd9              1   \n",
       "\n",
       "                         product_id                         seller_id  \\\n",
       "0  4244733e06e7ecb4970a6e2683c13e61  48436dade18ac8b2bce089ec2a041202   \n",
       "1  e5f2d52b802189ee658865ca93d83a8f  dd7ddc04e1b6c2c614352b383efe2d36   \n",
       "2  c777355d18b72b67abbeef9df44fd0fd  5b51032eddd242adc84c38acab88f23d   \n",
       "3  7634da152a4610f1595efa32f14722fc  9d7a1d34a5052409006425275ba1c2b4   \n",
       "4  ac6c3623068f30de03045865e4e10089  df560393f3a51e74553ab94004ba5c87   \n",
       "\n",
       "   shipping_limit_date   price  freight_value  \n",
       "0  2017-09-19 09:45:35   58.90          13.29  \n",
       "1  2017-05-03 11:05:13  239.90          19.93  \n",
       "2  2018-01-18 14:48:30  199.00          17.87  \n",
       "3  2018-08-15 10:10:18   12.99          12.79  \n",
       "4  2017-02-13 13:57:51  199.90          18.14  "
      ]
     },
     "execution_count": 144,
     "metadata": {},
     "output_type": "execute_result"
    }
   ],
   "source": [
    "order_items.head()"
   ]
  },
  {
   "cell_type": "code",
   "execution_count": 145,
   "metadata": {},
   "outputs": [
    {
     "data": {
      "text/plain": [
       "Index(['order_id', 'order_item_id', 'product_id', 'seller_id',\n",
       "       'shipping_limit_date', 'price', 'freight_value'],\n",
       "      dtype='object')"
      ]
     },
     "execution_count": 145,
     "metadata": {},
     "output_type": "execute_result"
    }
   ],
   "source": [
    "order_items.columns"
   ]
  },
  {
   "cell_type": "code",
   "execution_count": 146,
   "metadata": {},
   "outputs": [
    {
     "data": {
      "text/plain": [
       "(112650, 7)"
      ]
     },
     "execution_count": 146,
     "metadata": {},
     "output_type": "execute_result"
    }
   ],
   "source": [
    "order_items.shape"
   ]
  },
  {
   "cell_type": "code",
   "execution_count": 147,
   "metadata": {},
   "outputs": [
    {
     "data": {
      "text/plain": [
       "order_id               0\n",
       "order_item_id          0\n",
       "product_id             0\n",
       "seller_id              0\n",
       "shipping_limit_date    0\n",
       "price                  0\n",
       "freight_value          0\n",
       "dtype: int64"
      ]
     },
     "execution_count": 147,
     "metadata": {},
     "output_type": "execute_result"
    }
   ],
   "source": [
    "order_items.isnull().sum()"
   ]
  },
  {
   "cell_type": "code",
   "execution_count": 148,
   "metadata": {},
   "outputs": [],
   "source": [
    "order_items['shipping_limit_date'] = pd.to_datetime(order_items['shipping_limit_date']).dt.date"
   ]
  },
  {
   "cell_type": "code",
   "execution_count": 149,
   "metadata": {},
   "outputs": [
    {
     "name": "stdout",
     "output_type": "stream",
     "text": [
      "<class 'pandas.core.frame.DataFrame'>\n",
      "RangeIndex: 112650 entries, 0 to 112649\n",
      "Data columns (total 7 columns):\n",
      "order_id               112650 non-null object\n",
      "order_item_id          112650 non-null int64\n",
      "product_id             112650 non-null object\n",
      "seller_id              112650 non-null object\n",
      "shipping_limit_date    112650 non-null object\n",
      "price                  112650 non-null float64\n",
      "freight_value          112650 non-null float64\n",
      "dtypes: float64(2), int64(1), object(4)\n",
      "memory usage: 6.0+ MB\n"
     ]
    }
   ],
   "source": [
    "order_items.info()"
   ]
  },
  {
   "cell_type": "markdown",
   "metadata": {},
   "source": [
    "Orders dataset --"
   ]
  },
  {
   "cell_type": "code",
   "execution_count": 150,
   "metadata": {},
   "outputs": [
    {
     "data": {
      "text/html": [
       "<div>\n",
       "<style scoped>\n",
       "    .dataframe tbody tr th:only-of-type {\n",
       "        vertical-align: middle;\n",
       "    }\n",
       "\n",
       "    .dataframe tbody tr th {\n",
       "        vertical-align: top;\n",
       "    }\n",
       "\n",
       "    .dataframe thead th {\n",
       "        text-align: right;\n",
       "    }\n",
       "</style>\n",
       "<table border=\"1\" class=\"dataframe\">\n",
       "  <thead>\n",
       "    <tr style=\"text-align: right;\">\n",
       "      <th></th>\n",
       "      <th>order_id</th>\n",
       "      <th>customer_id</th>\n",
       "      <th>order_status</th>\n",
       "      <th>order_purchase_timestamp</th>\n",
       "      <th>order_approved_at</th>\n",
       "      <th>order_delivered_carrier_date</th>\n",
       "      <th>order_delivered_customer_date</th>\n",
       "      <th>order_estimated_delivery_date</th>\n",
       "    </tr>\n",
       "  </thead>\n",
       "  <tbody>\n",
       "    <tr>\n",
       "      <th>0</th>\n",
       "      <td>e481f51cbdc54678b7cc49136f2d6af7</td>\n",
       "      <td>9ef432eb6251297304e76186b10a928d</td>\n",
       "      <td>delivered</td>\n",
       "      <td>2017-10-02 10:56:33</td>\n",
       "      <td>2017-10-02 11:07:15</td>\n",
       "      <td>2017-10-04 19:55:00</td>\n",
       "      <td>2017-10-10 21:25:13</td>\n",
       "      <td>2017-10-18 00:00:00</td>\n",
       "    </tr>\n",
       "    <tr>\n",
       "      <th>1</th>\n",
       "      <td>53cdb2fc8bc7dce0b6741e2150273451</td>\n",
       "      <td>b0830fb4747a6c6d20dea0b8c802d7ef</td>\n",
       "      <td>delivered</td>\n",
       "      <td>2018-07-24 20:41:37</td>\n",
       "      <td>2018-07-26 03:24:27</td>\n",
       "      <td>2018-07-26 14:31:00</td>\n",
       "      <td>2018-08-07 15:27:45</td>\n",
       "      <td>2018-08-13 00:00:00</td>\n",
       "    </tr>\n",
       "    <tr>\n",
       "      <th>2</th>\n",
       "      <td>47770eb9100c2d0c44946d9cf07ec65d</td>\n",
       "      <td>41ce2a54c0b03bf3443c3d931a367089</td>\n",
       "      <td>delivered</td>\n",
       "      <td>2018-08-08 08:38:49</td>\n",
       "      <td>2018-08-08 08:55:23</td>\n",
       "      <td>2018-08-08 13:50:00</td>\n",
       "      <td>2018-08-17 18:06:29</td>\n",
       "      <td>2018-09-04 00:00:00</td>\n",
       "    </tr>\n",
       "    <tr>\n",
       "      <th>3</th>\n",
       "      <td>949d5b44dbf5de918fe9c16f97b45f8a</td>\n",
       "      <td>f88197465ea7920adcdbec7375364d82</td>\n",
       "      <td>delivered</td>\n",
       "      <td>2017-11-18 19:28:06</td>\n",
       "      <td>2017-11-18 19:45:59</td>\n",
       "      <td>2017-11-22 13:39:59</td>\n",
       "      <td>2017-12-02 00:28:42</td>\n",
       "      <td>2017-12-15 00:00:00</td>\n",
       "    </tr>\n",
       "    <tr>\n",
       "      <th>4</th>\n",
       "      <td>ad21c59c0840e6cb83a9ceb5573f8159</td>\n",
       "      <td>8ab97904e6daea8866dbdbc4fb7aad2c</td>\n",
       "      <td>delivered</td>\n",
       "      <td>2018-02-13 21:18:39</td>\n",
       "      <td>2018-02-13 22:20:29</td>\n",
       "      <td>2018-02-14 19:46:34</td>\n",
       "      <td>2018-02-16 18:17:02</td>\n",
       "      <td>2018-02-26 00:00:00</td>\n",
       "    </tr>\n",
       "  </tbody>\n",
       "</table>\n",
       "</div>"
      ],
      "text/plain": [
       "                           order_id                       customer_id  \\\n",
       "0  e481f51cbdc54678b7cc49136f2d6af7  9ef432eb6251297304e76186b10a928d   \n",
       "1  53cdb2fc8bc7dce0b6741e2150273451  b0830fb4747a6c6d20dea0b8c802d7ef   \n",
       "2  47770eb9100c2d0c44946d9cf07ec65d  41ce2a54c0b03bf3443c3d931a367089   \n",
       "3  949d5b44dbf5de918fe9c16f97b45f8a  f88197465ea7920adcdbec7375364d82   \n",
       "4  ad21c59c0840e6cb83a9ceb5573f8159  8ab97904e6daea8866dbdbc4fb7aad2c   \n",
       "\n",
       "  order_status order_purchase_timestamp    order_approved_at  \\\n",
       "0    delivered      2017-10-02 10:56:33  2017-10-02 11:07:15   \n",
       "1    delivered      2018-07-24 20:41:37  2018-07-26 03:24:27   \n",
       "2    delivered      2018-08-08 08:38:49  2018-08-08 08:55:23   \n",
       "3    delivered      2017-11-18 19:28:06  2017-11-18 19:45:59   \n",
       "4    delivered      2018-02-13 21:18:39  2018-02-13 22:20:29   \n",
       "\n",
       "  order_delivered_carrier_date order_delivered_customer_date  \\\n",
       "0          2017-10-04 19:55:00           2017-10-10 21:25:13   \n",
       "1          2018-07-26 14:31:00           2018-08-07 15:27:45   \n",
       "2          2018-08-08 13:50:00           2018-08-17 18:06:29   \n",
       "3          2017-11-22 13:39:59           2017-12-02 00:28:42   \n",
       "4          2018-02-14 19:46:34           2018-02-16 18:17:02   \n",
       "\n",
       "  order_estimated_delivery_date  \n",
       "0           2017-10-18 00:00:00  \n",
       "1           2018-08-13 00:00:00  \n",
       "2           2018-09-04 00:00:00  \n",
       "3           2017-12-15 00:00:00  \n",
       "4           2018-02-26 00:00:00  "
      ]
     },
     "execution_count": 150,
     "metadata": {},
     "output_type": "execute_result"
    }
   ],
   "source": [
    "orders.head()"
   ]
  },
  {
   "cell_type": "code",
   "execution_count": 151,
   "metadata": {},
   "outputs": [
    {
     "data": {
      "text/plain": [
       "Index(['order_id', 'customer_id', 'order_status', 'order_purchase_timestamp',\n",
       "       'order_approved_at', 'order_delivered_carrier_date',\n",
       "       'order_delivered_customer_date', 'order_estimated_delivery_date'],\n",
       "      dtype='object')"
      ]
     },
     "execution_count": 151,
     "metadata": {},
     "output_type": "execute_result"
    }
   ],
   "source": [
    "orders.columns"
   ]
  },
  {
   "cell_type": "code",
   "execution_count": 152,
   "metadata": {},
   "outputs": [
    {
     "data": {
      "text/plain": [
       "(99441, 8)"
      ]
     },
     "execution_count": 152,
     "metadata": {},
     "output_type": "execute_result"
    }
   ],
   "source": [
    "orders.shape"
   ]
  },
  {
   "cell_type": "code",
   "execution_count": 153,
   "metadata": {},
   "outputs": [
    {
     "data": {
      "text/plain": [
       "order_id                            0\n",
       "customer_id                         0\n",
       "order_status                        0\n",
       "order_purchase_timestamp            0\n",
       "order_approved_at                 160\n",
       "order_delivered_carrier_date     1783\n",
       "order_delivered_customer_date    2965\n",
       "order_estimated_delivery_date       0\n",
       "dtype: int64"
      ]
     },
     "execution_count": 153,
     "metadata": {},
     "output_type": "execute_result"
    }
   ],
   "source": [
    "orders.isnull().sum()"
   ]
  },
  {
   "cell_type": "code",
   "execution_count": 154,
   "metadata": {},
   "outputs": [
    {
     "data": {
      "text/plain": [
       "order_id                         0\n",
       "customer_id                      0\n",
       "order_status                     0\n",
       "order_purchase_timestamp         0\n",
       "order_approved_at                0\n",
       "order_delivered_carrier_date     0\n",
       "order_delivered_customer_date    0\n",
       "order_estimated_delivery_date    0\n",
       "dtype: int64"
      ]
     },
     "execution_count": 154,
     "metadata": {},
     "output_type": "execute_result"
    }
   ],
   "source": [
    "orders.dropna(subset=['order_approved_at','order_delivered_carrier_date','order_delivered_customer_date',\n",
    "                      'order_estimated_delivery_date'],inplace=True)\n",
    "orders.isnull().sum()"
   ]
  },
  {
   "cell_type": "code",
   "execution_count": 155,
   "metadata": {},
   "outputs": [
    {
     "name": "stdout",
     "output_type": "stream",
     "text": [
      "<class 'pandas.core.frame.DataFrame'>\n",
      "Int64Index: 96461 entries, 0 to 99440\n",
      "Data columns (total 8 columns):\n",
      "order_id                         96461 non-null object\n",
      "customer_id                      96461 non-null object\n",
      "order_status                     96461 non-null object\n",
      "order_purchase_timestamp         96461 non-null object\n",
      "order_approved_at                96461 non-null object\n",
      "order_delivered_carrier_date     96461 non-null object\n",
      "order_delivered_customer_date    96461 non-null object\n",
      "order_estimated_delivery_date    96461 non-null object\n",
      "dtypes: object(8)\n",
      "memory usage: 6.6+ MB\n"
     ]
    }
   ],
   "source": [
    "orders.info()"
   ]
  },
  {
   "cell_type": "code",
   "execution_count": 156,
   "metadata": {},
   "outputs": [
    {
     "data": {
      "text/html": [
       "<div>\n",
       "<style scoped>\n",
       "    .dataframe tbody tr th:only-of-type {\n",
       "        vertical-align: middle;\n",
       "    }\n",
       "\n",
       "    .dataframe tbody tr th {\n",
       "        vertical-align: top;\n",
       "    }\n",
       "\n",
       "    .dataframe thead th {\n",
       "        text-align: right;\n",
       "    }\n",
       "</style>\n",
       "<table border=\"1\" class=\"dataframe\">\n",
       "  <thead>\n",
       "    <tr style=\"text-align: right;\">\n",
       "      <th></th>\n",
       "      <th>order_id</th>\n",
       "      <th>customer_id</th>\n",
       "      <th>order_status</th>\n",
       "      <th>order_purchase_timestamp</th>\n",
       "      <th>order_approved_at</th>\n",
       "      <th>order_delivered_carrier_date</th>\n",
       "      <th>order_delivered_customer_date</th>\n",
       "      <th>order_estimated_delivery_date</th>\n",
       "    </tr>\n",
       "  </thead>\n",
       "  <tbody>\n",
       "    <tr>\n",
       "      <th>0</th>\n",
       "      <td>e481f51cbdc54678b7cc49136f2d6af7</td>\n",
       "      <td>9ef432eb6251297304e76186b10a928d</td>\n",
       "      <td>delivered</td>\n",
       "      <td>2017-10-02 10:56:33</td>\n",
       "      <td>2017-10-02 11:07:15</td>\n",
       "      <td>2017-10-04 19:55:00</td>\n",
       "      <td>2017-10-10 21:25:13</td>\n",
       "      <td>2017-10-18 00:00:00</td>\n",
       "    </tr>\n",
       "    <tr>\n",
       "      <th>1</th>\n",
       "      <td>53cdb2fc8bc7dce0b6741e2150273451</td>\n",
       "      <td>b0830fb4747a6c6d20dea0b8c802d7ef</td>\n",
       "      <td>delivered</td>\n",
       "      <td>2018-07-24 20:41:37</td>\n",
       "      <td>2018-07-26 03:24:27</td>\n",
       "      <td>2018-07-26 14:31:00</td>\n",
       "      <td>2018-08-07 15:27:45</td>\n",
       "      <td>2018-08-13 00:00:00</td>\n",
       "    </tr>\n",
       "    <tr>\n",
       "      <th>2</th>\n",
       "      <td>47770eb9100c2d0c44946d9cf07ec65d</td>\n",
       "      <td>41ce2a54c0b03bf3443c3d931a367089</td>\n",
       "      <td>delivered</td>\n",
       "      <td>2018-08-08 08:38:49</td>\n",
       "      <td>2018-08-08 08:55:23</td>\n",
       "      <td>2018-08-08 13:50:00</td>\n",
       "      <td>2018-08-17 18:06:29</td>\n",
       "      <td>2018-09-04 00:00:00</td>\n",
       "    </tr>\n",
       "    <tr>\n",
       "      <th>3</th>\n",
       "      <td>949d5b44dbf5de918fe9c16f97b45f8a</td>\n",
       "      <td>f88197465ea7920adcdbec7375364d82</td>\n",
       "      <td>delivered</td>\n",
       "      <td>2017-11-18 19:28:06</td>\n",
       "      <td>2017-11-18 19:45:59</td>\n",
       "      <td>2017-11-22 13:39:59</td>\n",
       "      <td>2017-12-02 00:28:42</td>\n",
       "      <td>2017-12-15 00:00:00</td>\n",
       "    </tr>\n",
       "    <tr>\n",
       "      <th>4</th>\n",
       "      <td>ad21c59c0840e6cb83a9ceb5573f8159</td>\n",
       "      <td>8ab97904e6daea8866dbdbc4fb7aad2c</td>\n",
       "      <td>delivered</td>\n",
       "      <td>2018-02-13 21:18:39</td>\n",
       "      <td>2018-02-13 22:20:29</td>\n",
       "      <td>2018-02-14 19:46:34</td>\n",
       "      <td>2018-02-16 18:17:02</td>\n",
       "      <td>2018-02-26 00:00:00</td>\n",
       "    </tr>\n",
       "  </tbody>\n",
       "</table>\n",
       "</div>"
      ],
      "text/plain": [
       "                           order_id                       customer_id  \\\n",
       "0  e481f51cbdc54678b7cc49136f2d6af7  9ef432eb6251297304e76186b10a928d   \n",
       "1  53cdb2fc8bc7dce0b6741e2150273451  b0830fb4747a6c6d20dea0b8c802d7ef   \n",
       "2  47770eb9100c2d0c44946d9cf07ec65d  41ce2a54c0b03bf3443c3d931a367089   \n",
       "3  949d5b44dbf5de918fe9c16f97b45f8a  f88197465ea7920adcdbec7375364d82   \n",
       "4  ad21c59c0840e6cb83a9ceb5573f8159  8ab97904e6daea8866dbdbc4fb7aad2c   \n",
       "\n",
       "  order_status order_purchase_timestamp    order_approved_at  \\\n",
       "0    delivered      2017-10-02 10:56:33  2017-10-02 11:07:15   \n",
       "1    delivered      2018-07-24 20:41:37  2018-07-26 03:24:27   \n",
       "2    delivered      2018-08-08 08:38:49  2018-08-08 08:55:23   \n",
       "3    delivered      2017-11-18 19:28:06  2017-11-18 19:45:59   \n",
       "4    delivered      2018-02-13 21:18:39  2018-02-13 22:20:29   \n",
       "\n",
       "  order_delivered_carrier_date order_delivered_customer_date  \\\n",
       "0          2017-10-04 19:55:00           2017-10-10 21:25:13   \n",
       "1          2018-07-26 14:31:00           2018-08-07 15:27:45   \n",
       "2          2018-08-08 13:50:00           2018-08-17 18:06:29   \n",
       "3          2017-11-22 13:39:59           2017-12-02 00:28:42   \n",
       "4          2018-02-14 19:46:34           2018-02-16 18:17:02   \n",
       "\n",
       "  order_estimated_delivery_date  \n",
       "0           2017-10-18 00:00:00  \n",
       "1           2018-08-13 00:00:00  \n",
       "2           2018-09-04 00:00:00  \n",
       "3           2017-12-15 00:00:00  \n",
       "4           2018-02-26 00:00:00  "
      ]
     },
     "execution_count": 156,
     "metadata": {},
     "output_type": "execute_result"
    }
   ],
   "source": [
    "orders.head()"
   ]
  },
  {
   "cell_type": "code",
   "execution_count": 157,
   "metadata": {},
   "outputs": [],
   "source": [
    "orders['order_approved_at'] = pd.to_datetime(orders['order_approved_at']).dt.date\n",
    "orders['order_delivered_carrier_date'] = pd.to_datetime(orders['order_delivered_carrier_date']).dt.date\n",
    "orders['order_delivered_customer_date'] = pd.to_datetime(orders['order_delivered_customer_date']).dt.date\n",
    "orders['order_estimated_delivery_date'] = pd.to_datetime(orders['order_estimated_delivery_date']).dt.date"
   ]
  },
  {
   "cell_type": "code",
   "execution_count": 158,
   "metadata": {},
   "outputs": [
    {
     "data": {
      "text/html": [
       "<div>\n",
       "<style scoped>\n",
       "    .dataframe tbody tr th:only-of-type {\n",
       "        vertical-align: middle;\n",
       "    }\n",
       "\n",
       "    .dataframe tbody tr th {\n",
       "        vertical-align: top;\n",
       "    }\n",
       "\n",
       "    .dataframe thead th {\n",
       "        text-align: right;\n",
       "    }\n",
       "</style>\n",
       "<table border=\"1\" class=\"dataframe\">\n",
       "  <thead>\n",
       "    <tr style=\"text-align: right;\">\n",
       "      <th></th>\n",
       "      <th>order_id</th>\n",
       "      <th>customer_id</th>\n",
       "      <th>order_status</th>\n",
       "      <th>order_purchase_timestamp</th>\n",
       "      <th>order_approved_at</th>\n",
       "      <th>order_delivered_carrier_date</th>\n",
       "      <th>order_delivered_customer_date</th>\n",
       "      <th>order_estimated_delivery_date</th>\n",
       "    </tr>\n",
       "  </thead>\n",
       "  <tbody>\n",
       "    <tr>\n",
       "      <th>0</th>\n",
       "      <td>e481f51cbdc54678b7cc49136f2d6af7</td>\n",
       "      <td>9ef432eb6251297304e76186b10a928d</td>\n",
       "      <td>delivered</td>\n",
       "      <td>2017-10-02 10:56:33</td>\n",
       "      <td>2017-10-02</td>\n",
       "      <td>2017-10-04</td>\n",
       "      <td>2017-10-10</td>\n",
       "      <td>2017-10-18</td>\n",
       "    </tr>\n",
       "    <tr>\n",
       "      <th>1</th>\n",
       "      <td>53cdb2fc8bc7dce0b6741e2150273451</td>\n",
       "      <td>b0830fb4747a6c6d20dea0b8c802d7ef</td>\n",
       "      <td>delivered</td>\n",
       "      <td>2018-07-24 20:41:37</td>\n",
       "      <td>2018-07-26</td>\n",
       "      <td>2018-07-26</td>\n",
       "      <td>2018-08-07</td>\n",
       "      <td>2018-08-13</td>\n",
       "    </tr>\n",
       "    <tr>\n",
       "      <th>2</th>\n",
       "      <td>47770eb9100c2d0c44946d9cf07ec65d</td>\n",
       "      <td>41ce2a54c0b03bf3443c3d931a367089</td>\n",
       "      <td>delivered</td>\n",
       "      <td>2018-08-08 08:38:49</td>\n",
       "      <td>2018-08-08</td>\n",
       "      <td>2018-08-08</td>\n",
       "      <td>2018-08-17</td>\n",
       "      <td>2018-09-04</td>\n",
       "    </tr>\n",
       "    <tr>\n",
       "      <th>3</th>\n",
       "      <td>949d5b44dbf5de918fe9c16f97b45f8a</td>\n",
       "      <td>f88197465ea7920adcdbec7375364d82</td>\n",
       "      <td>delivered</td>\n",
       "      <td>2017-11-18 19:28:06</td>\n",
       "      <td>2017-11-18</td>\n",
       "      <td>2017-11-22</td>\n",
       "      <td>2017-12-02</td>\n",
       "      <td>2017-12-15</td>\n",
       "    </tr>\n",
       "    <tr>\n",
       "      <th>4</th>\n",
       "      <td>ad21c59c0840e6cb83a9ceb5573f8159</td>\n",
       "      <td>8ab97904e6daea8866dbdbc4fb7aad2c</td>\n",
       "      <td>delivered</td>\n",
       "      <td>2018-02-13 21:18:39</td>\n",
       "      <td>2018-02-13</td>\n",
       "      <td>2018-02-14</td>\n",
       "      <td>2018-02-16</td>\n",
       "      <td>2018-02-26</td>\n",
       "    </tr>\n",
       "  </tbody>\n",
       "</table>\n",
       "</div>"
      ],
      "text/plain": [
       "                           order_id                       customer_id  \\\n",
       "0  e481f51cbdc54678b7cc49136f2d6af7  9ef432eb6251297304e76186b10a928d   \n",
       "1  53cdb2fc8bc7dce0b6741e2150273451  b0830fb4747a6c6d20dea0b8c802d7ef   \n",
       "2  47770eb9100c2d0c44946d9cf07ec65d  41ce2a54c0b03bf3443c3d931a367089   \n",
       "3  949d5b44dbf5de918fe9c16f97b45f8a  f88197465ea7920adcdbec7375364d82   \n",
       "4  ad21c59c0840e6cb83a9ceb5573f8159  8ab97904e6daea8866dbdbc4fb7aad2c   \n",
       "\n",
       "  order_status order_purchase_timestamp order_approved_at  \\\n",
       "0    delivered      2017-10-02 10:56:33        2017-10-02   \n",
       "1    delivered      2018-07-24 20:41:37        2018-07-26   \n",
       "2    delivered      2018-08-08 08:38:49        2018-08-08   \n",
       "3    delivered      2017-11-18 19:28:06        2017-11-18   \n",
       "4    delivered      2018-02-13 21:18:39        2018-02-13   \n",
       "\n",
       "  order_delivered_carrier_date order_delivered_customer_date  \\\n",
       "0                   2017-10-04                    2017-10-10   \n",
       "1                   2018-07-26                    2018-08-07   \n",
       "2                   2018-08-08                    2018-08-17   \n",
       "3                   2017-11-22                    2017-12-02   \n",
       "4                   2018-02-14                    2018-02-16   \n",
       "\n",
       "  order_estimated_delivery_date  \n",
       "0                    2017-10-18  \n",
       "1                    2018-08-13  \n",
       "2                    2018-09-04  \n",
       "3                    2017-12-15  \n",
       "4                    2018-02-26  "
      ]
     },
     "execution_count": 158,
     "metadata": {},
     "output_type": "execute_result"
    }
   ],
   "source": [
    "orders.head()"
   ]
  },
  {
   "cell_type": "markdown",
   "metadata": {},
   "source": [
    "Order Reviews --"
   ]
  },
  {
   "cell_type": "code",
   "execution_count": 195,
   "metadata": {},
   "outputs": [
    {
     "data": {
      "text/html": [
       "<div>\n",
       "<style scoped>\n",
       "    .dataframe tbody tr th:only-of-type {\n",
       "        vertical-align: middle;\n",
       "    }\n",
       "\n",
       "    .dataframe tbody tr th {\n",
       "        vertical-align: top;\n",
       "    }\n",
       "\n",
       "    .dataframe thead th {\n",
       "        text-align: right;\n",
       "    }\n",
       "</style>\n",
       "<table border=\"1\" class=\"dataframe\">\n",
       "  <thead>\n",
       "    <tr style=\"text-align: right;\">\n",
       "      <th></th>\n",
       "      <th>review_id</th>\n",
       "      <th>order_id</th>\n",
       "      <th>review_score</th>\n",
       "      <th>review_creation_date</th>\n",
       "      <th>review_answer_timestamp</th>\n",
       "    </tr>\n",
       "  </thead>\n",
       "  <tbody>\n",
       "    <tr>\n",
       "      <th>99995</th>\n",
       "      <td>f3897127253a9592a73be9bdfdf4ed7a</td>\n",
       "      <td>22ec9f0669f784db00fa86d035cf8602</td>\n",
       "      <td>5</td>\n",
       "      <td>2017-12-09</td>\n",
       "      <td>2017-12-11 20:06:42</td>\n",
       "    </tr>\n",
       "    <tr>\n",
       "      <th>99996</th>\n",
       "      <td>b3de70c89b1510c4cd3d0649fd302472</td>\n",
       "      <td>55d4004744368f5571d1f590031933e4</td>\n",
       "      <td>5</td>\n",
       "      <td>2018-03-22</td>\n",
       "      <td>2018-03-23 09:10:43</td>\n",
       "    </tr>\n",
       "    <tr>\n",
       "      <th>99997</th>\n",
       "      <td>1adeb9d84d72fe4e337617733eb85149</td>\n",
       "      <td>7725825d039fc1f0ceb7635e3f7d9206</td>\n",
       "      <td>4</td>\n",
       "      <td>2018-07-01</td>\n",
       "      <td>2018-07-02 12:59:13</td>\n",
       "    </tr>\n",
       "    <tr>\n",
       "      <th>99998</th>\n",
       "      <td>be360f18f5df1e0541061c87021e6d93</td>\n",
       "      <td>f8bd3f2000c28c5342fedeb5e50f2e75</td>\n",
       "      <td>1</td>\n",
       "      <td>2017-12-15</td>\n",
       "      <td>2017-12-16 01:29:43</td>\n",
       "    </tr>\n",
       "    <tr>\n",
       "      <th>99999</th>\n",
       "      <td>efe49f1d6f951dd88b51e6ccd4cc548f</td>\n",
       "      <td>90531360ecb1eec2a1fbb265a0db0508</td>\n",
       "      <td>1</td>\n",
       "      <td>2017-07-03</td>\n",
       "      <td>2017-07-03 21:01:49</td>\n",
       "    </tr>\n",
       "  </tbody>\n",
       "</table>\n",
       "</div>"
      ],
      "text/plain": [
       "                              review_id                          order_id  \\\n",
       "99995  f3897127253a9592a73be9bdfdf4ed7a  22ec9f0669f784db00fa86d035cf8602   \n",
       "99996  b3de70c89b1510c4cd3d0649fd302472  55d4004744368f5571d1f590031933e4   \n",
       "99997  1adeb9d84d72fe4e337617733eb85149  7725825d039fc1f0ceb7635e3f7d9206   \n",
       "99998  be360f18f5df1e0541061c87021e6d93  f8bd3f2000c28c5342fedeb5e50f2e75   \n",
       "99999  efe49f1d6f951dd88b51e6ccd4cc548f  90531360ecb1eec2a1fbb265a0db0508   \n",
       "\n",
       "       review_score review_creation_date review_answer_timestamp  \n",
       "99995             5           2017-12-09     2017-12-11 20:06:42  \n",
       "99996             5           2018-03-22     2018-03-23 09:10:43  \n",
       "99997             4           2018-07-01     2018-07-02 12:59:13  \n",
       "99998             1           2017-12-15     2017-12-16 01:29:43  \n",
       "99999             1           2017-07-03     2017-07-03 21:01:49  "
      ]
     },
     "execution_count": 195,
     "metadata": {},
     "output_type": "execute_result"
    }
   ],
   "source": [
    "reviews.tail(5)"
   ]
  },
  {
   "cell_type": "code",
   "execution_count": 160,
   "metadata": {},
   "outputs": [],
   "source": [
    "reviews['review_creation_date'] = pd.to_datetime(reviews['review_creation_date']).dt.date"
   ]
  },
  {
   "cell_type": "code",
   "execution_count": 194,
   "metadata": {},
   "outputs": [
    {
     "data": {
      "text/plain": [
       "Index(['review_id', 'order_id', 'review_score', 'review_creation_date',\n",
       "       'review_answer_timestamp'],\n",
       "      dtype='object')"
      ]
     },
     "execution_count": 194,
     "metadata": {},
     "output_type": "execute_result"
    }
   ],
   "source": [
    "reviews.columns"
   ]
  },
  {
   "cell_type": "code",
   "execution_count": 161,
   "metadata": {},
   "outputs": [
    {
     "data": {
      "text/plain": [
       "(100000, 7)"
      ]
     },
     "execution_count": 161,
     "metadata": {},
     "output_type": "execute_result"
    }
   ],
   "source": [
    "reviews.shape"
   ]
  },
  {
   "cell_type": "code",
   "execution_count": 162,
   "metadata": {},
   "outputs": [
    {
     "data": {
      "text/plain": [
       "review_id                      0\n",
       "order_id                       0\n",
       "review_score                   0\n",
       "review_comment_title       88285\n",
       "review_comment_message     58247\n",
       "review_creation_date           0\n",
       "review_answer_timestamp        0\n",
       "dtype: int64"
      ]
     },
     "execution_count": 162,
     "metadata": {},
     "output_type": "execute_result"
    }
   ],
   "source": [
    "reviews.isnull().sum()"
   ]
  },
  {
   "cell_type": "code",
   "execution_count": 163,
   "metadata": {},
   "outputs": [
    {
     "data": {
      "text/plain": [
       "array([4, 5, 1, 3, 2], dtype=int64)"
      ]
     },
     "execution_count": 163,
     "metadata": {},
     "output_type": "execute_result"
    }
   ],
   "source": [
    "reviews['review_score'].unique()"
   ]
  },
  {
   "cell_type": "code",
   "execution_count": 164,
   "metadata": {},
   "outputs": [],
   "source": [
    "reviews.drop([\"review_comment_title\",\"review_comment_message\"],axis=1,inplace=True)"
   ]
  },
  {
   "cell_type": "code",
   "execution_count": 165,
   "metadata": {},
   "outputs": [
    {
     "data": {
      "text/plain": [
       "review_id                  False\n",
       "order_id                   False\n",
       "review_score               False\n",
       "review_creation_date       False\n",
       "review_answer_timestamp    False\n",
       "dtype: bool"
      ]
     },
     "execution_count": 165,
     "metadata": {},
     "output_type": "execute_result"
    }
   ],
   "source": [
    "reviews.isnull().any()"
   ]
  },
  {
   "cell_type": "markdown",
   "metadata": {},
   "source": [
    "Merging Orders, Order_items and Order_Reviews ---"
   ]
  },
  {
   "cell_type": "code",
   "execution_count": 166,
   "metadata": {},
   "outputs": [
    {
     "data": {
      "text/html": [
       "<div>\n",
       "<style scoped>\n",
       "    .dataframe tbody tr th:only-of-type {\n",
       "        vertical-align: middle;\n",
       "    }\n",
       "\n",
       "    .dataframe tbody tr th {\n",
       "        vertical-align: top;\n",
       "    }\n",
       "\n",
       "    .dataframe thead th {\n",
       "        text-align: right;\n",
       "    }\n",
       "</style>\n",
       "<table border=\"1\" class=\"dataframe\">\n",
       "  <thead>\n",
       "    <tr style=\"text-align: right;\">\n",
       "      <th></th>\n",
       "      <th>order_id</th>\n",
       "      <th>customer_id</th>\n",
       "      <th>order_status</th>\n",
       "      <th>order_purchase_timestamp</th>\n",
       "      <th>order_approved_at</th>\n",
       "      <th>order_delivered_carrier_date</th>\n",
       "      <th>order_delivered_customer_date</th>\n",
       "      <th>order_estimated_delivery_date</th>\n",
       "      <th>order_item_id</th>\n",
       "      <th>product_id</th>\n",
       "      <th>seller_id</th>\n",
       "      <th>shipping_limit_date</th>\n",
       "      <th>price</th>\n",
       "      <th>freight_value</th>\n",
       "    </tr>\n",
       "  </thead>\n",
       "  <tbody>\n",
       "    <tr>\n",
       "      <th>0</th>\n",
       "      <td>e481f51cbdc54678b7cc49136f2d6af7</td>\n",
       "      <td>9ef432eb6251297304e76186b10a928d</td>\n",
       "      <td>delivered</td>\n",
       "      <td>2017-10-02 10:56:33</td>\n",
       "      <td>2017-10-02</td>\n",
       "      <td>2017-10-04</td>\n",
       "      <td>2017-10-10</td>\n",
       "      <td>2017-10-18</td>\n",
       "      <td>1</td>\n",
       "      <td>87285b34884572647811a353c7ac498a</td>\n",
       "      <td>3504c0cb71d7fa48d967e0e4c94d59d9</td>\n",
       "      <td>2017-10-06</td>\n",
       "      <td>29.99</td>\n",
       "      <td>8.72</td>\n",
       "    </tr>\n",
       "    <tr>\n",
       "      <th>1</th>\n",
       "      <td>53cdb2fc8bc7dce0b6741e2150273451</td>\n",
       "      <td>b0830fb4747a6c6d20dea0b8c802d7ef</td>\n",
       "      <td>delivered</td>\n",
       "      <td>2018-07-24 20:41:37</td>\n",
       "      <td>2018-07-26</td>\n",
       "      <td>2018-07-26</td>\n",
       "      <td>2018-08-07</td>\n",
       "      <td>2018-08-13</td>\n",
       "      <td>1</td>\n",
       "      <td>595fac2a385ac33a80bd5114aec74eb8</td>\n",
       "      <td>289cdb325fb7e7f891c38608bf9e0962</td>\n",
       "      <td>2018-07-30</td>\n",
       "      <td>118.70</td>\n",
       "      <td>22.76</td>\n",
       "    </tr>\n",
       "    <tr>\n",
       "      <th>2</th>\n",
       "      <td>47770eb9100c2d0c44946d9cf07ec65d</td>\n",
       "      <td>41ce2a54c0b03bf3443c3d931a367089</td>\n",
       "      <td>delivered</td>\n",
       "      <td>2018-08-08 08:38:49</td>\n",
       "      <td>2018-08-08</td>\n",
       "      <td>2018-08-08</td>\n",
       "      <td>2018-08-17</td>\n",
       "      <td>2018-09-04</td>\n",
       "      <td>1</td>\n",
       "      <td>aa4383b373c6aca5d8797843e5594415</td>\n",
       "      <td>4869f7a5dfa277a7dca6462dcf3b52b2</td>\n",
       "      <td>2018-08-13</td>\n",
       "      <td>159.90</td>\n",
       "      <td>19.22</td>\n",
       "    </tr>\n",
       "    <tr>\n",
       "      <th>3</th>\n",
       "      <td>949d5b44dbf5de918fe9c16f97b45f8a</td>\n",
       "      <td>f88197465ea7920adcdbec7375364d82</td>\n",
       "      <td>delivered</td>\n",
       "      <td>2017-11-18 19:28:06</td>\n",
       "      <td>2017-11-18</td>\n",
       "      <td>2017-11-22</td>\n",
       "      <td>2017-12-02</td>\n",
       "      <td>2017-12-15</td>\n",
       "      <td>1</td>\n",
       "      <td>d0b61bfb1de832b15ba9d266ca96e5b0</td>\n",
       "      <td>66922902710d126a0e7d26b0e3805106</td>\n",
       "      <td>2017-11-23</td>\n",
       "      <td>45.00</td>\n",
       "      <td>27.20</td>\n",
       "    </tr>\n",
       "    <tr>\n",
       "      <th>4</th>\n",
       "      <td>ad21c59c0840e6cb83a9ceb5573f8159</td>\n",
       "      <td>8ab97904e6daea8866dbdbc4fb7aad2c</td>\n",
       "      <td>delivered</td>\n",
       "      <td>2018-02-13 21:18:39</td>\n",
       "      <td>2018-02-13</td>\n",
       "      <td>2018-02-14</td>\n",
       "      <td>2018-02-16</td>\n",
       "      <td>2018-02-26</td>\n",
       "      <td>1</td>\n",
       "      <td>65266b2da20d04dbe00c5c2d3bb7859e</td>\n",
       "      <td>2c9e548be18521d1c43cde1c582c6de8</td>\n",
       "      <td>2018-02-19</td>\n",
       "      <td>19.90</td>\n",
       "      <td>8.72</td>\n",
       "    </tr>\n",
       "    <tr>\n",
       "      <th>5</th>\n",
       "      <td>a4591c265e18cb1dcee52889e2d8acc3</td>\n",
       "      <td>503740e9ca751ccdda7ba28e9ab8f608</td>\n",
       "      <td>delivered</td>\n",
       "      <td>2017-07-09 21:57:05</td>\n",
       "      <td>2017-07-09</td>\n",
       "      <td>2017-07-11</td>\n",
       "      <td>2017-07-26</td>\n",
       "      <td>2017-08-01</td>\n",
       "      <td>1</td>\n",
       "      <td>060cb19345d90064d1015407193c233d</td>\n",
       "      <td>8581055ce74af1daba164fdbd55a40de</td>\n",
       "      <td>2017-07-13</td>\n",
       "      <td>147.90</td>\n",
       "      <td>27.36</td>\n",
       "    </tr>\n",
       "    <tr>\n",
       "      <th>6</th>\n",
       "      <td>6514b8ad8028c9f2cc2374ded245783f</td>\n",
       "      <td>9bdf08b4b3b52b5526ff42d37d47f222</td>\n",
       "      <td>delivered</td>\n",
       "      <td>2017-05-16 13:10:30</td>\n",
       "      <td>2017-05-16</td>\n",
       "      <td>2017-05-22</td>\n",
       "      <td>2017-05-26</td>\n",
       "      <td>2017-06-07</td>\n",
       "      <td>1</td>\n",
       "      <td>4520766ec412348b8d4caa5e8a18c464</td>\n",
       "      <td>16090f2ca825584b5a147ab24aa30c86</td>\n",
       "      <td>2017-05-22</td>\n",
       "      <td>59.99</td>\n",
       "      <td>15.17</td>\n",
       "    </tr>\n",
       "    <tr>\n",
       "      <th>7</th>\n",
       "      <td>76c6e866289321a7c93b82b54852dc33</td>\n",
       "      <td>f54a9f0e6b351c431402b8461ea51999</td>\n",
       "      <td>delivered</td>\n",
       "      <td>2017-01-23 18:29:09</td>\n",
       "      <td>2017-01-25</td>\n",
       "      <td>2017-01-26</td>\n",
       "      <td>2017-02-02</td>\n",
       "      <td>2017-03-06</td>\n",
       "      <td>1</td>\n",
       "      <td>ac1789e492dcd698c5c10b97a671243a</td>\n",
       "      <td>63b9ae557efed31d1f7687917d248a8d</td>\n",
       "      <td>2017-01-27</td>\n",
       "      <td>19.90</td>\n",
       "      <td>16.05</td>\n",
       "    </tr>\n",
       "    <tr>\n",
       "      <th>8</th>\n",
       "      <td>e69bfb5eb88e0ed6a785585b27e16dbf</td>\n",
       "      <td>31ad1d1b63eb9962463f764d4e6e0c9d</td>\n",
       "      <td>delivered</td>\n",
       "      <td>2017-07-29 11:55:02</td>\n",
       "      <td>2017-07-29</td>\n",
       "      <td>2017-08-10</td>\n",
       "      <td>2017-08-16</td>\n",
       "      <td>2017-08-23</td>\n",
       "      <td>1</td>\n",
       "      <td>9a78fb9862b10749a117f7fc3c31f051</td>\n",
       "      <td>7c67e1448b00f6e969d365cea6b010ab</td>\n",
       "      <td>2017-08-11</td>\n",
       "      <td>149.99</td>\n",
       "      <td>19.77</td>\n",
       "    </tr>\n",
       "    <tr>\n",
       "      <th>9</th>\n",
       "      <td>e6ce16cb79ec1d90b1da9085a6118aeb</td>\n",
       "      <td>494dded5b201313c64ed7f100595b95c</td>\n",
       "      <td>delivered</td>\n",
       "      <td>2017-05-16 19:41:10</td>\n",
       "      <td>2017-05-16</td>\n",
       "      <td>2017-05-18</td>\n",
       "      <td>2017-05-29</td>\n",
       "      <td>2017-06-07</td>\n",
       "      <td>1</td>\n",
       "      <td>08574b074924071f4e201e151b152b4e</td>\n",
       "      <td>001cca7ae9ae17fb1caed9dfb1094831</td>\n",
       "      <td>2017-05-22</td>\n",
       "      <td>99.00</td>\n",
       "      <td>30.53</td>\n",
       "    </tr>\n",
       "  </tbody>\n",
       "</table>\n",
       "</div>"
      ],
      "text/plain": [
       "                           order_id                       customer_id  \\\n",
       "0  e481f51cbdc54678b7cc49136f2d6af7  9ef432eb6251297304e76186b10a928d   \n",
       "1  53cdb2fc8bc7dce0b6741e2150273451  b0830fb4747a6c6d20dea0b8c802d7ef   \n",
       "2  47770eb9100c2d0c44946d9cf07ec65d  41ce2a54c0b03bf3443c3d931a367089   \n",
       "3  949d5b44dbf5de918fe9c16f97b45f8a  f88197465ea7920adcdbec7375364d82   \n",
       "4  ad21c59c0840e6cb83a9ceb5573f8159  8ab97904e6daea8866dbdbc4fb7aad2c   \n",
       "5  a4591c265e18cb1dcee52889e2d8acc3  503740e9ca751ccdda7ba28e9ab8f608   \n",
       "6  6514b8ad8028c9f2cc2374ded245783f  9bdf08b4b3b52b5526ff42d37d47f222   \n",
       "7  76c6e866289321a7c93b82b54852dc33  f54a9f0e6b351c431402b8461ea51999   \n",
       "8  e69bfb5eb88e0ed6a785585b27e16dbf  31ad1d1b63eb9962463f764d4e6e0c9d   \n",
       "9  e6ce16cb79ec1d90b1da9085a6118aeb  494dded5b201313c64ed7f100595b95c   \n",
       "\n",
       "  order_status order_purchase_timestamp order_approved_at  \\\n",
       "0    delivered      2017-10-02 10:56:33        2017-10-02   \n",
       "1    delivered      2018-07-24 20:41:37        2018-07-26   \n",
       "2    delivered      2018-08-08 08:38:49        2018-08-08   \n",
       "3    delivered      2017-11-18 19:28:06        2017-11-18   \n",
       "4    delivered      2018-02-13 21:18:39        2018-02-13   \n",
       "5    delivered      2017-07-09 21:57:05        2017-07-09   \n",
       "6    delivered      2017-05-16 13:10:30        2017-05-16   \n",
       "7    delivered      2017-01-23 18:29:09        2017-01-25   \n",
       "8    delivered      2017-07-29 11:55:02        2017-07-29   \n",
       "9    delivered      2017-05-16 19:41:10        2017-05-16   \n",
       "\n",
       "  order_delivered_carrier_date order_delivered_customer_date  \\\n",
       "0                   2017-10-04                    2017-10-10   \n",
       "1                   2018-07-26                    2018-08-07   \n",
       "2                   2018-08-08                    2018-08-17   \n",
       "3                   2017-11-22                    2017-12-02   \n",
       "4                   2018-02-14                    2018-02-16   \n",
       "5                   2017-07-11                    2017-07-26   \n",
       "6                   2017-05-22                    2017-05-26   \n",
       "7                   2017-01-26                    2017-02-02   \n",
       "8                   2017-08-10                    2017-08-16   \n",
       "9                   2017-05-18                    2017-05-29   \n",
       "\n",
       "  order_estimated_delivery_date  order_item_id  \\\n",
       "0                    2017-10-18              1   \n",
       "1                    2018-08-13              1   \n",
       "2                    2018-09-04              1   \n",
       "3                    2017-12-15              1   \n",
       "4                    2018-02-26              1   \n",
       "5                    2017-08-01              1   \n",
       "6                    2017-06-07              1   \n",
       "7                    2017-03-06              1   \n",
       "8                    2017-08-23              1   \n",
       "9                    2017-06-07              1   \n",
       "\n",
       "                         product_id                         seller_id  \\\n",
       "0  87285b34884572647811a353c7ac498a  3504c0cb71d7fa48d967e0e4c94d59d9   \n",
       "1  595fac2a385ac33a80bd5114aec74eb8  289cdb325fb7e7f891c38608bf9e0962   \n",
       "2  aa4383b373c6aca5d8797843e5594415  4869f7a5dfa277a7dca6462dcf3b52b2   \n",
       "3  d0b61bfb1de832b15ba9d266ca96e5b0  66922902710d126a0e7d26b0e3805106   \n",
       "4  65266b2da20d04dbe00c5c2d3bb7859e  2c9e548be18521d1c43cde1c582c6de8   \n",
       "5  060cb19345d90064d1015407193c233d  8581055ce74af1daba164fdbd55a40de   \n",
       "6  4520766ec412348b8d4caa5e8a18c464  16090f2ca825584b5a147ab24aa30c86   \n",
       "7  ac1789e492dcd698c5c10b97a671243a  63b9ae557efed31d1f7687917d248a8d   \n",
       "8  9a78fb9862b10749a117f7fc3c31f051  7c67e1448b00f6e969d365cea6b010ab   \n",
       "9  08574b074924071f4e201e151b152b4e  001cca7ae9ae17fb1caed9dfb1094831   \n",
       "\n",
       "  shipping_limit_date   price  freight_value  \n",
       "0          2017-10-06   29.99           8.72  \n",
       "1          2018-07-30  118.70          22.76  \n",
       "2          2018-08-13  159.90          19.22  \n",
       "3          2017-11-23   45.00          27.20  \n",
       "4          2018-02-19   19.90           8.72  \n",
       "5          2017-07-13  147.90          27.36  \n",
       "6          2017-05-22   59.99          15.17  \n",
       "7          2017-01-27   19.90          16.05  \n",
       "8          2017-08-11  149.99          19.77  \n",
       "9          2017-05-22   99.00          30.53  "
      ]
     },
     "execution_count": 166,
     "metadata": {},
     "output_type": "execute_result"
    }
   ],
   "source": [
    "ord = orders.merge(order_items, on='order_id', how='left')\n",
    "ord.head(10)"
   ]
  },
  {
   "cell_type": "code",
   "execution_count": 196,
   "metadata": {},
   "outputs": [
    {
     "data": {
      "text/plain": [
       "Index(['order_id', 'customer_id', 'order_status', 'order_purchase_timestamp',\n",
       "       'order_approved_at', 'order_delivered_carrier_date',\n",
       "       'order_delivered_customer_date', 'order_estimated_delivery_date',\n",
       "       'order_item_id', 'product_id', 'seller_id', 'shipping_limit_date',\n",
       "       'price', 'freight_value'],\n",
       "      dtype='object')"
      ]
     },
     "execution_count": 196,
     "metadata": {},
     "output_type": "execute_result"
    }
   ],
   "source": [
    "ord.columns"
   ]
  },
  {
   "cell_type": "code",
   "execution_count": 197,
   "metadata": {},
   "outputs": [
    {
     "data": {
      "text/plain": [
       "(110180, 14)"
      ]
     },
     "execution_count": 197,
     "metadata": {},
     "output_type": "execute_result"
    }
   ],
   "source": [
    "ord.shape"
   ]
  },
  {
   "cell_type": "code",
   "execution_count": 168,
   "metadata": {},
   "outputs": [
    {
     "data": {
      "text/html": [
       "<div>\n",
       "<style scoped>\n",
       "    .dataframe tbody tr th:only-of-type {\n",
       "        vertical-align: middle;\n",
       "    }\n",
       "\n",
       "    .dataframe tbody tr th {\n",
       "        vertical-align: top;\n",
       "    }\n",
       "\n",
       "    .dataframe thead th {\n",
       "        text-align: right;\n",
       "    }\n",
       "</style>\n",
       "<table border=\"1\" class=\"dataframe\">\n",
       "  <thead>\n",
       "    <tr style=\"text-align: right;\">\n",
       "      <th></th>\n",
       "      <th>order_id</th>\n",
       "      <th>customer_id</th>\n",
       "      <th>order_status</th>\n",
       "      <th>order_purchase_timestamp</th>\n",
       "      <th>order_approved_at</th>\n",
       "      <th>order_delivered_carrier_date</th>\n",
       "      <th>order_delivered_customer_date</th>\n",
       "      <th>order_estimated_delivery_date</th>\n",
       "      <th>order_item_id</th>\n",
       "      <th>product_id</th>\n",
       "      <th>seller_id</th>\n",
       "      <th>shipping_limit_date</th>\n",
       "      <th>price</th>\n",
       "      <th>freight_value</th>\n",
       "      <th>review_id</th>\n",
       "      <th>review_score</th>\n",
       "      <th>review_creation_date</th>\n",
       "      <th>review_answer_timestamp</th>\n",
       "    </tr>\n",
       "  </thead>\n",
       "  <tbody>\n",
       "    <tr>\n",
       "      <th>0</th>\n",
       "      <td>e481f51cbdc54678b7cc49136f2d6af7</td>\n",
       "      <td>9ef432eb6251297304e76186b10a928d</td>\n",
       "      <td>delivered</td>\n",
       "      <td>2017-10-02 10:56:33</td>\n",
       "      <td>2017-10-02</td>\n",
       "      <td>2017-10-04</td>\n",
       "      <td>2017-10-10</td>\n",
       "      <td>2017-10-18</td>\n",
       "      <td>1</td>\n",
       "      <td>87285b34884572647811a353c7ac498a</td>\n",
       "      <td>3504c0cb71d7fa48d967e0e4c94d59d9</td>\n",
       "      <td>2017-10-06</td>\n",
       "      <td>29.99</td>\n",
       "      <td>8.72</td>\n",
       "      <td>a54f0611adc9ed256b57ede6b6eb5114</td>\n",
       "      <td>4</td>\n",
       "      <td>2017-10-11</td>\n",
       "      <td>2017-10-12 03:43:48</td>\n",
       "    </tr>\n",
       "    <tr>\n",
       "      <th>1</th>\n",
       "      <td>53cdb2fc8bc7dce0b6741e2150273451</td>\n",
       "      <td>b0830fb4747a6c6d20dea0b8c802d7ef</td>\n",
       "      <td>delivered</td>\n",
       "      <td>2018-07-24 20:41:37</td>\n",
       "      <td>2018-07-26</td>\n",
       "      <td>2018-07-26</td>\n",
       "      <td>2018-08-07</td>\n",
       "      <td>2018-08-13</td>\n",
       "      <td>1</td>\n",
       "      <td>595fac2a385ac33a80bd5114aec74eb8</td>\n",
       "      <td>289cdb325fb7e7f891c38608bf9e0962</td>\n",
       "      <td>2018-07-30</td>\n",
       "      <td>118.70</td>\n",
       "      <td>22.76</td>\n",
       "      <td>8d5266042046a06655c8db133d120ba5</td>\n",
       "      <td>4</td>\n",
       "      <td>2018-08-08</td>\n",
       "      <td>2018-08-08 18:37:50</td>\n",
       "    </tr>\n",
       "    <tr>\n",
       "      <th>2</th>\n",
       "      <td>47770eb9100c2d0c44946d9cf07ec65d</td>\n",
       "      <td>41ce2a54c0b03bf3443c3d931a367089</td>\n",
       "      <td>delivered</td>\n",
       "      <td>2018-08-08 08:38:49</td>\n",
       "      <td>2018-08-08</td>\n",
       "      <td>2018-08-08</td>\n",
       "      <td>2018-08-17</td>\n",
       "      <td>2018-09-04</td>\n",
       "      <td>1</td>\n",
       "      <td>aa4383b373c6aca5d8797843e5594415</td>\n",
       "      <td>4869f7a5dfa277a7dca6462dcf3b52b2</td>\n",
       "      <td>2018-08-13</td>\n",
       "      <td>159.90</td>\n",
       "      <td>19.22</td>\n",
       "      <td>e73b67b67587f7644d5bd1a52deb1b01</td>\n",
       "      <td>5</td>\n",
       "      <td>2018-08-18</td>\n",
       "      <td>2018-08-22 19:07:58</td>\n",
       "    </tr>\n",
       "    <tr>\n",
       "      <th>3</th>\n",
       "      <td>949d5b44dbf5de918fe9c16f97b45f8a</td>\n",
       "      <td>f88197465ea7920adcdbec7375364d82</td>\n",
       "      <td>delivered</td>\n",
       "      <td>2017-11-18 19:28:06</td>\n",
       "      <td>2017-11-18</td>\n",
       "      <td>2017-11-22</td>\n",
       "      <td>2017-12-02</td>\n",
       "      <td>2017-12-15</td>\n",
       "      <td>1</td>\n",
       "      <td>d0b61bfb1de832b15ba9d266ca96e5b0</td>\n",
       "      <td>66922902710d126a0e7d26b0e3805106</td>\n",
       "      <td>2017-11-23</td>\n",
       "      <td>45.00</td>\n",
       "      <td>27.20</td>\n",
       "      <td>359d03e676b3c069f62cadba8dd3f6e8</td>\n",
       "      <td>5</td>\n",
       "      <td>2017-12-03</td>\n",
       "      <td>2017-12-05 19:21:58</td>\n",
       "    </tr>\n",
       "    <tr>\n",
       "      <th>4</th>\n",
       "      <td>ad21c59c0840e6cb83a9ceb5573f8159</td>\n",
       "      <td>8ab97904e6daea8866dbdbc4fb7aad2c</td>\n",
       "      <td>delivered</td>\n",
       "      <td>2018-02-13 21:18:39</td>\n",
       "      <td>2018-02-13</td>\n",
       "      <td>2018-02-14</td>\n",
       "      <td>2018-02-16</td>\n",
       "      <td>2018-02-26</td>\n",
       "      <td>1</td>\n",
       "      <td>65266b2da20d04dbe00c5c2d3bb7859e</td>\n",
       "      <td>2c9e548be18521d1c43cde1c582c6de8</td>\n",
       "      <td>2018-02-19</td>\n",
       "      <td>19.90</td>\n",
       "      <td>8.72</td>\n",
       "      <td>e50934924e227544ba8246aeb3770dd4</td>\n",
       "      <td>5</td>\n",
       "      <td>2018-02-17</td>\n",
       "      <td>2018-02-18 13:02:51</td>\n",
       "    </tr>\n",
       "    <tr>\n",
       "      <th>5</th>\n",
       "      <td>a4591c265e18cb1dcee52889e2d8acc3</td>\n",
       "      <td>503740e9ca751ccdda7ba28e9ab8f608</td>\n",
       "      <td>delivered</td>\n",
       "      <td>2017-07-09 21:57:05</td>\n",
       "      <td>2017-07-09</td>\n",
       "      <td>2017-07-11</td>\n",
       "      <td>2017-07-26</td>\n",
       "      <td>2017-08-01</td>\n",
       "      <td>1</td>\n",
       "      <td>060cb19345d90064d1015407193c233d</td>\n",
       "      <td>8581055ce74af1daba164fdbd55a40de</td>\n",
       "      <td>2017-07-13</td>\n",
       "      <td>147.90</td>\n",
       "      <td>27.36</td>\n",
       "      <td>89b738e70a1ce346db29a20fb2910161</td>\n",
       "      <td>4</td>\n",
       "      <td>2017-07-27</td>\n",
       "      <td>2017-07-27 22:48:30</td>\n",
       "    </tr>\n",
       "    <tr>\n",
       "      <th>6</th>\n",
       "      <td>6514b8ad8028c9f2cc2374ded245783f</td>\n",
       "      <td>9bdf08b4b3b52b5526ff42d37d47f222</td>\n",
       "      <td>delivered</td>\n",
       "      <td>2017-05-16 13:10:30</td>\n",
       "      <td>2017-05-16</td>\n",
       "      <td>2017-05-22</td>\n",
       "      <td>2017-05-26</td>\n",
       "      <td>2017-06-07</td>\n",
       "      <td>1</td>\n",
       "      <td>4520766ec412348b8d4caa5e8a18c464</td>\n",
       "      <td>16090f2ca825584b5a147ab24aa30c86</td>\n",
       "      <td>2017-05-22</td>\n",
       "      <td>59.99</td>\n",
       "      <td>15.17</td>\n",
       "      <td>07d67dd06ed5f88bef11ef6b464e79ae</td>\n",
       "      <td>5</td>\n",
       "      <td>2017-05-27</td>\n",
       "      <td>2017-05-28 02:59:57</td>\n",
       "    </tr>\n",
       "    <tr>\n",
       "      <th>7</th>\n",
       "      <td>76c6e866289321a7c93b82b54852dc33</td>\n",
       "      <td>f54a9f0e6b351c431402b8461ea51999</td>\n",
       "      <td>delivered</td>\n",
       "      <td>2017-01-23 18:29:09</td>\n",
       "      <td>2017-01-25</td>\n",
       "      <td>2017-01-26</td>\n",
       "      <td>2017-02-02</td>\n",
       "      <td>2017-03-06</td>\n",
       "      <td>1</td>\n",
       "      <td>ac1789e492dcd698c5c10b97a671243a</td>\n",
       "      <td>63b9ae557efed31d1f7687917d248a8d</td>\n",
       "      <td>2017-01-27</td>\n",
       "      <td>19.90</td>\n",
       "      <td>16.05</td>\n",
       "      <td>fc4af8aea8ec3f1a3cd181d3d0cadbd5</td>\n",
       "      <td>1</td>\n",
       "      <td>2017-02-03</td>\n",
       "      <td>2017-02-05 01:58:35</td>\n",
       "    </tr>\n",
       "    <tr>\n",
       "      <th>8</th>\n",
       "      <td>e69bfb5eb88e0ed6a785585b27e16dbf</td>\n",
       "      <td>31ad1d1b63eb9962463f764d4e6e0c9d</td>\n",
       "      <td>delivered</td>\n",
       "      <td>2017-07-29 11:55:02</td>\n",
       "      <td>2017-07-29</td>\n",
       "      <td>2017-08-10</td>\n",
       "      <td>2017-08-16</td>\n",
       "      <td>2017-08-23</td>\n",
       "      <td>1</td>\n",
       "      <td>9a78fb9862b10749a117f7fc3c31f051</td>\n",
       "      <td>7c67e1448b00f6e969d365cea6b010ab</td>\n",
       "      <td>2017-08-11</td>\n",
       "      <td>149.99</td>\n",
       "      <td>19.77</td>\n",
       "      <td>abc5655186d40772bd6e410420e6a3ed</td>\n",
       "      <td>5</td>\n",
       "      <td>2017-08-17</td>\n",
       "      <td>2017-08-18 01:47:32</td>\n",
       "    </tr>\n",
       "    <tr>\n",
       "      <th>9</th>\n",
       "      <td>e6ce16cb79ec1d90b1da9085a6118aeb</td>\n",
       "      <td>494dded5b201313c64ed7f100595b95c</td>\n",
       "      <td>delivered</td>\n",
       "      <td>2017-05-16 19:41:10</td>\n",
       "      <td>2017-05-16</td>\n",
       "      <td>2017-05-18</td>\n",
       "      <td>2017-05-29</td>\n",
       "      <td>2017-06-07</td>\n",
       "      <td>1</td>\n",
       "      <td>08574b074924071f4e201e151b152b4e</td>\n",
       "      <td>001cca7ae9ae17fb1caed9dfb1094831</td>\n",
       "      <td>2017-05-22</td>\n",
       "      <td>99.00</td>\n",
       "      <td>30.53</td>\n",
       "      <td>15898b543726a832d4137fbef5d1d00e</td>\n",
       "      <td>1</td>\n",
       "      <td>2017-05-30</td>\n",
       "      <td>2017-05-30 23:13:47</td>\n",
       "    </tr>\n",
       "  </tbody>\n",
       "</table>\n",
       "</div>"
      ],
      "text/plain": [
       "                           order_id                       customer_id  \\\n",
       "0  e481f51cbdc54678b7cc49136f2d6af7  9ef432eb6251297304e76186b10a928d   \n",
       "1  53cdb2fc8bc7dce0b6741e2150273451  b0830fb4747a6c6d20dea0b8c802d7ef   \n",
       "2  47770eb9100c2d0c44946d9cf07ec65d  41ce2a54c0b03bf3443c3d931a367089   \n",
       "3  949d5b44dbf5de918fe9c16f97b45f8a  f88197465ea7920adcdbec7375364d82   \n",
       "4  ad21c59c0840e6cb83a9ceb5573f8159  8ab97904e6daea8866dbdbc4fb7aad2c   \n",
       "5  a4591c265e18cb1dcee52889e2d8acc3  503740e9ca751ccdda7ba28e9ab8f608   \n",
       "6  6514b8ad8028c9f2cc2374ded245783f  9bdf08b4b3b52b5526ff42d37d47f222   \n",
       "7  76c6e866289321a7c93b82b54852dc33  f54a9f0e6b351c431402b8461ea51999   \n",
       "8  e69bfb5eb88e0ed6a785585b27e16dbf  31ad1d1b63eb9962463f764d4e6e0c9d   \n",
       "9  e6ce16cb79ec1d90b1da9085a6118aeb  494dded5b201313c64ed7f100595b95c   \n",
       "\n",
       "  order_status order_purchase_timestamp order_approved_at  \\\n",
       "0    delivered      2017-10-02 10:56:33        2017-10-02   \n",
       "1    delivered      2018-07-24 20:41:37        2018-07-26   \n",
       "2    delivered      2018-08-08 08:38:49        2018-08-08   \n",
       "3    delivered      2017-11-18 19:28:06        2017-11-18   \n",
       "4    delivered      2018-02-13 21:18:39        2018-02-13   \n",
       "5    delivered      2017-07-09 21:57:05        2017-07-09   \n",
       "6    delivered      2017-05-16 13:10:30        2017-05-16   \n",
       "7    delivered      2017-01-23 18:29:09        2017-01-25   \n",
       "8    delivered      2017-07-29 11:55:02        2017-07-29   \n",
       "9    delivered      2017-05-16 19:41:10        2017-05-16   \n",
       "\n",
       "  order_delivered_carrier_date order_delivered_customer_date  \\\n",
       "0                   2017-10-04                    2017-10-10   \n",
       "1                   2018-07-26                    2018-08-07   \n",
       "2                   2018-08-08                    2018-08-17   \n",
       "3                   2017-11-22                    2017-12-02   \n",
       "4                   2018-02-14                    2018-02-16   \n",
       "5                   2017-07-11                    2017-07-26   \n",
       "6                   2017-05-22                    2017-05-26   \n",
       "7                   2017-01-26                    2017-02-02   \n",
       "8                   2017-08-10                    2017-08-16   \n",
       "9                   2017-05-18                    2017-05-29   \n",
       "\n",
       "  order_estimated_delivery_date  order_item_id  \\\n",
       "0                    2017-10-18              1   \n",
       "1                    2018-08-13              1   \n",
       "2                    2018-09-04              1   \n",
       "3                    2017-12-15              1   \n",
       "4                    2018-02-26              1   \n",
       "5                    2017-08-01              1   \n",
       "6                    2017-06-07              1   \n",
       "7                    2017-03-06              1   \n",
       "8                    2017-08-23              1   \n",
       "9                    2017-06-07              1   \n",
       "\n",
       "                         product_id                         seller_id  \\\n",
       "0  87285b34884572647811a353c7ac498a  3504c0cb71d7fa48d967e0e4c94d59d9   \n",
       "1  595fac2a385ac33a80bd5114aec74eb8  289cdb325fb7e7f891c38608bf9e0962   \n",
       "2  aa4383b373c6aca5d8797843e5594415  4869f7a5dfa277a7dca6462dcf3b52b2   \n",
       "3  d0b61bfb1de832b15ba9d266ca96e5b0  66922902710d126a0e7d26b0e3805106   \n",
       "4  65266b2da20d04dbe00c5c2d3bb7859e  2c9e548be18521d1c43cde1c582c6de8   \n",
       "5  060cb19345d90064d1015407193c233d  8581055ce74af1daba164fdbd55a40de   \n",
       "6  4520766ec412348b8d4caa5e8a18c464  16090f2ca825584b5a147ab24aa30c86   \n",
       "7  ac1789e492dcd698c5c10b97a671243a  63b9ae557efed31d1f7687917d248a8d   \n",
       "8  9a78fb9862b10749a117f7fc3c31f051  7c67e1448b00f6e969d365cea6b010ab   \n",
       "9  08574b074924071f4e201e151b152b4e  001cca7ae9ae17fb1caed9dfb1094831   \n",
       "\n",
       "  shipping_limit_date   price  freight_value  \\\n",
       "0          2017-10-06   29.99           8.72   \n",
       "1          2018-07-30  118.70          22.76   \n",
       "2          2018-08-13  159.90          19.22   \n",
       "3          2017-11-23   45.00          27.20   \n",
       "4          2018-02-19   19.90           8.72   \n",
       "5          2017-07-13  147.90          27.36   \n",
       "6          2017-05-22   59.99          15.17   \n",
       "7          2017-01-27   19.90          16.05   \n",
       "8          2017-08-11  149.99          19.77   \n",
       "9          2017-05-22   99.00          30.53   \n",
       "\n",
       "                          review_id  review_score review_creation_date  \\\n",
       "0  a54f0611adc9ed256b57ede6b6eb5114             4           2017-10-11   \n",
       "1  8d5266042046a06655c8db133d120ba5             4           2018-08-08   \n",
       "2  e73b67b67587f7644d5bd1a52deb1b01             5           2018-08-18   \n",
       "3  359d03e676b3c069f62cadba8dd3f6e8             5           2017-12-03   \n",
       "4  e50934924e227544ba8246aeb3770dd4             5           2018-02-17   \n",
       "5  89b738e70a1ce346db29a20fb2910161             4           2017-07-27   \n",
       "6  07d67dd06ed5f88bef11ef6b464e79ae             5           2017-05-27   \n",
       "7  fc4af8aea8ec3f1a3cd181d3d0cadbd5             1           2017-02-03   \n",
       "8  abc5655186d40772bd6e410420e6a3ed             5           2017-08-17   \n",
       "9  15898b543726a832d4137fbef5d1d00e             1           2017-05-30   \n",
       "\n",
       "  review_answer_timestamp  \n",
       "0     2017-10-12 03:43:48  \n",
       "1     2018-08-08 18:37:50  \n",
       "2     2018-08-22 19:07:58  \n",
       "3     2017-12-05 19:21:58  \n",
       "4     2018-02-18 13:02:51  \n",
       "5     2017-07-27 22:48:30  \n",
       "6     2017-05-28 02:59:57  \n",
       "7     2017-02-05 01:58:35  \n",
       "8     2017-08-18 01:47:32  \n",
       "9     2017-05-30 23:13:47  "
      ]
     },
     "execution_count": 168,
     "metadata": {},
     "output_type": "execute_result"
    }
   ],
   "source": [
    "order = ord.merge(reviews, on='order_id', how='left')\n",
    "order.head(10)"
   ]
  },
  {
   "cell_type": "code",
   "execution_count": 169,
   "metadata": {},
   "outputs": [
    {
     "data": {
      "text/plain": [
       "(110831, 18)"
      ]
     },
     "execution_count": 169,
     "metadata": {},
     "output_type": "execute_result"
    }
   ],
   "source": [
    "order.shape"
   ]
  },
  {
   "cell_type": "code",
   "execution_count": 170,
   "metadata": {},
   "outputs": [],
   "source": [
    "order.drop(order.tail(15000).index,inplace=True)"
   ]
  },
  {
   "cell_type": "code",
   "execution_count": 171,
   "metadata": {},
   "outputs": [
    {
     "data": {
      "text/plain": [
       "(95831, 18)"
      ]
     },
     "execution_count": 171,
     "metadata": {},
     "output_type": "execute_result"
    }
   ],
   "source": [
    "order.shape"
   ]
  },
  {
   "cell_type": "markdown",
   "metadata": {},
   "source": [
    "Writing to Orders csv file --"
   ]
  },
  {
   "cell_type": "code",
   "execution_count": 172,
   "metadata": {},
   "outputs": [],
   "source": [
    "order.to_csv('Order.csv',index = False)"
   ]
  },
  {
   "cell_type": "markdown",
   "metadata": {},
   "source": [
    "### EDA - Products and Product_name "
   ]
  },
  {
   "cell_type": "code",
   "execution_count": 173,
   "metadata": {},
   "outputs": [
    {
     "data": {
      "text/html": [
       "<div>\n",
       "<style scoped>\n",
       "    .dataframe tbody tr th:only-of-type {\n",
       "        vertical-align: middle;\n",
       "    }\n",
       "\n",
       "    .dataframe tbody tr th {\n",
       "        vertical-align: top;\n",
       "    }\n",
       "\n",
       "    .dataframe thead th {\n",
       "        text-align: right;\n",
       "    }\n",
       "</style>\n",
       "<table border=\"1\" class=\"dataframe\">\n",
       "  <thead>\n",
       "    <tr style=\"text-align: right;\">\n",
       "      <th></th>\n",
       "      <th>product_category_name</th>\n",
       "      <th>product_category_name_english</th>\n",
       "    </tr>\n",
       "  </thead>\n",
       "  <tbody>\n",
       "    <tr>\n",
       "      <th>0</th>\n",
       "      <td>beleza_saude</td>\n",
       "      <td>health_beauty</td>\n",
       "    </tr>\n",
       "    <tr>\n",
       "      <th>1</th>\n",
       "      <td>informatica_acessorios</td>\n",
       "      <td>computers_accessories</td>\n",
       "    </tr>\n",
       "    <tr>\n",
       "      <th>2</th>\n",
       "      <td>automotivo</td>\n",
       "      <td>auto</td>\n",
       "    </tr>\n",
       "    <tr>\n",
       "      <th>3</th>\n",
       "      <td>cama_mesa_banho</td>\n",
       "      <td>bed_bath_table</td>\n",
       "    </tr>\n",
       "    <tr>\n",
       "      <th>4</th>\n",
       "      <td>moveis_decoracao</td>\n",
       "      <td>furniture_decor</td>\n",
       "    </tr>\n",
       "  </tbody>\n",
       "</table>\n",
       "</div>"
      ],
      "text/plain": [
       "    product_category_name product_category_name_english\n",
       "0            beleza_saude                 health_beauty\n",
       "1  informatica_acessorios         computers_accessories\n",
       "2              automotivo                          auto\n",
       "3         cama_mesa_banho                bed_bath_table\n",
       "4        moveis_decoracao               furniture_decor"
      ]
     },
     "execution_count": 173,
     "metadata": {},
     "output_type": "execute_result"
    }
   ],
   "source": [
    "prod_name.head()"
   ]
  },
  {
   "cell_type": "code",
   "execution_count": 174,
   "metadata": {},
   "outputs": [
    {
     "name": "stdout",
     "output_type": "stream",
     "text": [
      "<class 'pandas.core.frame.DataFrame'>\n",
      "RangeIndex: 71 entries, 0 to 70\n",
      "Data columns (total 2 columns):\n",
      "product_category_name            71 non-null object\n",
      "product_category_name_english    71 non-null object\n",
      "dtypes: object(2)\n",
      "memory usage: 1.2+ KB\n"
     ]
    }
   ],
   "source": [
    "prod_name.info()"
   ]
  },
  {
   "cell_type": "code",
   "execution_count": 175,
   "metadata": {},
   "outputs": [
    {
     "data": {
      "text/plain": [
       "product_category_name            False\n",
       "product_category_name_english    False\n",
       "dtype: bool"
      ]
     },
     "execution_count": 175,
     "metadata": {},
     "output_type": "execute_result"
    }
   ],
   "source": [
    "prod_name.isnull().any()"
   ]
  },
  {
   "cell_type": "code",
   "execution_count": 176,
   "metadata": {},
   "outputs": [
    {
     "data": {
      "text/plain": [
       "array(['health_beauty', 'computers_accessories', 'auto', 'bed_bath_table',\n",
       "       'furniture_decor', 'sports_leisure', 'perfumery', 'housewares',\n",
       "       'telephony', 'watches_gifts', 'food_drink', 'baby', 'stationery',\n",
       "       'tablets_printing_image', 'toys', 'fixed_telephony',\n",
       "       'garden_tools', 'fashion_bags_accessories', 'small_appliances',\n",
       "       'consoles_games', 'audio', 'fashion_shoes', 'cool_stuff',\n",
       "       'luggage_accessories', 'air_conditioning',\n",
       "       'construction_tools_construction',\n",
       "       'kitchen_dining_laundry_garden_furniture',\n",
       "       'costruction_tools_garden', 'fashion_male_clothing', 'pet_shop',\n",
       "       'office_furniture', 'market_place', 'electronics',\n",
       "       'home_appliances', 'party_supplies', 'home_confort',\n",
       "       'costruction_tools_tools', 'agro_industry_and_commerce',\n",
       "       'furniture_mattress_and_upholstery', 'books_technical',\n",
       "       'home_construction', 'musical_instruments',\n",
       "       'furniture_living_room', 'construction_tools_lights',\n",
       "       'industry_commerce_and_business', 'food', 'art',\n",
       "       'furniture_bedroom', 'books_general_interest',\n",
       "       'construction_tools_safety', 'fashion_underwear_beach',\n",
       "       'fashion_sport', 'signaling_and_security', 'computers',\n",
       "       'christmas_supplies', 'fashio_female_clothing',\n",
       "       'home_appliances_2', 'books_imported', 'drinks', 'cine_photo',\n",
       "       'la_cuisine', 'music', 'home_comfort_2',\n",
       "       'small_appliances_home_oven_and_coffee', 'cds_dvds_musicals',\n",
       "       'dvds_blu_ray', 'flowers', 'arts_and_craftmanship',\n",
       "       'diapers_and_hygiene', 'fashion_childrens_clothes',\n",
       "       'security_and_services'], dtype=object)"
      ]
     },
     "execution_count": 176,
     "metadata": {},
     "output_type": "execute_result"
    }
   ],
   "source": [
    "prod_name['product_category_name_english'].unique()"
   ]
  },
  {
   "cell_type": "markdown",
   "metadata": {},
   "source": [
    "Products - EDA"
   ]
  },
  {
   "cell_type": "code",
   "execution_count": 177,
   "metadata": {},
   "outputs": [
    {
     "data": {
      "text/html": [
       "<div>\n",
       "<style scoped>\n",
       "    .dataframe tbody tr th:only-of-type {\n",
       "        vertical-align: middle;\n",
       "    }\n",
       "\n",
       "    .dataframe tbody tr th {\n",
       "        vertical-align: top;\n",
       "    }\n",
       "\n",
       "    .dataframe thead th {\n",
       "        text-align: right;\n",
       "    }\n",
       "</style>\n",
       "<table border=\"1\" class=\"dataframe\">\n",
       "  <thead>\n",
       "    <tr style=\"text-align: right;\">\n",
       "      <th></th>\n",
       "      <th>product_id</th>\n",
       "      <th>product_category_name</th>\n",
       "      <th>product_name_lenght</th>\n",
       "      <th>product_description_lenght</th>\n",
       "      <th>product_photos_qty</th>\n",
       "      <th>product_weight_g</th>\n",
       "      <th>product_length_cm</th>\n",
       "      <th>product_height_cm</th>\n",
       "      <th>product_width_cm</th>\n",
       "    </tr>\n",
       "  </thead>\n",
       "  <tbody>\n",
       "    <tr>\n",
       "      <th>0</th>\n",
       "      <td>1e9e8ef04dbcff4541ed26657ea517e5</td>\n",
       "      <td>perfumaria</td>\n",
       "      <td>40.0</td>\n",
       "      <td>287.0</td>\n",
       "      <td>1.0</td>\n",
       "      <td>225.0</td>\n",
       "      <td>16.0</td>\n",
       "      <td>10.0</td>\n",
       "      <td>14.0</td>\n",
       "    </tr>\n",
       "    <tr>\n",
       "      <th>1</th>\n",
       "      <td>3aa071139cb16b67ca9e5dea641aaa2f</td>\n",
       "      <td>artes</td>\n",
       "      <td>44.0</td>\n",
       "      <td>276.0</td>\n",
       "      <td>1.0</td>\n",
       "      <td>1000.0</td>\n",
       "      <td>30.0</td>\n",
       "      <td>18.0</td>\n",
       "      <td>20.0</td>\n",
       "    </tr>\n",
       "    <tr>\n",
       "      <th>2</th>\n",
       "      <td>96bd76ec8810374ed1b65e291975717f</td>\n",
       "      <td>esporte_lazer</td>\n",
       "      <td>46.0</td>\n",
       "      <td>250.0</td>\n",
       "      <td>1.0</td>\n",
       "      <td>154.0</td>\n",
       "      <td>18.0</td>\n",
       "      <td>9.0</td>\n",
       "      <td>15.0</td>\n",
       "    </tr>\n",
       "    <tr>\n",
       "      <th>3</th>\n",
       "      <td>cef67bcfe19066a932b7673e239eb23d</td>\n",
       "      <td>bebes</td>\n",
       "      <td>27.0</td>\n",
       "      <td>261.0</td>\n",
       "      <td>1.0</td>\n",
       "      <td>371.0</td>\n",
       "      <td>26.0</td>\n",
       "      <td>4.0</td>\n",
       "      <td>26.0</td>\n",
       "    </tr>\n",
       "    <tr>\n",
       "      <th>4</th>\n",
       "      <td>9dc1a7de274444849c219cff195d0b71</td>\n",
       "      <td>utilidades_domesticas</td>\n",
       "      <td>37.0</td>\n",
       "      <td>402.0</td>\n",
       "      <td>4.0</td>\n",
       "      <td>625.0</td>\n",
       "      <td>20.0</td>\n",
       "      <td>17.0</td>\n",
       "      <td>13.0</td>\n",
       "    </tr>\n",
       "  </tbody>\n",
       "</table>\n",
       "</div>"
      ],
      "text/plain": [
       "                         product_id  product_category_name  \\\n",
       "0  1e9e8ef04dbcff4541ed26657ea517e5             perfumaria   \n",
       "1  3aa071139cb16b67ca9e5dea641aaa2f                  artes   \n",
       "2  96bd76ec8810374ed1b65e291975717f          esporte_lazer   \n",
       "3  cef67bcfe19066a932b7673e239eb23d                  bebes   \n",
       "4  9dc1a7de274444849c219cff195d0b71  utilidades_domesticas   \n",
       "\n",
       "   product_name_lenght  product_description_lenght  product_photos_qty  \\\n",
       "0                 40.0                       287.0                 1.0   \n",
       "1                 44.0                       276.0                 1.0   \n",
       "2                 46.0                       250.0                 1.0   \n",
       "3                 27.0                       261.0                 1.0   \n",
       "4                 37.0                       402.0                 4.0   \n",
       "\n",
       "   product_weight_g  product_length_cm  product_height_cm  product_width_cm  \n",
       "0             225.0               16.0               10.0              14.0  \n",
       "1            1000.0               30.0               18.0              20.0  \n",
       "2             154.0               18.0                9.0              15.0  \n",
       "3             371.0               26.0                4.0              26.0  \n",
       "4             625.0               20.0               17.0              13.0  "
      ]
     },
     "execution_count": 177,
     "metadata": {},
     "output_type": "execute_result"
    }
   ],
   "source": [
    "products.head()"
   ]
  },
  {
   "cell_type": "code",
   "execution_count": 178,
   "metadata": {},
   "outputs": [
    {
     "data": {
      "text/plain": [
       "(32951, 9)"
      ]
     },
     "execution_count": 178,
     "metadata": {},
     "output_type": "execute_result"
    }
   ],
   "source": [
    "products.shape"
   ]
  },
  {
   "cell_type": "code",
   "execution_count": 179,
   "metadata": {},
   "outputs": [],
   "source": [
    "#dropping product\n",
    "products.drop(columns = ['product_name_lenght','product_description_lenght','product_photos_qty','product_weight_g'\n",
    "                       ,'product_length_cm','product_height_cm','product_width_cm'],inplace=True)"
   ]
  },
  {
   "cell_type": "code",
   "execution_count": 180,
   "metadata": {},
   "outputs": [
    {
     "data": {
      "text/plain": [
       "product_id                 0\n",
       "product_category_name    610\n",
       "dtype: int64"
      ]
     },
     "execution_count": 180,
     "metadata": {},
     "output_type": "execute_result"
    }
   ],
   "source": [
    "products.isnull().sum()"
   ]
  },
  {
   "cell_type": "code",
   "execution_count": 181,
   "metadata": {},
   "outputs": [
    {
     "data": {
      "text/plain": [
       "(32951, 2)"
      ]
     },
     "execution_count": 181,
     "metadata": {},
     "output_type": "execute_result"
    }
   ],
   "source": [
    "products.shape"
   ]
  },
  {
   "cell_type": "markdown",
   "metadata": {},
   "source": [
    "Merging products and prod_name --"
   ]
  },
  {
   "cell_type": "code",
   "execution_count": 182,
   "metadata": {},
   "outputs": [
    {
     "data": {
      "text/html": [
       "<div>\n",
       "<style scoped>\n",
       "    .dataframe tbody tr th:only-of-type {\n",
       "        vertical-align: middle;\n",
       "    }\n",
       "\n",
       "    .dataframe tbody tr th {\n",
       "        vertical-align: top;\n",
       "    }\n",
       "\n",
       "    .dataframe thead th {\n",
       "        text-align: right;\n",
       "    }\n",
       "</style>\n",
       "<table border=\"1\" class=\"dataframe\">\n",
       "  <thead>\n",
       "    <tr style=\"text-align: right;\">\n",
       "      <th></th>\n",
       "      <th>product_category_name</th>\n",
       "      <th>product_category_name_english</th>\n",
       "      <th>product_id</th>\n",
       "    </tr>\n",
       "  </thead>\n",
       "  <tbody>\n",
       "    <tr>\n",
       "      <th>0</th>\n",
       "      <td>beleza_saude</td>\n",
       "      <td>health_beauty</td>\n",
       "      <td>e3e020af31d4d89d2602272b315c3f6e</td>\n",
       "    </tr>\n",
       "    <tr>\n",
       "      <th>1</th>\n",
       "      <td>beleza_saude</td>\n",
       "      <td>health_beauty</td>\n",
       "      <td>c5d8079278e912d7e3b6beb48ecb56e8</td>\n",
       "    </tr>\n",
       "    <tr>\n",
       "      <th>2</th>\n",
       "      <td>beleza_saude</td>\n",
       "      <td>health_beauty</td>\n",
       "      <td>36555a2f528d7b2a255c504191445d39</td>\n",
       "    </tr>\n",
       "    <tr>\n",
       "      <th>3</th>\n",
       "      <td>beleza_saude</td>\n",
       "      <td>health_beauty</td>\n",
       "      <td>e586ebb6022265ae1eea38f46ffe3ead</td>\n",
       "    </tr>\n",
       "    <tr>\n",
       "      <th>4</th>\n",
       "      <td>beleza_saude</td>\n",
       "      <td>health_beauty</td>\n",
       "      <td>75b4372e69a42f8ae1d908c076f547b2</td>\n",
       "    </tr>\n",
       "    <tr>\n",
       "      <th>5</th>\n",
       "      <td>beleza_saude</td>\n",
       "      <td>health_beauty</td>\n",
       "      <td>3569d4374a919941a50f57371b1dc93d</td>\n",
       "    </tr>\n",
       "    <tr>\n",
       "      <th>6</th>\n",
       "      <td>beleza_saude</td>\n",
       "      <td>health_beauty</td>\n",
       "      <td>3a6a0247ced9dcb444b46caafdcdd368</td>\n",
       "    </tr>\n",
       "    <tr>\n",
       "      <th>7</th>\n",
       "      <td>beleza_saude</td>\n",
       "      <td>health_beauty</td>\n",
       "      <td>adf591c625cb265c12bc6749d3a2f757</td>\n",
       "    </tr>\n",
       "    <tr>\n",
       "      <th>8</th>\n",
       "      <td>beleza_saude</td>\n",
       "      <td>health_beauty</td>\n",
       "      <td>50556c630443502c11acde1c320fe278</td>\n",
       "    </tr>\n",
       "    <tr>\n",
       "      <th>9</th>\n",
       "      <td>beleza_saude</td>\n",
       "      <td>health_beauty</td>\n",
       "      <td>88d2c501ec765f5d7e8038fa6aab0e62</td>\n",
       "    </tr>\n",
       "  </tbody>\n",
       "</table>\n",
       "</div>"
      ],
      "text/plain": [
       "  product_category_name product_category_name_english  \\\n",
       "0          beleza_saude                 health_beauty   \n",
       "1          beleza_saude                 health_beauty   \n",
       "2          beleza_saude                 health_beauty   \n",
       "3          beleza_saude                 health_beauty   \n",
       "4          beleza_saude                 health_beauty   \n",
       "5          beleza_saude                 health_beauty   \n",
       "6          beleza_saude                 health_beauty   \n",
       "7          beleza_saude                 health_beauty   \n",
       "8          beleza_saude                 health_beauty   \n",
       "9          beleza_saude                 health_beauty   \n",
       "\n",
       "                         product_id  \n",
       "0  e3e020af31d4d89d2602272b315c3f6e  \n",
       "1  c5d8079278e912d7e3b6beb48ecb56e8  \n",
       "2  36555a2f528d7b2a255c504191445d39  \n",
       "3  e586ebb6022265ae1eea38f46ffe3ead  \n",
       "4  75b4372e69a42f8ae1d908c076f547b2  \n",
       "5  3569d4374a919941a50f57371b1dc93d  \n",
       "6  3a6a0247ced9dcb444b46caafdcdd368  \n",
       "7  adf591c625cb265c12bc6749d3a2f757  \n",
       "8  50556c630443502c11acde1c320fe278  \n",
       "9  88d2c501ec765f5d7e8038fa6aab0e62  "
      ]
     },
     "execution_count": 182,
     "metadata": {},
     "output_type": "execute_result"
    }
   ],
   "source": [
    "product = prod_name.merge(products, on='product_category_name', how='inner')\n",
    "product.head(10)"
   ]
  },
  {
   "cell_type": "code",
   "execution_count": 183,
   "metadata": {},
   "outputs": [
    {
     "data": {
      "text/plain": [
       "(32328, 3)"
      ]
     },
     "execution_count": 183,
     "metadata": {},
     "output_type": "execute_result"
    }
   ],
   "source": [
    "product.shape"
   ]
  },
  {
   "cell_type": "code",
   "execution_count": 184,
   "metadata": {},
   "outputs": [
    {
     "data": {
      "text/plain": [
       "array(['health_beauty', 'computers_accessories', 'auto', 'bed_bath_table',\n",
       "       'furniture_decor', 'sports_leisure', 'perfumery', 'housewares',\n",
       "       'telephony', 'watches_gifts', 'food_drink', 'baby', 'stationery',\n",
       "       'tablets_printing_image', 'toys', 'fixed_telephony',\n",
       "       'garden_tools', 'fashion_bags_accessories', 'small_appliances',\n",
       "       'consoles_games', 'audio', 'fashion_shoes', 'cool_stuff',\n",
       "       'luggage_accessories', 'air_conditioning',\n",
       "       'construction_tools_construction',\n",
       "       'kitchen_dining_laundry_garden_furniture',\n",
       "       'costruction_tools_garden', 'fashion_male_clothing', 'pet_shop',\n",
       "       'office_furniture', 'market_place', 'electronics',\n",
       "       'home_appliances', 'party_supplies', 'home_confort',\n",
       "       'costruction_tools_tools', 'agro_industry_and_commerce',\n",
       "       'furniture_mattress_and_upholstery', 'books_technical',\n",
       "       'home_construction', 'musical_instruments',\n",
       "       'furniture_living_room', 'construction_tools_lights',\n",
       "       'industry_commerce_and_business', 'food', 'art',\n",
       "       'furniture_bedroom', 'books_general_interest',\n",
       "       'construction_tools_safety', 'fashion_underwear_beach',\n",
       "       'fashion_sport', 'signaling_and_security', 'computers',\n",
       "       'christmas_supplies', 'fashio_female_clothing',\n",
       "       'home_appliances_2', 'books_imported', 'drinks', 'cine_photo',\n",
       "       'la_cuisine', 'music', 'home_comfort_2',\n",
       "       'small_appliances_home_oven_and_coffee', 'cds_dvds_musicals',\n",
       "       'dvds_blu_ray', 'flowers', 'arts_and_craftmanship',\n",
       "       'diapers_and_hygiene', 'fashion_childrens_clothes',\n",
       "       'security_and_services'], dtype=object)"
      ]
     },
     "execution_count": 184,
     "metadata": {},
     "output_type": "execute_result"
    }
   ],
   "source": [
    "product['product_category_name_english'].unique()"
   ]
  },
  {
   "cell_type": "markdown",
   "metadata": {},
   "source": [
    "Writing to Product csv file--"
   ]
  },
  {
   "cell_type": "code",
   "execution_count": 185,
   "metadata": {},
   "outputs": [],
   "source": [
    "product.to_csv('Product.csv',index = False)"
   ]
  },
  {
   "cell_type": "markdown",
   "metadata": {},
   "source": [
    "### Merging all the datasets -- Closed Deals, Seller, Orders and Product dataset ."
   ]
  },
  {
   "cell_type": "code",
   "execution_count": 186,
   "metadata": {},
   "outputs": [
    {
     "data": {
      "text/html": [
       "<div>\n",
       "<style scoped>\n",
       "    .dataframe tbody tr th:only-of-type {\n",
       "        vertical-align: middle;\n",
       "    }\n",
       "\n",
       "    .dataframe tbody tr th {\n",
       "        vertical-align: top;\n",
       "    }\n",
       "\n",
       "    .dataframe thead th {\n",
       "        text-align: right;\n",
       "    }\n",
       "</style>\n",
       "<table border=\"1\" class=\"dataframe\">\n",
       "  <thead>\n",
       "    <tr style=\"text-align: right;\">\n",
       "      <th></th>\n",
       "      <th>mql_id</th>\n",
       "      <th>first_contact_date</th>\n",
       "      <th>landing_page_id</th>\n",
       "      <th>origin</th>\n",
       "      <th>seller_id</th>\n",
       "      <th>sdr_id</th>\n",
       "      <th>sr_id</th>\n",
       "      <th>won_date</th>\n",
       "      <th>business_segment</th>\n",
       "      <th>lead_type</th>\n",
       "      <th>lead_behaviour_profile</th>\n",
       "      <th>average_stock</th>\n",
       "      <th>business_type</th>\n",
       "      <th>declared_product_catalog_size</th>\n",
       "      <th>declared_monthly_revenue</th>\n",
       "      <th>seller_zip_code_prefix</th>\n",
       "      <th>seller_city</th>\n",
       "      <th>seller_state</th>\n",
       "    </tr>\n",
       "  </thead>\n",
       "  <tbody>\n",
       "    <tr>\n",
       "      <th>0</th>\n",
       "      <td>5420aad7fec3549a85876ba1c529bd84</td>\n",
       "      <td>2018-02-21</td>\n",
       "      <td>b48ec5f3b04e9068441002a19df93c6c</td>\n",
       "      <td>organic_search</td>\n",
       "      <td>2c43fb513632d29b3b58df74816f1b06</td>\n",
       "      <td>a8387c01a09e99ce014107505b92388c</td>\n",
       "      <td>4ef15afb4b2723d8f3d81e51ec7afefe</td>\n",
       "      <td>2018-02-26</td>\n",
       "      <td>pet</td>\n",
       "      <td>online_medium</td>\n",
       "      <td>cat</td>\n",
       "      <td>0</td>\n",
       "      <td>reseller</td>\n",
       "      <td>0.0</td>\n",
       "      <td>0</td>\n",
       "      <td>30421.0</td>\n",
       "      <td>belo horizonte</td>\n",
       "      <td>MG</td>\n",
       "    </tr>\n",
       "    <tr>\n",
       "      <th>1</th>\n",
       "      <td>a555fb36b9368110ede0f043dfc3b9a0</td>\n",
       "      <td>2018-04-04</td>\n",
       "      <td>2f08471dfb83baef522f952438a36f6e</td>\n",
       "      <td>referral</td>\n",
       "      <td>bbb7d7893a450660432ea6652310ebb7</td>\n",
       "      <td>09285259593c61296eef10c734121d5b</td>\n",
       "      <td>d3d1e91a157ea7f90548eef82f1955e3</td>\n",
       "      <td>2018-05-08</td>\n",
       "      <td>car_accessories</td>\n",
       "      <td>industry</td>\n",
       "      <td>eagle</td>\n",
       "      <td>0</td>\n",
       "      <td>reseller</td>\n",
       "      <td>0.0</td>\n",
       "      <td>0</td>\n",
       "      <td>NaN</td>\n",
       "      <td>NaN</td>\n",
       "      <td>NaN</td>\n",
       "    </tr>\n",
       "    <tr>\n",
       "      <th>2</th>\n",
       "      <td>327174d3648a2d047e8940d7d15204ca</td>\n",
       "      <td>2018-04-03</td>\n",
       "      <td>1ceb590cd1e00c7ee95220971f82693d</td>\n",
       "      <td>organic_search</td>\n",
       "      <td>612170e34b97004b3ba37eae81836b4c</td>\n",
       "      <td>b90f87164b5f8c2cfa5c8572834dbe3f</td>\n",
       "      <td>6565aa9ce3178a5caf6171827af3a9ba</td>\n",
       "      <td>2018-06-05</td>\n",
       "      <td>home_appliances</td>\n",
       "      <td>online_big</td>\n",
       "      <td>cat</td>\n",
       "      <td>0</td>\n",
       "      <td>reseller</td>\n",
       "      <td>0.0</td>\n",
       "      <td>0</td>\n",
       "      <td>93542.0</td>\n",
       "      <td>novo hamburgo</td>\n",
       "      <td>RS</td>\n",
       "    </tr>\n",
       "    <tr>\n",
       "      <th>3</th>\n",
       "      <td>f5fee8f7da74f4887f5bcae2bafb6dd6</td>\n",
       "      <td>2018-01-14</td>\n",
       "      <td>22c29808c4f815213303f8933030604c</td>\n",
       "      <td>paid_search</td>\n",
       "      <td>21e1781e36faf92725dde4730a88ca0f</td>\n",
       "      <td>56bf83c4bb35763a51c2baab501b4c67</td>\n",
       "      <td>d3d1e91a157ea7f90548eef82f1955e3</td>\n",
       "      <td>2018-01-17</td>\n",
       "      <td>food_drink</td>\n",
       "      <td>online_small</td>\n",
       "      <td>others</td>\n",
       "      <td>0</td>\n",
       "      <td>reseller</td>\n",
       "      <td>0.0</td>\n",
       "      <td>0</td>\n",
       "      <td>NaN</td>\n",
       "      <td>NaN</td>\n",
       "      <td>NaN</td>\n",
       "    </tr>\n",
       "    <tr>\n",
       "      <th>4</th>\n",
       "      <td>ffe640179b554e295c167a2f6be528e0</td>\n",
       "      <td>2017-10-09</td>\n",
       "      <td>a0fbc0263cb98bdb0d72b9f9f283a172</td>\n",
       "      <td>unknown</td>\n",
       "      <td>ed8cb7b190ceb6067227478e48cf8dde</td>\n",
       "      <td>4b339f9567d060bcea4f5136b9f5949e</td>\n",
       "      <td>d3d1e91a157ea7f90548eef82f1955e3</td>\n",
       "      <td>2018-07-03</td>\n",
       "      <td>home_appliances</td>\n",
       "      <td>industry</td>\n",
       "      <td>wolf</td>\n",
       "      <td>0</td>\n",
       "      <td>manufacturer</td>\n",
       "      <td>0.0</td>\n",
       "      <td>0</td>\n",
       "      <td>11015.0</td>\n",
       "      <td>santos</td>\n",
       "      <td>SP</td>\n",
       "    </tr>\n",
       "    <tr>\n",
       "      <th>5</th>\n",
       "      <td>b94fba7670eeb44dce2a0d8eb790e9f5</td>\n",
       "      <td>2018-02-06</td>\n",
       "      <td>40dec9f3d5259a3d2dbcdab2114fae47</td>\n",
       "      <td>organic_search</td>\n",
       "      <td>1c742ac33582852aaf3bcfbf5893abcf</td>\n",
       "      <td>fdb16d3cbbeb5798f2f66c4096be026d</td>\n",
       "      <td>495d4e95a8cf8bbf8b432b612a2aa328</td>\n",
       "      <td>2018-02-07</td>\n",
       "      <td>health_beauty</td>\n",
       "      <td>online_medium</td>\n",
       "      <td>others</td>\n",
       "      <td>0</td>\n",
       "      <td>manufacturer</td>\n",
       "      <td>0.0</td>\n",
       "      <td>0</td>\n",
       "      <td>30668.0</td>\n",
       "      <td>belo horizonte</td>\n",
       "      <td>MG</td>\n",
       "    </tr>\n",
       "    <tr>\n",
       "      <th>6</th>\n",
       "      <td>c3e30ed7ac989117c7e1e719b4ac128f</td>\n",
       "      <td>2018-02-20</td>\n",
       "      <td>e492ee5eaf1697716985cc6f33f9cd9b</td>\n",
       "      <td>direct_traffic</td>\n",
       "      <td>92d7568ad0c5c76fd7d341b2d46f24d6</td>\n",
       "      <td>4b339f9567d060bcea4f5136b9f5949e</td>\n",
       "      <td>85fc447d336637ba1df43e793199fbc8</td>\n",
       "      <td>2018-04-16</td>\n",
       "      <td>computers</td>\n",
       "      <td>online_medium</td>\n",
       "      <td>wolf</td>\n",
       "      <td>0</td>\n",
       "      <td>reseller</td>\n",
       "      <td>0.0</td>\n",
       "      <td>0</td>\n",
       "      <td>NaN</td>\n",
       "      <td>NaN</td>\n",
       "      <td>NaN</td>\n",
       "    </tr>\n",
       "    <tr>\n",
       "      <th>7</th>\n",
       "      <td>b02c89251106e1fdd9d92744be9f94f2</td>\n",
       "      <td>2018-04-13</td>\n",
       "      <td>b76ef37428e6799c421989521c0e5077</td>\n",
       "      <td>unknown</td>\n",
       "      <td>44ed138eca6214d572ce1d813fb0049b</td>\n",
       "      <td>34d40cdaf94010a1d05b0d6212f9e909</td>\n",
       "      <td>4ef15afb4b2723d8f3d81e51ec7afefe</td>\n",
       "      <td>2018-04-17</td>\n",
       "      <td>health_beauty</td>\n",
       "      <td>offline</td>\n",
       "      <td>cat</td>\n",
       "      <td>0</td>\n",
       "      <td>manufacturer</td>\n",
       "      <td>0.0</td>\n",
       "      <td>0</td>\n",
       "      <td>92010.0</td>\n",
       "      <td>canoas</td>\n",
       "      <td>RS</td>\n",
       "    </tr>\n",
       "    <tr>\n",
       "      <th>8</th>\n",
       "      <td>a90a37898cc5f2718385a2fb981caaff</td>\n",
       "      <td>2018-04-27</td>\n",
       "      <td>58326e62183c14b0c03085c33b9fdc44</td>\n",
       "      <td>social</td>\n",
       "      <td>0b28859cd04d23edefee9c591fb03cd8</td>\n",
       "      <td>f42a2bd194f7802ab052a815c8de65b7</td>\n",
       "      <td>6565aa9ce3178a5caf6171827af3a9ba</td>\n",
       "      <td>2018-05-14</td>\n",
       "      <td>household_utilities</td>\n",
       "      <td>offline</td>\n",
       "      <td>eagle</td>\n",
       "      <td>0</td>\n",
       "      <td>reseller</td>\n",
       "      <td>0.0</td>\n",
       "      <td>0</td>\n",
       "      <td>NaN</td>\n",
       "      <td>NaN</td>\n",
       "      <td>NaN</td>\n",
       "    </tr>\n",
       "    <tr>\n",
       "      <th>9</th>\n",
       "      <td>0173e8d8b1d94a355b440fb67388f532</td>\n",
       "      <td>2017-10-18</td>\n",
       "      <td>007f9098284a86ee80ddeb25d53e0af8</td>\n",
       "      <td>paid_search</td>\n",
       "      <td>87d73636a3acf123e842bb890a4db036</td>\n",
       "      <td>9d12ef1a7eca3ec58c545c678af7869c</td>\n",
       "      <td>9e4d1098a3b0f5da39b0bc48f9876645</td>\n",
       "      <td>2018-04-24</td>\n",
       "      <td>household_utilities</td>\n",
       "      <td>online_medium</td>\n",
       "      <td>eagle</td>\n",
       "      <td>0</td>\n",
       "      <td>manufacturer</td>\n",
       "      <td>0.0</td>\n",
       "      <td>0</td>\n",
       "      <td>15190.0</td>\n",
       "      <td>nhandeara</td>\n",
       "      <td>SP</td>\n",
       "    </tr>\n",
       "  </tbody>\n",
       "</table>\n",
       "</div>"
      ],
      "text/plain": [
       "                             mql_id first_contact_date  \\\n",
       "0  5420aad7fec3549a85876ba1c529bd84         2018-02-21   \n",
       "1  a555fb36b9368110ede0f043dfc3b9a0         2018-04-04   \n",
       "2  327174d3648a2d047e8940d7d15204ca         2018-04-03   \n",
       "3  f5fee8f7da74f4887f5bcae2bafb6dd6         2018-01-14   \n",
       "4  ffe640179b554e295c167a2f6be528e0         2017-10-09   \n",
       "5  b94fba7670eeb44dce2a0d8eb790e9f5         2018-02-06   \n",
       "6  c3e30ed7ac989117c7e1e719b4ac128f         2018-02-20   \n",
       "7  b02c89251106e1fdd9d92744be9f94f2         2018-04-13   \n",
       "8  a90a37898cc5f2718385a2fb981caaff         2018-04-27   \n",
       "9  0173e8d8b1d94a355b440fb67388f532         2017-10-18   \n",
       "\n",
       "                    landing_page_id          origin  \\\n",
       "0  b48ec5f3b04e9068441002a19df93c6c  organic_search   \n",
       "1  2f08471dfb83baef522f952438a36f6e        referral   \n",
       "2  1ceb590cd1e00c7ee95220971f82693d  organic_search   \n",
       "3  22c29808c4f815213303f8933030604c     paid_search   \n",
       "4  a0fbc0263cb98bdb0d72b9f9f283a172         unknown   \n",
       "5  40dec9f3d5259a3d2dbcdab2114fae47  organic_search   \n",
       "6  e492ee5eaf1697716985cc6f33f9cd9b  direct_traffic   \n",
       "7  b76ef37428e6799c421989521c0e5077         unknown   \n",
       "8  58326e62183c14b0c03085c33b9fdc44          social   \n",
       "9  007f9098284a86ee80ddeb25d53e0af8     paid_search   \n",
       "\n",
       "                          seller_id                            sdr_id  \\\n",
       "0  2c43fb513632d29b3b58df74816f1b06  a8387c01a09e99ce014107505b92388c   \n",
       "1  bbb7d7893a450660432ea6652310ebb7  09285259593c61296eef10c734121d5b   \n",
       "2  612170e34b97004b3ba37eae81836b4c  b90f87164b5f8c2cfa5c8572834dbe3f   \n",
       "3  21e1781e36faf92725dde4730a88ca0f  56bf83c4bb35763a51c2baab501b4c67   \n",
       "4  ed8cb7b190ceb6067227478e48cf8dde  4b339f9567d060bcea4f5136b9f5949e   \n",
       "5  1c742ac33582852aaf3bcfbf5893abcf  fdb16d3cbbeb5798f2f66c4096be026d   \n",
       "6  92d7568ad0c5c76fd7d341b2d46f24d6  4b339f9567d060bcea4f5136b9f5949e   \n",
       "7  44ed138eca6214d572ce1d813fb0049b  34d40cdaf94010a1d05b0d6212f9e909   \n",
       "8  0b28859cd04d23edefee9c591fb03cd8  f42a2bd194f7802ab052a815c8de65b7   \n",
       "9  87d73636a3acf123e842bb890a4db036  9d12ef1a7eca3ec58c545c678af7869c   \n",
       "\n",
       "                              sr_id    won_date     business_segment  \\\n",
       "0  4ef15afb4b2723d8f3d81e51ec7afefe  2018-02-26                  pet   \n",
       "1  d3d1e91a157ea7f90548eef82f1955e3  2018-05-08      car_accessories   \n",
       "2  6565aa9ce3178a5caf6171827af3a9ba  2018-06-05      home_appliances   \n",
       "3  d3d1e91a157ea7f90548eef82f1955e3  2018-01-17           food_drink   \n",
       "4  d3d1e91a157ea7f90548eef82f1955e3  2018-07-03      home_appliances   \n",
       "5  495d4e95a8cf8bbf8b432b612a2aa328  2018-02-07        health_beauty   \n",
       "6  85fc447d336637ba1df43e793199fbc8  2018-04-16            computers   \n",
       "7  4ef15afb4b2723d8f3d81e51ec7afefe  2018-04-17        health_beauty   \n",
       "8  6565aa9ce3178a5caf6171827af3a9ba  2018-05-14  household_utilities   \n",
       "9  9e4d1098a3b0f5da39b0bc48f9876645  2018-04-24  household_utilities   \n",
       "\n",
       "       lead_type lead_behaviour_profile average_stock business_type  \\\n",
       "0  online_medium                    cat             0      reseller   \n",
       "1       industry                  eagle             0      reseller   \n",
       "2     online_big                    cat             0      reseller   \n",
       "3   online_small                 others             0      reseller   \n",
       "4       industry                   wolf             0  manufacturer   \n",
       "5  online_medium                 others             0  manufacturer   \n",
       "6  online_medium                   wolf             0      reseller   \n",
       "7        offline                    cat             0  manufacturer   \n",
       "8        offline                  eagle             0      reseller   \n",
       "9  online_medium                  eagle             0  manufacturer   \n",
       "\n",
       "   declared_product_catalog_size  declared_monthly_revenue  \\\n",
       "0                            0.0                         0   \n",
       "1                            0.0                         0   \n",
       "2                            0.0                         0   \n",
       "3                            0.0                         0   \n",
       "4                            0.0                         0   \n",
       "5                            0.0                         0   \n",
       "6                            0.0                         0   \n",
       "7                            0.0                         0   \n",
       "8                            0.0                         0   \n",
       "9                            0.0                         0   \n",
       "\n",
       "   seller_zip_code_prefix     seller_city seller_state  \n",
       "0                 30421.0  belo horizonte           MG  \n",
       "1                     NaN             NaN          NaN  \n",
       "2                 93542.0   novo hamburgo           RS  \n",
       "3                     NaN             NaN          NaN  \n",
       "4                 11015.0          santos           SP  \n",
       "5                 30668.0  belo horizonte           MG  \n",
       "6                     NaN             NaN          NaN  \n",
       "7                 92010.0          canoas           RS  \n",
       "8                     NaN             NaN          NaN  \n",
       "9                 15190.0       nhandeara           SP  "
      ]
     },
     "execution_count": 186,
     "metadata": {},
     "output_type": "execute_result"
    }
   ],
   "source": [
    "seller_deal = closed_deals.merge(sellers, on='seller_id', how='left')\n",
    "seller_deal.head(10)"
   ]
  },
  {
   "cell_type": "code",
   "execution_count": 187,
   "metadata": {},
   "outputs": [
    {
     "data": {
      "text/plain": [
       "(811, 18)"
      ]
     },
     "execution_count": 187,
     "metadata": {},
     "output_type": "execute_result"
    }
   ],
   "source": [
    "seller_deal.shape"
   ]
  },
  {
   "cell_type": "code",
   "execution_count": 188,
   "metadata": {},
   "outputs": [
    {
     "data": {
      "text/html": [
       "<div>\n",
       "<style scoped>\n",
       "    .dataframe tbody tr th:only-of-type {\n",
       "        vertical-align: middle;\n",
       "    }\n",
       "\n",
       "    .dataframe tbody tr th {\n",
       "        vertical-align: top;\n",
       "    }\n",
       "\n",
       "    .dataframe thead th {\n",
       "        text-align: right;\n",
       "    }\n",
       "</style>\n",
       "<table border=\"1\" class=\"dataframe\">\n",
       "  <thead>\n",
       "    <tr style=\"text-align: right;\">\n",
       "      <th></th>\n",
       "      <th>mql_id</th>\n",
       "      <th>first_contact_date</th>\n",
       "      <th>landing_page_id</th>\n",
       "      <th>origin</th>\n",
       "      <th>seller_id</th>\n",
       "      <th>sdr_id</th>\n",
       "      <th>sr_id</th>\n",
       "      <th>won_date</th>\n",
       "      <th>business_segment</th>\n",
       "      <th>lead_type</th>\n",
       "      <th>...</th>\n",
       "      <th>order_estimated_delivery_date</th>\n",
       "      <th>order_item_id</th>\n",
       "      <th>product_id</th>\n",
       "      <th>shipping_limit_date</th>\n",
       "      <th>price</th>\n",
       "      <th>freight_value</th>\n",
       "      <th>review_id</th>\n",
       "      <th>review_score</th>\n",
       "      <th>review_creation_date</th>\n",
       "      <th>review_answer_timestamp</th>\n",
       "    </tr>\n",
       "  </thead>\n",
       "  <tbody>\n",
       "    <tr>\n",
       "      <th>0</th>\n",
       "      <td>5420aad7fec3549a85876ba1c529bd84</td>\n",
       "      <td>2018-02-21</td>\n",
       "      <td>b48ec5f3b04e9068441002a19df93c6c</td>\n",
       "      <td>organic_search</td>\n",
       "      <td>2c43fb513632d29b3b58df74816f1b06</td>\n",
       "      <td>a8387c01a09e99ce014107505b92388c</td>\n",
       "      <td>4ef15afb4b2723d8f3d81e51ec7afefe</td>\n",
       "      <td>2018-02-26</td>\n",
       "      <td>pet</td>\n",
       "      <td>online_medium</td>\n",
       "      <td>...</td>\n",
       "      <td>2018-07-13</td>\n",
       "      <td>1</td>\n",
       "      <td>9bb2d066e4b33b624cbdfec7d50b3dcb</td>\n",
       "      <td>2018-06-27</td>\n",
       "      <td>99.8</td>\n",
       "      <td>15.00</td>\n",
       "      <td>b8e55f84a8b1dbfd424e7d03e743f0f5</td>\n",
       "      <td>5</td>\n",
       "      <td>2018-06-26</td>\n",
       "      <td>2018-06-28 19:55:07</td>\n",
       "    </tr>\n",
       "    <tr>\n",
       "      <th>1</th>\n",
       "      <td>5420aad7fec3549a85876ba1c529bd84</td>\n",
       "      <td>2018-02-21</td>\n",
       "      <td>b48ec5f3b04e9068441002a19df93c6c</td>\n",
       "      <td>organic_search</td>\n",
       "      <td>2c43fb513632d29b3b58df74816f1b06</td>\n",
       "      <td>a8387c01a09e99ce014107505b92388c</td>\n",
       "      <td>4ef15afb4b2723d8f3d81e51ec7afefe</td>\n",
       "      <td>2018-02-26</td>\n",
       "      <td>pet</td>\n",
       "      <td>online_medium</td>\n",
       "      <td>...</td>\n",
       "      <td>2018-08-07</td>\n",
       "      <td>1</td>\n",
       "      <td>9e0873e9ac04b12f282b81af5daebd2e</td>\n",
       "      <td>2018-07-30</td>\n",
       "      <td>664.0</td>\n",
       "      <td>38.41</td>\n",
       "      <td>5937d81cf570dcd7fd4fe8f5c9c293bc</td>\n",
       "      <td>1</td>\n",
       "      <td>2018-07-28</td>\n",
       "      <td>2018-07-28 23:33:39</td>\n",
       "    </tr>\n",
       "    <tr>\n",
       "      <th>2</th>\n",
       "      <td>5420aad7fec3549a85876ba1c529bd84</td>\n",
       "      <td>2018-02-21</td>\n",
       "      <td>b48ec5f3b04e9068441002a19df93c6c</td>\n",
       "      <td>organic_search</td>\n",
       "      <td>2c43fb513632d29b3b58df74816f1b06</td>\n",
       "      <td>a8387c01a09e99ce014107505b92388c</td>\n",
       "      <td>4ef15afb4b2723d8f3d81e51ec7afefe</td>\n",
       "      <td>2018-02-26</td>\n",
       "      <td>pet</td>\n",
       "      <td>online_medium</td>\n",
       "      <td>...</td>\n",
       "      <td>2018-07-17</td>\n",
       "      <td>1</td>\n",
       "      <td>e94df75b2e9a8b056be0c144a731f55c</td>\n",
       "      <td>2018-06-26</td>\n",
       "      <td>94.2</td>\n",
       "      <td>18.76</td>\n",
       "      <td>5763c4c80bb958960d2d9091dd3dd86e</td>\n",
       "      <td>5</td>\n",
       "      <td>2018-06-27</td>\n",
       "      <td>2018-06-30 17:14:07</td>\n",
       "    </tr>\n",
       "    <tr>\n",
       "      <th>3</th>\n",
       "      <td>327174d3648a2d047e8940d7d15204ca</td>\n",
       "      <td>2018-04-03</td>\n",
       "      <td>1ceb590cd1e00c7ee95220971f82693d</td>\n",
       "      <td>organic_search</td>\n",
       "      <td>612170e34b97004b3ba37eae81836b4c</td>\n",
       "      <td>b90f87164b5f8c2cfa5c8572834dbe3f</td>\n",
       "      <td>6565aa9ce3178a5caf6171827af3a9ba</td>\n",
       "      <td>2018-06-05</td>\n",
       "      <td>home_appliances</td>\n",
       "      <td>online_big</td>\n",
       "      <td>...</td>\n",
       "      <td>2018-08-22</td>\n",
       "      <td>1</td>\n",
       "      <td>f4d2144023a238288d36db2840a37ea0</td>\n",
       "      <td>2018-08-15</td>\n",
       "      <td>170.0</td>\n",
       "      <td>10.32</td>\n",
       "      <td>ad16c9c3b9b6c0f39b741311da0e57ec</td>\n",
       "      <td>5</td>\n",
       "      <td>2018-08-15</td>\n",
       "      <td>2018-08-15 22:20:09</td>\n",
       "    </tr>\n",
       "    <tr>\n",
       "      <th>4</th>\n",
       "      <td>327174d3648a2d047e8940d7d15204ca</td>\n",
       "      <td>2018-04-03</td>\n",
       "      <td>1ceb590cd1e00c7ee95220971f82693d</td>\n",
       "      <td>organic_search</td>\n",
       "      <td>612170e34b97004b3ba37eae81836b4c</td>\n",
       "      <td>b90f87164b5f8c2cfa5c8572834dbe3f</td>\n",
       "      <td>6565aa9ce3178a5caf6171827af3a9ba</td>\n",
       "      <td>2018-06-05</td>\n",
       "      <td>home_appliances</td>\n",
       "      <td>online_big</td>\n",
       "      <td>...</td>\n",
       "      <td>2018-07-23</td>\n",
       "      <td>1</td>\n",
       "      <td>22a8168cf1f1c6347da8d29863b7f75e</td>\n",
       "      <td>2018-07-11</td>\n",
       "      <td>296.5</td>\n",
       "      <td>9.66</td>\n",
       "      <td>c14dacc8a1cd7bbbe585c409d59c058a</td>\n",
       "      <td>4</td>\n",
       "      <td>2018-07-12</td>\n",
       "      <td>2018-07-12 18:55:14</td>\n",
       "    </tr>\n",
       "  </tbody>\n",
       "</table>\n",
       "<p>5 rows × 35 columns</p>\n",
       "</div>"
      ],
      "text/plain": [
       "                             mql_id first_contact_date  \\\n",
       "0  5420aad7fec3549a85876ba1c529bd84         2018-02-21   \n",
       "1  5420aad7fec3549a85876ba1c529bd84         2018-02-21   \n",
       "2  5420aad7fec3549a85876ba1c529bd84         2018-02-21   \n",
       "3  327174d3648a2d047e8940d7d15204ca         2018-04-03   \n",
       "4  327174d3648a2d047e8940d7d15204ca         2018-04-03   \n",
       "\n",
       "                    landing_page_id          origin  \\\n",
       "0  b48ec5f3b04e9068441002a19df93c6c  organic_search   \n",
       "1  b48ec5f3b04e9068441002a19df93c6c  organic_search   \n",
       "2  b48ec5f3b04e9068441002a19df93c6c  organic_search   \n",
       "3  1ceb590cd1e00c7ee95220971f82693d  organic_search   \n",
       "4  1ceb590cd1e00c7ee95220971f82693d  organic_search   \n",
       "\n",
       "                          seller_id                            sdr_id  \\\n",
       "0  2c43fb513632d29b3b58df74816f1b06  a8387c01a09e99ce014107505b92388c   \n",
       "1  2c43fb513632d29b3b58df74816f1b06  a8387c01a09e99ce014107505b92388c   \n",
       "2  2c43fb513632d29b3b58df74816f1b06  a8387c01a09e99ce014107505b92388c   \n",
       "3  612170e34b97004b3ba37eae81836b4c  b90f87164b5f8c2cfa5c8572834dbe3f   \n",
       "4  612170e34b97004b3ba37eae81836b4c  b90f87164b5f8c2cfa5c8572834dbe3f   \n",
       "\n",
       "                              sr_id    won_date business_segment  \\\n",
       "0  4ef15afb4b2723d8f3d81e51ec7afefe  2018-02-26              pet   \n",
       "1  4ef15afb4b2723d8f3d81e51ec7afefe  2018-02-26              pet   \n",
       "2  4ef15afb4b2723d8f3d81e51ec7afefe  2018-02-26              pet   \n",
       "3  6565aa9ce3178a5caf6171827af3a9ba  2018-06-05  home_appliances   \n",
       "4  6565aa9ce3178a5caf6171827af3a9ba  2018-06-05  home_appliances   \n",
       "\n",
       "       lead_type  ... order_estimated_delivery_date order_item_id  \\\n",
       "0  online_medium  ...                    2018-07-13             1   \n",
       "1  online_medium  ...                    2018-08-07             1   \n",
       "2  online_medium  ...                    2018-07-17             1   \n",
       "3     online_big  ...                    2018-08-22             1   \n",
       "4     online_big  ...                    2018-07-23             1   \n",
       "\n",
       "                         product_id  shipping_limit_date  price  \\\n",
       "0  9bb2d066e4b33b624cbdfec7d50b3dcb           2018-06-27   99.8   \n",
       "1  9e0873e9ac04b12f282b81af5daebd2e           2018-07-30  664.0   \n",
       "2  e94df75b2e9a8b056be0c144a731f55c           2018-06-26   94.2   \n",
       "3  f4d2144023a238288d36db2840a37ea0           2018-08-15  170.0   \n",
       "4  22a8168cf1f1c6347da8d29863b7f75e           2018-07-11  296.5   \n",
       "\n",
       "   freight_value                         review_id review_score  \\\n",
       "0          15.00  b8e55f84a8b1dbfd424e7d03e743f0f5            5   \n",
       "1          38.41  5937d81cf570dcd7fd4fe8f5c9c293bc            1   \n",
       "2          18.76  5763c4c80bb958960d2d9091dd3dd86e            5   \n",
       "3          10.32  ad16c9c3b9b6c0f39b741311da0e57ec            5   \n",
       "4           9.66  c14dacc8a1cd7bbbe585c409d59c058a            4   \n",
       "\n",
       "  review_creation_date review_answer_timestamp  \n",
       "0           2018-06-26     2018-06-28 19:55:07  \n",
       "1           2018-07-28     2018-07-28 23:33:39  \n",
       "2           2018-06-27     2018-06-30 17:14:07  \n",
       "3           2018-08-15     2018-08-15 22:20:09  \n",
       "4           2018-07-12     2018-07-12 18:55:14  \n",
       "\n",
       "[5 rows x 35 columns]"
      ]
     },
     "execution_count": 188,
     "metadata": {},
     "output_type": "execute_result"
    }
   ],
   "source": [
    "ord_seller_deals = seller_deal.merge(order, on='seller_id', how='inner')\n",
    "ord_seller_deals.head(5)"
   ]
  },
  {
   "cell_type": "code",
   "execution_count": 189,
   "metadata": {},
   "outputs": [
    {
     "data": {
      "text/plain": [
       "(4287, 35)"
      ]
     },
     "execution_count": 189,
     "metadata": {},
     "output_type": "execute_result"
    }
   ],
   "source": [
    "ord_seller_deals.shape"
   ]
  },
  {
   "cell_type": "code",
   "execution_count": 190,
   "metadata": {},
   "outputs": [
    {
     "data": {
      "text/plain": [
       "mql_id                           0\n",
       "first_contact_date               0\n",
       "landing_page_id                  0\n",
       "origin                           0\n",
       "seller_id                        0\n",
       "sdr_id                           0\n",
       "sr_id                            0\n",
       "won_date                         0\n",
       "business_segment                 0\n",
       "lead_type                        0\n",
       "lead_behaviour_profile           0\n",
       "average_stock                    0\n",
       "business_type                    0\n",
       "declared_product_catalog_size    0\n",
       "declared_monthly_revenue         0\n",
       "seller_zip_code_prefix           0\n",
       "seller_city                      0\n",
       "seller_state                     0\n",
       "order_id                         0\n",
       "customer_id                      0\n",
       "order_status                     0\n",
       "order_purchase_timestamp         0\n",
       "order_approved_at                0\n",
       "order_delivered_carrier_date     0\n",
       "order_delivered_customer_date    0\n",
       "order_estimated_delivery_date    0\n",
       "order_item_id                    0\n",
       "product_id                       0\n",
       "shipping_limit_date              0\n",
       "price                            0\n",
       "freight_value                    0\n",
       "review_id                        0\n",
       "review_score                     0\n",
       "review_creation_date             0\n",
       "review_answer_timestamp          0\n",
       "dtype: int64"
      ]
     },
     "execution_count": 190,
     "metadata": {},
     "output_type": "execute_result"
    }
   ],
   "source": [
    "ord_seller_deals.isnull().sum()"
   ]
  },
  {
   "cell_type": "code",
   "execution_count": 191,
   "metadata": {},
   "outputs": [
    {
     "data": {
      "text/html": [
       "<div>\n",
       "<style scoped>\n",
       "    .dataframe tbody tr th:only-of-type {\n",
       "        vertical-align: middle;\n",
       "    }\n",
       "\n",
       "    .dataframe tbody tr th {\n",
       "        vertical-align: top;\n",
       "    }\n",
       "\n",
       "    .dataframe thead th {\n",
       "        text-align: right;\n",
       "    }\n",
       "</style>\n",
       "<table border=\"1\" class=\"dataframe\">\n",
       "  <thead>\n",
       "    <tr style=\"text-align: right;\">\n",
       "      <th></th>\n",
       "      <th>mql_id</th>\n",
       "      <th>first_contact_date</th>\n",
       "      <th>landing_page_id</th>\n",
       "      <th>origin</th>\n",
       "      <th>seller_id</th>\n",
       "      <th>sdr_id</th>\n",
       "      <th>sr_id</th>\n",
       "      <th>won_date</th>\n",
       "      <th>business_segment</th>\n",
       "      <th>lead_type</th>\n",
       "      <th>...</th>\n",
       "      <th>product_id</th>\n",
       "      <th>shipping_limit_date</th>\n",
       "      <th>price</th>\n",
       "      <th>freight_value</th>\n",
       "      <th>review_id</th>\n",
       "      <th>review_score</th>\n",
       "      <th>review_creation_date</th>\n",
       "      <th>review_answer_timestamp</th>\n",
       "      <th>product_category_name</th>\n",
       "      <th>product_category_name_english</th>\n",
       "    </tr>\n",
       "  </thead>\n",
       "  <tbody>\n",
       "    <tr>\n",
       "      <th>0</th>\n",
       "      <td>5420aad7fec3549a85876ba1c529bd84</td>\n",
       "      <td>2018-02-21</td>\n",
       "      <td>b48ec5f3b04e9068441002a19df93c6c</td>\n",
       "      <td>organic_search</td>\n",
       "      <td>2c43fb513632d29b3b58df74816f1b06</td>\n",
       "      <td>a8387c01a09e99ce014107505b92388c</td>\n",
       "      <td>4ef15afb4b2723d8f3d81e51ec7afefe</td>\n",
       "      <td>2018-02-26</td>\n",
       "      <td>pet</td>\n",
       "      <td>online_medium</td>\n",
       "      <td>...</td>\n",
       "      <td>9bb2d066e4b33b624cbdfec7d50b3dcb</td>\n",
       "      <td>2018-06-27</td>\n",
       "      <td>99.8</td>\n",
       "      <td>15.00</td>\n",
       "      <td>b8e55f84a8b1dbfd424e7d03e743f0f5</td>\n",
       "      <td>5</td>\n",
       "      <td>2018-06-26</td>\n",
       "      <td>2018-06-28 19:55:07</td>\n",
       "      <td>pet_shop</td>\n",
       "      <td>pet_shop</td>\n",
       "    </tr>\n",
       "    <tr>\n",
       "      <th>1</th>\n",
       "      <td>5420aad7fec3549a85876ba1c529bd84</td>\n",
       "      <td>2018-02-21</td>\n",
       "      <td>b48ec5f3b04e9068441002a19df93c6c</td>\n",
       "      <td>organic_search</td>\n",
       "      <td>2c43fb513632d29b3b58df74816f1b06</td>\n",
       "      <td>a8387c01a09e99ce014107505b92388c</td>\n",
       "      <td>4ef15afb4b2723d8f3d81e51ec7afefe</td>\n",
       "      <td>2018-02-26</td>\n",
       "      <td>pet</td>\n",
       "      <td>online_medium</td>\n",
       "      <td>...</td>\n",
       "      <td>9e0873e9ac04b12f282b81af5daebd2e</td>\n",
       "      <td>2018-07-30</td>\n",
       "      <td>664.0</td>\n",
       "      <td>38.41</td>\n",
       "      <td>5937d81cf570dcd7fd4fe8f5c9c293bc</td>\n",
       "      <td>1</td>\n",
       "      <td>2018-07-28</td>\n",
       "      <td>2018-07-28 23:33:39</td>\n",
       "      <td>ferramentas_jardim</td>\n",
       "      <td>garden_tools</td>\n",
       "    </tr>\n",
       "    <tr>\n",
       "      <th>2</th>\n",
       "      <td>5420aad7fec3549a85876ba1c529bd84</td>\n",
       "      <td>2018-02-21</td>\n",
       "      <td>b48ec5f3b04e9068441002a19df93c6c</td>\n",
       "      <td>organic_search</td>\n",
       "      <td>2c43fb513632d29b3b58df74816f1b06</td>\n",
       "      <td>a8387c01a09e99ce014107505b92388c</td>\n",
       "      <td>4ef15afb4b2723d8f3d81e51ec7afefe</td>\n",
       "      <td>2018-02-26</td>\n",
       "      <td>pet</td>\n",
       "      <td>online_medium</td>\n",
       "      <td>...</td>\n",
       "      <td>e94df75b2e9a8b056be0c144a731f55c</td>\n",
       "      <td>2018-06-26</td>\n",
       "      <td>94.2</td>\n",
       "      <td>18.76</td>\n",
       "      <td>5763c4c80bb958960d2d9091dd3dd86e</td>\n",
       "      <td>5</td>\n",
       "      <td>2018-06-27</td>\n",
       "      <td>2018-06-30 17:14:07</td>\n",
       "      <td>pet_shop</td>\n",
       "      <td>pet_shop</td>\n",
       "    </tr>\n",
       "    <tr>\n",
       "      <th>3</th>\n",
       "      <td>327174d3648a2d047e8940d7d15204ca</td>\n",
       "      <td>2018-04-03</td>\n",
       "      <td>1ceb590cd1e00c7ee95220971f82693d</td>\n",
       "      <td>organic_search</td>\n",
       "      <td>612170e34b97004b3ba37eae81836b4c</td>\n",
       "      <td>b90f87164b5f8c2cfa5c8572834dbe3f</td>\n",
       "      <td>6565aa9ce3178a5caf6171827af3a9ba</td>\n",
       "      <td>2018-06-05</td>\n",
       "      <td>home_appliances</td>\n",
       "      <td>online_big</td>\n",
       "      <td>...</td>\n",
       "      <td>f4d2144023a238288d36db2840a37ea0</td>\n",
       "      <td>2018-08-15</td>\n",
       "      <td>170.0</td>\n",
       "      <td>10.32</td>\n",
       "      <td>ad16c9c3b9b6c0f39b741311da0e57ec</td>\n",
       "      <td>5</td>\n",
       "      <td>2018-08-15</td>\n",
       "      <td>2018-08-15 22:20:09</td>\n",
       "      <td>informatica_acessorios</td>\n",
       "      <td>computers_accessories</td>\n",
       "    </tr>\n",
       "    <tr>\n",
       "      <th>4</th>\n",
       "      <td>327174d3648a2d047e8940d7d15204ca</td>\n",
       "      <td>2018-04-03</td>\n",
       "      <td>1ceb590cd1e00c7ee95220971f82693d</td>\n",
       "      <td>organic_search</td>\n",
       "      <td>612170e34b97004b3ba37eae81836b4c</td>\n",
       "      <td>b90f87164b5f8c2cfa5c8572834dbe3f</td>\n",
       "      <td>6565aa9ce3178a5caf6171827af3a9ba</td>\n",
       "      <td>2018-06-05</td>\n",
       "      <td>home_appliances</td>\n",
       "      <td>online_big</td>\n",
       "      <td>...</td>\n",
       "      <td>f4d2144023a238288d36db2840a37ea0</td>\n",
       "      <td>2018-08-21</td>\n",
       "      <td>170.0</td>\n",
       "      <td>10.32</td>\n",
       "      <td>a4b9541289135fc814e0b293514b86ff</td>\n",
       "      <td>5</td>\n",
       "      <td>2018-08-22</td>\n",
       "      <td>2018-08-22 22:19:35</td>\n",
       "      <td>informatica_acessorios</td>\n",
       "      <td>computers_accessories</td>\n",
       "    </tr>\n",
       "  </tbody>\n",
       "</table>\n",
       "<p>5 rows × 37 columns</p>\n",
       "</div>"
      ],
      "text/plain": [
       "                             mql_id first_contact_date  \\\n",
       "0  5420aad7fec3549a85876ba1c529bd84         2018-02-21   \n",
       "1  5420aad7fec3549a85876ba1c529bd84         2018-02-21   \n",
       "2  5420aad7fec3549a85876ba1c529bd84         2018-02-21   \n",
       "3  327174d3648a2d047e8940d7d15204ca         2018-04-03   \n",
       "4  327174d3648a2d047e8940d7d15204ca         2018-04-03   \n",
       "\n",
       "                    landing_page_id          origin  \\\n",
       "0  b48ec5f3b04e9068441002a19df93c6c  organic_search   \n",
       "1  b48ec5f3b04e9068441002a19df93c6c  organic_search   \n",
       "2  b48ec5f3b04e9068441002a19df93c6c  organic_search   \n",
       "3  1ceb590cd1e00c7ee95220971f82693d  organic_search   \n",
       "4  1ceb590cd1e00c7ee95220971f82693d  organic_search   \n",
       "\n",
       "                          seller_id                            sdr_id  \\\n",
       "0  2c43fb513632d29b3b58df74816f1b06  a8387c01a09e99ce014107505b92388c   \n",
       "1  2c43fb513632d29b3b58df74816f1b06  a8387c01a09e99ce014107505b92388c   \n",
       "2  2c43fb513632d29b3b58df74816f1b06  a8387c01a09e99ce014107505b92388c   \n",
       "3  612170e34b97004b3ba37eae81836b4c  b90f87164b5f8c2cfa5c8572834dbe3f   \n",
       "4  612170e34b97004b3ba37eae81836b4c  b90f87164b5f8c2cfa5c8572834dbe3f   \n",
       "\n",
       "                              sr_id    won_date business_segment  \\\n",
       "0  4ef15afb4b2723d8f3d81e51ec7afefe  2018-02-26              pet   \n",
       "1  4ef15afb4b2723d8f3d81e51ec7afefe  2018-02-26              pet   \n",
       "2  4ef15afb4b2723d8f3d81e51ec7afefe  2018-02-26              pet   \n",
       "3  6565aa9ce3178a5caf6171827af3a9ba  2018-06-05  home_appliances   \n",
       "4  6565aa9ce3178a5caf6171827af3a9ba  2018-06-05  home_appliances   \n",
       "\n",
       "       lead_type  ...                        product_id shipping_limit_date  \\\n",
       "0  online_medium  ...  9bb2d066e4b33b624cbdfec7d50b3dcb          2018-06-27   \n",
       "1  online_medium  ...  9e0873e9ac04b12f282b81af5daebd2e          2018-07-30   \n",
       "2  online_medium  ...  e94df75b2e9a8b056be0c144a731f55c          2018-06-26   \n",
       "3     online_big  ...  f4d2144023a238288d36db2840a37ea0          2018-08-15   \n",
       "4     online_big  ...  f4d2144023a238288d36db2840a37ea0          2018-08-21   \n",
       "\n",
       "   price  freight_value                         review_id  review_score  \\\n",
       "0   99.8          15.00  b8e55f84a8b1dbfd424e7d03e743f0f5             5   \n",
       "1  664.0          38.41  5937d81cf570dcd7fd4fe8f5c9c293bc             1   \n",
       "2   94.2          18.76  5763c4c80bb958960d2d9091dd3dd86e             5   \n",
       "3  170.0          10.32  ad16c9c3b9b6c0f39b741311da0e57ec             5   \n",
       "4  170.0          10.32  a4b9541289135fc814e0b293514b86ff             5   \n",
       "\n",
       "  review_creation_date review_answer_timestamp   product_category_name  \\\n",
       "0           2018-06-26     2018-06-28 19:55:07                pet_shop   \n",
       "1           2018-07-28     2018-07-28 23:33:39      ferramentas_jardim   \n",
       "2           2018-06-27     2018-06-30 17:14:07                pet_shop   \n",
       "3           2018-08-15     2018-08-15 22:20:09  informatica_acessorios   \n",
       "4           2018-08-22     2018-08-22 22:19:35  informatica_acessorios   \n",
       "\n",
       "  product_category_name_english  \n",
       "0                      pet_shop  \n",
       "1                  garden_tools  \n",
       "2                      pet_shop  \n",
       "3         computers_accessories  \n",
       "4         computers_accessories  \n",
       "\n",
       "[5 rows x 37 columns]"
      ]
     },
     "execution_count": 191,
     "metadata": {},
     "output_type": "execute_result"
    }
   ],
   "source": [
    "Olist = ord_seller_deals.merge(product, on='product_id', how='inner')\n",
    "Olist.head(5)"
   ]
  },
  {
   "cell_type": "code",
   "execution_count": 192,
   "metadata": {},
   "outputs": [
    {
     "data": {
      "text/plain": [
       "(4251, 37)"
      ]
     },
     "execution_count": 192,
     "metadata": {},
     "output_type": "execute_result"
    }
   ],
   "source": [
    "Olist.shape"
   ]
  },
  {
   "cell_type": "code",
   "execution_count": 193,
   "metadata": {},
   "outputs": [
    {
     "data": {
      "text/plain": [
       "mql_id                           0\n",
       "first_contact_date               0\n",
       "landing_page_id                  0\n",
       "origin                           0\n",
       "seller_id                        0\n",
       "sdr_id                           0\n",
       "sr_id                            0\n",
       "won_date                         0\n",
       "business_segment                 0\n",
       "lead_type                        0\n",
       "lead_behaviour_profile           0\n",
       "average_stock                    0\n",
       "business_type                    0\n",
       "declared_product_catalog_size    0\n",
       "declared_monthly_revenue         0\n",
       "seller_zip_code_prefix           0\n",
       "seller_city                      0\n",
       "seller_state                     0\n",
       "order_id                         0\n",
       "customer_id                      0\n",
       "order_status                     0\n",
       "order_purchase_timestamp         0\n",
       "order_approved_at                0\n",
       "order_delivered_carrier_date     0\n",
       "order_delivered_customer_date    0\n",
       "order_estimated_delivery_date    0\n",
       "order_item_id                    0\n",
       "product_id                       0\n",
       "shipping_limit_date              0\n",
       "price                            0\n",
       "freight_value                    0\n",
       "review_id                        0\n",
       "review_score                     0\n",
       "review_creation_date             0\n",
       "review_answer_timestamp          0\n",
       "product_category_name            0\n",
       "product_category_name_english    0\n",
       "dtype: int64"
      ]
     },
     "execution_count": 193,
     "metadata": {},
     "output_type": "execute_result"
    }
   ],
   "source": [
    "Olist.isnull().sum()"
   ]
  },
  {
   "cell_type": "code",
   "execution_count": null,
   "metadata": {},
   "outputs": [],
   "source": []
  },
  {
   "cell_type": "code",
   "execution_count": null,
   "metadata": {},
   "outputs": [],
   "source": []
  },
  {
   "cell_type": "code",
   "execution_count": null,
   "metadata": {},
   "outputs": [],
   "source": []
  },
  {
   "cell_type": "code",
   "execution_count": null,
   "metadata": {},
   "outputs": [],
   "source": []
  }
 ],
 "metadata": {
  "kernelspec": {
   "display_name": "Python 3",
   "language": "python",
   "name": "python3"
  },
  "language_info": {
   "codemirror_mode": {
    "name": "ipython",
    "version": 3
   },
   "file_extension": ".py",
   "mimetype": "text/x-python",
   "name": "python",
   "nbconvert_exporter": "python",
   "pygments_lexer": "ipython3",
   "version": "3.6.8"
  }
 },
 "nbformat": 4,
 "nbformat_minor": 2
}
